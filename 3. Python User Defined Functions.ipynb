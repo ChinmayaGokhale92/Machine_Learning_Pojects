{
 "cells": [
  {
   "cell_type": "markdown",
   "metadata": {},
   "source": [
    "# User Defined Functions in Python\n",
    "\n",
    "Functions are defined in Python using \"def\" keyword.\n",
    "\n",
    "A function is a block of organized, reusable code that is used to perform a single, related action. Functions provide better modularity for your application and a high degree of code reusing.\n",
    "\n",
    "As you already know, Python gives you many built-in functions like print(), etc. but you can also create your own functions. These functions are called user-defined functions.\n",
    "\n",
    "You can define functions to provide the required functionality. Here are simple rules to define a function in Python.\n",
    "\n",
    "* Function blocks begin with the keyword def followed by the function name and parentheses ( ( ) ).\n",
    "\n",
    "* Any input parameters or arguments should be placed within these parentheses. You can also define parameters inside these parentheses.\n",
    "\n",
    "* The first statement of a function can be an optional statement - the documentation string of the function or docstring.\n",
    "\n",
    "* The code block within every function starts with a colon (:) and is indented.\n",
    "\n",
    "* The statement return [expression] exits a function, optionally passing back an expression to the caller. A return statement with no arguments is the same as return None."
   ]
  },
  {
   "cell_type": "code",
   "execution_count": null,
   "metadata": {},
   "outputs": [],
   "source": []
  },
  {
   "cell_type": "code",
   "execution_count": 3,
   "metadata": {},
   "outputs": [],
   "source": [
    "# Defining the function\n",
    "def FunctionDemo():\n",
    "    print('hello python')\n",
    "    print('second line')"
   ]
  },
  {
   "cell_type": "code",
   "execution_count": 4,
   "metadata": {},
   "outputs": [
    {
     "name": "stdout",
     "output_type": "stream",
     "text": [
      "hello python\n",
      "second line\n"
     ]
    }
   ],
   "source": [
    "# Calling the Function \n",
    "FunctionDemo()"
   ]
  },
  {
   "cell_type": "code",
   "execution_count": 5,
   "metadata": {},
   "outputs": [
    {
     "name": "stdout",
     "output_type": "stream",
     "text": [
      "Variable       Type        Data/Info\n",
      "------------------------------------\n",
      "FunctionDemo   function    <function FunctionDemo at 0x10d84b290>\n"
     ]
    }
   ],
   "source": [
    "%whos"
   ]
  },
  {
   "cell_type": "code",
   "execution_count": 6,
   "metadata": {
    "scrolled": true
   },
   "outputs": [
    {
     "data": {
      "text/plain": [
       "function"
      ]
     },
     "execution_count": 6,
     "metadata": {},
     "output_type": "execute_result"
    }
   ],
   "source": [
    "type(FunctionDemo)"
   ]
  },
  {
   "cell_type": "code",
   "execution_count": 12,
   "metadata": {},
   "outputs": [],
   "source": []
  },
  {
   "cell_type": "code",
   "execution_count": null,
   "metadata": {},
   "outputs": [],
   "source": []
  },
  {
   "cell_type": "code",
   "execution_count": 20,
   "metadata": {},
   "outputs": [],
   "source": [
    "# Defining a function with user input\n",
    "def FunctionDemo2(inpNum):\n",
    "    print('hello')\n",
    "    print('your input is', inpNum)"
   ]
  },
  {
   "cell_type": "code",
   "execution_count": 21,
   "metadata": {},
   "outputs": [
    {
     "name": "stdout",
     "output_type": "stream",
     "text": [
      "hello\n",
      "your input is 10\n"
     ]
    }
   ],
   "source": [
    "# Calling the function with number\n",
    "FunctionDemo2(10)"
   ]
  },
  {
   "cell_type": "code",
   "execution_count": 22,
   "metadata": {},
   "outputs": [
    {
     "name": "stdout",
     "output_type": "stream",
     "text": [
      "hello\n",
      "your input is bye\n"
     ]
    }
   ],
   "source": [
    "# Calling the function with string\n",
    "FunctionDemo2('bye')"
   ]
  },
  {
   "cell_type": "code",
   "execution_count": null,
   "metadata": {
    "collapsed": true
   },
   "outputs": [],
   "source": []
  },
  {
   "cell_type": "code",
   "execution_count": 33,
   "metadata": {},
   "outputs": [
    {
     "name": "stdout",
     "output_type": "stream",
     "text": [
      "please enter a value\n",
      "3200\n",
      "<class 'int'>\n",
      "your input is: 3200\n"
     ]
    }
   ],
   "source": [
    "# Accepting a interactive user input\n",
    "def FunctionUserInp():\n",
    "    %matplotlib inline\n",
    "    print('please enter a value')\n",
    "    userInp=input()\n",
    "    userInp=int(userInp) #use only if you need a number\n",
    "    print(type(userInp))\n",
    "    print('your input is:', userInp)\n",
    "    \n",
    "# Calling the function\n",
    "FunctionUserInp()"
   ]
  },
  {
   "cell_type": "code",
   "execution_count": null,
   "metadata": {},
   "outputs": [],
   "source": []
  },
  {
   "cell_type": "code",
   "execution_count": 25,
   "metadata": {},
   "outputs": [],
   "source": [
    "# Defining a function with two arguments\n",
    "def FunctionAdd(num1, num2):\n",
    "    sumValue=num1+num2\n",
    "    print('the sum of',num1,'and',num2, 'is:', sumValue)"
   ]
  },
  {
   "cell_type": "code",
   "execution_count": 30,
   "metadata": {},
   "outputs": [
    {
     "name": "stdout",
     "output_type": "stream",
     "text": [
      "the sum of 4 and 5 is: 9\n"
     ]
    }
   ],
   "source": [
    "# Positional call\n",
    "FunctionAdd(4,5)"
   ]
  },
  {
   "cell_type": "code",
   "execution_count": 27,
   "metadata": {},
   "outputs": [
    {
     "name": "stdout",
     "output_type": "stream",
     "text": [
      "the sum of 4 and 50 is: 54\n"
     ]
    }
   ],
   "source": [
    "# positional call\n",
    "FunctionAdd(4,50)"
   ]
  },
  {
   "cell_type": "code",
   "execution_count": 35,
   "metadata": {},
   "outputs": [
    {
     "name": "stdout",
     "output_type": "stream",
     "text": [
      "the sum of 4 and 5 is: 9\n"
     ]
    }
   ],
   "source": [
    "# Call by reference\n",
    "# preferred way to call your functions\n",
    "FunctionAdd(num2=5, num1=4)"
   ]
  },
  {
   "cell_type": "code",
   "execution_count": null,
   "metadata": {},
   "outputs": [],
   "source": []
  },
  {
   "cell_type": "code",
   "execution_count": 45,
   "metadata": {},
   "outputs": [],
   "source": [
    "# Defining a function with default argument values\n",
    "def FunctionAddDefault(num1=10, num2=20):\n",
    "    sumValue=num1+num2\n",
    "    print('the sum of',num1,'and',num2, 'is:', sumValue)\n",
    "    return sumValue"
   ]
  },
  {
   "cell_type": "code",
   "execution_count": 50,
   "metadata": {},
   "outputs": [
    {
     "name": "stdout",
     "output_type": "stream",
     "text": [
      "the sum of 10 and 100 is: 110\n"
     ]
    },
    {
     "data": {
      "text/plain": [
       "110"
      ]
     },
     "execution_count": 50,
     "metadata": {},
     "output_type": "execute_result"
    }
   ],
   "source": [
    "# Calling without any inputs, using default values\n",
    "FunctionAddDefault(10,100)"
   ]
  },
  {
   "cell_type": "code",
   "execution_count": 47,
   "metadata": {},
   "outputs": [
    {
     "name": "stdout",
     "output_type": "stream",
     "text": [
      "the sum of 2 and 30 is: 32\n"
     ]
    },
    {
     "data": {
      "text/plain": [
       "32"
      ]
     },
     "execution_count": 47,
     "metadata": {},
     "output_type": "execute_result"
    }
   ],
   "source": [
    "# Calling with inputs, it will overwrite the defaults\n",
    "FunctionAddDefault(num1=2, num2=30)"
   ]
  },
  {
   "cell_type": "code",
   "execution_count": 48,
   "metadata": {},
   "outputs": [
    {
     "name": "stdout",
     "output_type": "stream",
     "text": [
      "the sum of 20 and 4 is: 24\n"
     ]
    }
   ],
   "source": [
    "mySum=FunctionAddDefault(20,4)"
   ]
  },
  {
   "cell_type": "code",
   "execution_count": 49,
   "metadata": {},
   "outputs": [
    {
     "data": {
      "text/plain": [
       "24"
      ]
     },
     "execution_count": 49,
     "metadata": {},
     "output_type": "execute_result"
    }
   ],
   "source": [
    "mySum"
   ]
  },
  {
   "cell_type": "code",
   "execution_count": null,
   "metadata": {},
   "outputs": [],
   "source": []
  },
  {
   "cell_type": "code",
   "execution_count": 51,
   "metadata": {},
   "outputs": [],
   "source": [
    "# Defining a function with a return statement\n",
    "def FunctionAddDefault(num1=10, num2=20):\n",
    "    sumValue=num1+num2\n",
    "    multiplyValue=num1*num2\n",
    "    print('the sum of',num1,'and',num2, 'is:', sumValue)\n",
    "    print('the multiplication of',num1,'and',num2, 'is:', multiplyValue)\n",
    "    # return must be the last statement\n",
    "    # there must be only one return statement\n",
    "    # you can return multiple values at once\n",
    "    return sumValue, multiplyValue"
   ]
  },
  {
   "cell_type": "code",
   "execution_count": 52,
   "metadata": {},
   "outputs": [
    {
     "name": "stdout",
     "output_type": "stream",
     "text": [
      "the sum of 20 and 100 is: 120\n",
      "the multiplication of 20 and 100 is: 2000\n"
     ]
    }
   ],
   "source": [
    "# The output of the function can be stored\n",
    "# in the same order in which the values are returned\n",
    "sumResult, prodResult = FunctionAddDefault(num1=20, num2=100)"
   ]
  },
  {
   "cell_type": "code",
   "execution_count": 53,
   "metadata": {},
   "outputs": [
    {
     "name": "stdout",
     "output_type": "stream",
     "text": [
      "sumResult: 120\n",
      "prodResult: 2000\n"
     ]
    }
   ],
   "source": [
    "# Printing the results\n",
    "print('sumResult:',sumResult)\n",
    "print('prodResult:',prodResult)"
   ]
  },
  {
   "cell_type": "code",
   "execution_count": null,
   "metadata": {
    "collapsed": true
   },
   "outputs": [],
   "source": [
    "# Create a function named FunctionArea\n",
    "# which takes one input, the radius of a circle\n",
    "# and prints the area\n",
    "# FunctionArea(inpRadius=10)\n",
    "# The area of circle with radius 10 is 314"
   ]
  },
  {
   "cell_type": "code",
   "execution_count": null,
   "metadata": {},
   "outputs": [],
   "source": []
  },
  {
   "cell_type": "code",
   "execution_count": 56,
   "metadata": {},
   "outputs": [],
   "source": [
    "# Defining the function\n",
    "def FunctionArea(inpRadius):\n",
    "    CircleArea=3.14*inpRadius**2\n",
    "    print('Area of a circle with radius', inpRadius, 'is', CircleArea)"
   ]
  },
  {
   "cell_type": "code",
   "execution_count": 60,
   "metadata": {},
   "outputs": [
    {
     "name": "stdout",
     "output_type": "stream",
     "text": [
      "Area of a circle with radius 7 is 153.86\n"
     ]
    }
   ],
   "source": [
    "# calling the function\n",
    "FunctionArea(inpRadius=7)"
   ]
  },
  {
   "cell_type": "code",
   "execution_count": null,
   "metadata": {},
   "outputs": [],
   "source": [
    "# Create a function named FunctionCircumference\n",
    "# which takes one input, the radius of a circle\n",
    "# and prints the circumference\n",
    "# FunctionCircumference(inpRadius=10)\n",
    "# The circumference of circle with radius 10 is 62.80"
   ]
  },
  {
   "cell_type": "code",
   "execution_count": null,
   "metadata": {},
   "outputs": [],
   "source": []
  },
  {
   "cell_type": "code",
   "execution_count": 66,
   "metadata": {},
   "outputs": [
    {
     "name": "stdout",
     "output_type": "stream",
     "text": [
      "The list has 5 values in it\n"
     ]
    }
   ],
   "source": [
    "# Create a function which takes a list as an input\n",
    "# It prints the number of values inside it\n",
    "\n",
    "# Sample Function call\n",
    "FunctionCount(inpList=[1,2,3,3,66])\n",
    "# Expected Output:  The list has 4 values in it"
   ]
  },
  {
   "cell_type": "code",
   "execution_count": 45,
   "metadata": {},
   "outputs": [],
   "source": []
  },
  {
   "cell_type": "code",
   "execution_count": null,
   "metadata": {},
   "outputs": [],
   "source": []
  },
  {
   "cell_type": "code",
   "execution_count": null,
   "metadata": {},
   "outputs": [],
   "source": []
  },
  {
   "cell_type": "code",
   "execution_count": null,
   "metadata": {},
   "outputs": [],
   "source": []
  },
  {
   "cell_type": "code",
   "execution_count": null,
   "metadata": {},
   "outputs": [],
   "source": []
  },
  {
   "cell_type": "markdown",
   "metadata": {},
   "source": [
    "## Class Exercices"
   ]
  },
  {
   "cell_type": "code",
   "execution_count": 306,
   "metadata": {
    "scrolled": true
   },
   "outputs": [
    {
     "name": "stdout",
     "output_type": "stream",
     "text": [
      "The area of the circle with radius 20 is 1256.0\n"
     ]
    }
   ],
   "source": [
    "def FunctionArea(radius):\n",
    "    area=3.14*radius**2\n",
    "    print('The area of the circle with radius',radius,'is', area)\n",
    "\n",
    "FunctionArea(radius=20)"
   ]
  },
  {
   "cell_type": "code",
   "execution_count": null,
   "metadata": {
    "collapsed": true
   },
   "outputs": [],
   "source": []
  },
  {
   "cell_type": "code",
   "execution_count": 307,
   "metadata": {},
   "outputs": [
    {
     "name": "stdout",
     "output_type": "stream",
     "text": [
      "the length of the list is 5\n"
     ]
    }
   ],
   "source": [
    "def FunctionFindlength(inpList):\n",
    "    ListLength=len(inpList)\n",
    "    print('the length of the list is', ListLength)\n",
    "\n",
    "mylist=[20,30,40,50,2]\n",
    "FunctionFindlength(mylist)"
   ]
  },
  {
   "cell_type": "code",
   "execution_count": null,
   "metadata": {
    "collapsed": true
   },
   "outputs": [],
   "source": []
  },
  {
   "cell_type": "code",
   "execution_count": 48,
   "metadata": {},
   "outputs": [
    {
     "name": "stdout",
     "output_type": "stream",
     "text": [
      "the max value in the list is 30\n"
     ]
    },
    {
     "data": {
      "text/plain": [
       "(30, 40)"
      ]
     },
     "execution_count": 48,
     "metadata": {},
     "output_type": "execute_result"
    }
   ],
   "source": [
    "def FunctionFindMax(inpList):\n",
    "    MaxValue=max(inpList)\n",
    "    print('the max value in the list is',MaxValue)\n",
    "    MaxValuePlus=MaxValue+10\n",
    "    return MaxValue, MaxValuePlus\n",
    "\n",
    "FunctionFindMax([20,30,3,10])"
   ]
  },
  {
   "cell_type": "code",
   "execution_count": 49,
   "metadata": {},
   "outputs": [
    {
     "name": "stdout",
     "output_type": "stream",
     "text": [
      "the max value in the list is 30\n"
     ]
    }
   ],
   "source": [
    "Max_Value1, Max_Value2=FunctionFindMax([20,30,3,10])"
   ]
  },
  {
   "cell_type": "code",
   "execution_count": 68,
   "metadata": {},
   "outputs": [
    {
     "data": {
      "text/plain": [
       "30"
      ]
     },
     "execution_count": 68,
     "metadata": {},
     "output_type": "execute_result"
    }
   ],
   "source": [
    "Max_Value1"
   ]
  },
  {
   "cell_type": "code",
   "execution_count": 69,
   "metadata": {},
   "outputs": [
    {
     "data": {
      "text/plain": [
       "40"
      ]
     },
     "execution_count": 69,
     "metadata": {},
     "output_type": "execute_result"
    }
   ],
   "source": [
    "Max_Value2"
   ]
  },
  {
   "cell_type": "code",
   "execution_count": 50,
   "metadata": {},
   "outputs": [],
   "source": [
    "import pandas as pd\n",
    "CarPricesData=pd.read_csv('CarPricesData.csv')"
   ]
  },
  {
   "cell_type": "code",
   "execution_count": null,
   "metadata": {},
   "outputs": [],
   "source": []
  },
  {
   "cell_type": "code",
   "execution_count": 66,
   "metadata": {},
   "outputs": [
    {
     "name": "stdout",
     "output_type": "stream",
     "text": [
      "the data details are\n",
      "<class 'pandas.core.frame.DataFrame'>\n",
      "RangeIndex: 1436 entries, 0 to 1435\n",
      "Data columns (total 10 columns):\n",
      "Price        1436 non-null int64\n",
      "Age          1434 non-null float64\n",
      "KM           1436 non-null int64\n",
      "FuelType     1432 non-null object\n",
      "HP           1436 non-null int64\n",
      "MetColor     1436 non-null int64\n",
      "Automatic    1436 non-null int64\n",
      "CC           1434 non-null float64\n",
      "Doors        1436 non-null int64\n",
      "Weight       1434 non-null float64\n",
      "dtypes: float64(3), int64(6), object(1)\n",
      "memory usage: 112.3+ KB\n",
      "None\n",
      "######################################################################\n",
      "               Price          Age             KM FuelType           HP  \\\n",
      "count    1436.000000  1434.000000    1436.000000     1432  1436.000000   \n",
      "unique           NaN          NaN            NaN        3          NaN   \n",
      "top              NaN          NaN            NaN   Petrol          NaN   \n",
      "freq             NaN          NaN            NaN     1260          NaN   \n",
      "mean    10730.824513    55.986750   68533.259749      NaN   101.502089   \n",
      "std      3626.964585    18.581796   37506.448872      NaN    14.981080   \n",
      "min      4350.000000     1.000000       1.000000      NaN    69.000000   \n",
      "25%      8450.000000    44.000000   43000.000000      NaN    90.000000   \n",
      "50%      9900.000000    61.000000   63389.500000      NaN   110.000000   \n",
      "75%     11950.000000    70.000000   87020.750000      NaN   110.000000   \n",
      "max     32500.000000    80.000000  243000.000000      NaN   192.000000   \n",
      "\n",
      "           MetColor    Automatic           CC        Doors       Weight  \n",
      "count   1436.000000  1436.000000  1434.000000  1436.000000  1434.000000  \n",
      "unique          NaN          NaN          NaN          NaN          NaN  \n",
      "top             NaN          NaN          NaN          NaN          NaN  \n",
      "freq            NaN          NaN          NaN          NaN          NaN  \n",
      "mean       0.674791     0.055710  1566.990934     4.033426  1072.487448  \n",
      "std        0.468616     0.229441   187.178221     0.952677    52.672475  \n",
      "min        0.000000     0.000000  1300.000000     2.000000  1000.000000  \n",
      "25%        0.000000     0.000000  1400.000000     3.000000  1040.000000  \n",
      "50%        1.000000     0.000000  1600.000000     4.000000  1070.000000  \n",
      "75%        1.000000     0.000000  1600.000000     5.000000  1085.000000  \n",
      "max        1.000000     1.000000  2000.000000     5.000000  1615.000000  \n",
      "###################################################################### \n",
      "\n",
      "(1436, 10)\n",
      "######################################################################\n",
      "Index(['Price', 'Age', 'KM', 'FuelType', 'HP', 'MetColor', 'Automatic', 'CC',\n",
      "       'Doors', 'Weight'],\n",
      "      dtype='object')\n"
     ]
    }
   ],
   "source": [
    "def FunctionPrintDataDetails(inpData):\n",
    "    print(\"the data details are\")\n",
    "    print(inpData.info())\n",
    "    print(\"#\"*70)\n",
    "    print(inpData.describe(include='all'))\n",
    "    print(\"#\"*70)\n",
    "    print(inpData.shape)\n",
    "    print(\"#\"*70)\n",
    "    print(inpData.columns)\n",
    "\n",
    "# Calling the function\n",
    "FunctionPrintDataDetails(inpData=CarPricesData)\n",
    "# Call this function for data Iris"
   ]
  },
  {
   "cell_type": "code",
   "execution_count": 54,
   "metadata": {},
   "outputs": [
    {
     "data": {
      "text/plain": [
       "(1436, 10)"
      ]
     },
     "execution_count": 54,
     "metadata": {},
     "output_type": "execute_result"
    }
   ],
   "source": [
    "CarPricesData.shape"
   ]
  },
  {
   "cell_type": "code",
   "execution_count": null,
   "metadata": {},
   "outputs": [],
   "source": []
  },
  {
   "cell_type": "code",
   "execution_count": 33,
   "metadata": {},
   "outputs": [
    {
     "name": "stdout",
     "output_type": "stream",
     "text": [
      "the number of rows are:  1436\n",
      "**********\n",
      "the number of cols are:  10\n"
     ]
    }
   ],
   "source": [
    "def FunctionPrintDataDims(inpData):\n",
    "    DataRows=inpData.shape[0]\n",
    "    DataCols=inpData.shape[1]\n",
    "    print(\"the number of rows are: \",DataRows)\n",
    "    print(\"*\"*10)\n",
    "    print(\"the number of cols are: \",DataCols)\n",
    "\n",
    "# Calling the function\n",
    "FunctionPrintDataDims(inpData=CarPricesData)"
   ]
  },
  {
   "cell_type": "code",
   "execution_count": null,
   "metadata": {
    "collapsed": true
   },
   "outputs": [],
   "source": []
  },
  {
   "cell_type": "code",
   "execution_count": 57,
   "metadata": {},
   "outputs": [
    {
     "name": "stdout",
     "output_type": "stream",
     "text": [
      "   Price   Age     KM FuelType  HP  MetColor  Automatic      CC  Doors  Weight\n",
      "0  13500  23.0  46986   Diesel  90         1          0  2000.0      3  1165.0\n",
      "1  13750  23.0  72937   Diesel  90         1          0  2000.0      3  1165.0\n"
     ]
    }
   ],
   "source": [
    "# Write a function to take input of a dataframe and print top rows from it\n",
    "# FunctionPrintTopRows(DataIris, 20) <-- this function call should \n",
    "# print top 20 rows of DataIris\n",
    "def FunctionPrintTopNRows(inpData, nRows):\n",
    "    print(inpData.head(nRows))\n",
    "\n",
    "# Function Call\n",
    "FunctionPrintTopNRows(inpData=CarPricesData, nRows=2)"
   ]
  },
  {
   "cell_type": "code",
   "execution_count": null,
   "metadata": {},
   "outputs": [],
   "source": []
  },
  {
   "cell_type": "code",
   "execution_count": 1,
   "metadata": {},
   "outputs": [],
   "source": [
    "# Create a function which take dataframe as input and a range of row indexes to print only those rows"
   ]
  },
  {
   "cell_type": "code",
   "execution_count": null,
   "metadata": {},
   "outputs": [],
   "source": []
  },
  {
   "cell_type": "code",
   "execution_count": 58,
   "metadata": {},
   "outputs": [],
   "source": [
    "def FunctionPrintTopNRows(inpData, startIndex, endIndex):\n",
    "    print(inpData.iloc[startIndex:endIndex, ])"
   ]
  },
  {
   "cell_type": "code",
   "execution_count": 60,
   "metadata": {},
   "outputs": [
    {
     "name": "stdout",
     "output_type": "stream",
     "text": [
      "   Price   Age     KM FuelType  HP  MetColor  Automatic      CC  Doors  Weight\n",
      "1  13750  23.0  72937   Diesel  90         1          0  2000.0      3  1165.0\n",
      "2  13950  24.0  41711   Diesel  90         1          0  2000.0      3  1165.0\n"
     ]
    }
   ],
   "source": [
    "FunctionPrintTopNRows(inpData=CarPricesData, startIndex=1, endIndex=3)"
   ]
  },
  {
   "cell_type": "code",
   "execution_count": null,
   "metadata": {},
   "outputs": [],
   "source": []
  },
  {
   "cell_type": "code",
   "execution_count": 64,
   "metadata": {},
   "outputs": [],
   "source": [
    "# Write a function which takes a list of columns and dataframe as input\n",
    "# It returns the data subset by choosing only the given columns\n",
    "# Sample Call-1\n",
    "dataSubset=FunctionSubset(inpData=CarPricesData, SelectCols=['Price', 'Age', 'KM'])\n",
    "\n",
    "# Sample Call-2\n",
    "#dataSubset=FunctionSubset(inpData=BostonHousingData, SelectCols=['MEDV', 'ZN','PTRATIO'])"
   ]
  },
  {
   "cell_type": "code",
   "execution_count": null,
   "metadata": {},
   "outputs": [],
   "source": []
  },
  {
   "cell_type": "code",
   "execution_count": 65,
   "metadata": {},
   "outputs": [
    {
     "data": {
      "text/html": [
       "<div>\n",
       "<style scoped>\n",
       "    .dataframe tbody tr th:only-of-type {\n",
       "        vertical-align: middle;\n",
       "    }\n",
       "\n",
       "    .dataframe tbody tr th {\n",
       "        vertical-align: top;\n",
       "    }\n",
       "\n",
       "    .dataframe thead th {\n",
       "        text-align: right;\n",
       "    }\n",
       "</style>\n",
       "<table border=\"1\" class=\"dataframe\">\n",
       "  <thead>\n",
       "    <tr style=\"text-align: right;\">\n",
       "      <th></th>\n",
       "      <th>Price</th>\n",
       "      <th>Age</th>\n",
       "      <th>KM</th>\n",
       "    </tr>\n",
       "  </thead>\n",
       "  <tbody>\n",
       "    <tr>\n",
       "      <td>0</td>\n",
       "      <td>13500</td>\n",
       "      <td>23.0</td>\n",
       "      <td>46986</td>\n",
       "    </tr>\n",
       "    <tr>\n",
       "      <td>1</td>\n",
       "      <td>13750</td>\n",
       "      <td>23.0</td>\n",
       "      <td>72937</td>\n",
       "    </tr>\n",
       "    <tr>\n",
       "      <td>2</td>\n",
       "      <td>13950</td>\n",
       "      <td>24.0</td>\n",
       "      <td>41711</td>\n",
       "    </tr>\n",
       "    <tr>\n",
       "      <td>3</td>\n",
       "      <td>14950</td>\n",
       "      <td>26.0</td>\n",
       "      <td>48000</td>\n",
       "    </tr>\n",
       "    <tr>\n",
       "      <td>4</td>\n",
       "      <td>13750</td>\n",
       "      <td>30.0</td>\n",
       "      <td>38500</td>\n",
       "    </tr>\n",
       "  </tbody>\n",
       "</table>\n",
       "</div>"
      ],
      "text/plain": [
       "   Price   Age     KM\n",
       "0  13500  23.0  46986\n",
       "1  13750  23.0  72937\n",
       "2  13950  24.0  41711\n",
       "3  14950  26.0  48000\n",
       "4  13750  30.0  38500"
      ]
     },
     "execution_count": 65,
     "metadata": {},
     "output_type": "execute_result"
    }
   ],
   "source": [
    "dataSubset.head()"
   ]
  },
  {
   "cell_type": "code",
   "execution_count": 61,
   "metadata": {},
   "outputs": [],
   "source": []
  },
  {
   "cell_type": "code",
   "execution_count": null,
   "metadata": {},
   "outputs": [],
   "source": []
  },
  {
   "cell_type": "code",
   "execution_count": 67,
   "metadata": {},
   "outputs": [],
   "source": [
    "# Write a function which takes a list of columns and dataframe as input\n",
    "# It returns the data subset by deleting only the given columns\n",
    "dataSubset=FunctionDelete(inpData=CarPricesData, deleteCols=['Price', 'Age'])"
   ]
  },
  {
   "cell_type": "code",
   "execution_count": null,
   "metadata": {},
   "outputs": [],
   "source": []
  },
  {
   "cell_type": "code",
   "execution_count": 68,
   "metadata": {},
   "outputs": [
    {
     "data": {
      "text/html": [
       "<div>\n",
       "<style scoped>\n",
       "    .dataframe tbody tr th:only-of-type {\n",
       "        vertical-align: middle;\n",
       "    }\n",
       "\n",
       "    .dataframe tbody tr th {\n",
       "        vertical-align: top;\n",
       "    }\n",
       "\n",
       "    .dataframe thead th {\n",
       "        text-align: right;\n",
       "    }\n",
       "</style>\n",
       "<table border=\"1\" class=\"dataframe\">\n",
       "  <thead>\n",
       "    <tr style=\"text-align: right;\">\n",
       "      <th></th>\n",
       "      <th>KM</th>\n",
       "      <th>FuelType</th>\n",
       "      <th>HP</th>\n",
       "      <th>MetColor</th>\n",
       "      <th>Automatic</th>\n",
       "      <th>CC</th>\n",
       "      <th>Doors</th>\n",
       "      <th>Weight</th>\n",
       "    </tr>\n",
       "  </thead>\n",
       "  <tbody>\n",
       "    <tr>\n",
       "      <td>0</td>\n",
       "      <td>46986</td>\n",
       "      <td>Diesel</td>\n",
       "      <td>90</td>\n",
       "      <td>1</td>\n",
       "      <td>0</td>\n",
       "      <td>2000.0</td>\n",
       "      <td>3</td>\n",
       "      <td>1165.0</td>\n",
       "    </tr>\n",
       "    <tr>\n",
       "      <td>1</td>\n",
       "      <td>72937</td>\n",
       "      <td>Diesel</td>\n",
       "      <td>90</td>\n",
       "      <td>1</td>\n",
       "      <td>0</td>\n",
       "      <td>2000.0</td>\n",
       "      <td>3</td>\n",
       "      <td>1165.0</td>\n",
       "    </tr>\n",
       "    <tr>\n",
       "      <td>2</td>\n",
       "      <td>41711</td>\n",
       "      <td>Diesel</td>\n",
       "      <td>90</td>\n",
       "      <td>1</td>\n",
       "      <td>0</td>\n",
       "      <td>2000.0</td>\n",
       "      <td>3</td>\n",
       "      <td>1165.0</td>\n",
       "    </tr>\n",
       "    <tr>\n",
       "      <td>3</td>\n",
       "      <td>48000</td>\n",
       "      <td>Diesel</td>\n",
       "      <td>90</td>\n",
       "      <td>0</td>\n",
       "      <td>0</td>\n",
       "      <td>2000.0</td>\n",
       "      <td>3</td>\n",
       "      <td>1165.0</td>\n",
       "    </tr>\n",
       "    <tr>\n",
       "      <td>4</td>\n",
       "      <td>38500</td>\n",
       "      <td>Diesel</td>\n",
       "      <td>90</td>\n",
       "      <td>0</td>\n",
       "      <td>0</td>\n",
       "      <td>2000.0</td>\n",
       "      <td>3</td>\n",
       "      <td>1170.0</td>\n",
       "    </tr>\n",
       "  </tbody>\n",
       "</table>\n",
       "</div>"
      ],
      "text/plain": [
       "      KM FuelType  HP  MetColor  Automatic      CC  Doors  Weight\n",
       "0  46986   Diesel  90         1          0  2000.0      3  1165.0\n",
       "1  72937   Diesel  90         1          0  2000.0      3  1165.0\n",
       "2  41711   Diesel  90         1          0  2000.0      3  1165.0\n",
       "3  48000   Diesel  90         0          0  2000.0      3  1165.0\n",
       "4  38500   Diesel  90         0          0  2000.0      3  1170.0"
      ]
     },
     "execution_count": 68,
     "metadata": {},
     "output_type": "execute_result"
    }
   ],
   "source": [
    "dataSubset.head()"
   ]
  },
  {
   "cell_type": "code",
   "execution_count": 70,
   "metadata": {},
   "outputs": [
    {
     "data": {
      "text/html": [
       "<div>\n",
       "<style scoped>\n",
       "    .dataframe tbody tr th:only-of-type {\n",
       "        vertical-align: middle;\n",
       "    }\n",
       "\n",
       "    .dataframe tbody tr th {\n",
       "        vertical-align: top;\n",
       "    }\n",
       "\n",
       "    .dataframe thead th {\n",
       "        text-align: right;\n",
       "    }\n",
       "</style>\n",
       "<table border=\"1\" class=\"dataframe\">\n",
       "  <thead>\n",
       "    <tr style=\"text-align: right;\">\n",
       "      <th></th>\n",
       "      <th>Price</th>\n",
       "      <th>Age</th>\n",
       "      <th>KM</th>\n",
       "      <th>FuelType</th>\n",
       "      <th>HP</th>\n",
       "      <th>MetColor</th>\n",
       "      <th>Automatic</th>\n",
       "      <th>CC</th>\n",
       "      <th>Doors</th>\n",
       "      <th>Weight</th>\n",
       "    </tr>\n",
       "  </thead>\n",
       "  <tbody>\n",
       "    <tr>\n",
       "      <td>0</td>\n",
       "      <td>13500</td>\n",
       "      <td>23.0</td>\n",
       "      <td>46986</td>\n",
       "      <td>Diesel</td>\n",
       "      <td>90</td>\n",
       "      <td>1</td>\n",
       "      <td>0</td>\n",
       "      <td>2000.0</td>\n",
       "      <td>3</td>\n",
       "      <td>1165.0</td>\n",
       "    </tr>\n",
       "    <tr>\n",
       "      <td>1</td>\n",
       "      <td>13750</td>\n",
       "      <td>23.0</td>\n",
       "      <td>72937</td>\n",
       "      <td>Diesel</td>\n",
       "      <td>90</td>\n",
       "      <td>1</td>\n",
       "      <td>0</td>\n",
       "      <td>2000.0</td>\n",
       "      <td>3</td>\n",
       "      <td>1165.0</td>\n",
       "    </tr>\n",
       "    <tr>\n",
       "      <td>2</td>\n",
       "      <td>13950</td>\n",
       "      <td>24.0</td>\n",
       "      <td>41711</td>\n",
       "      <td>Diesel</td>\n",
       "      <td>90</td>\n",
       "      <td>1</td>\n",
       "      <td>0</td>\n",
       "      <td>2000.0</td>\n",
       "      <td>3</td>\n",
       "      <td>1165.0</td>\n",
       "    </tr>\n",
       "    <tr>\n",
       "      <td>3</td>\n",
       "      <td>14950</td>\n",
       "      <td>26.0</td>\n",
       "      <td>48000</td>\n",
       "      <td>Diesel</td>\n",
       "      <td>90</td>\n",
       "      <td>0</td>\n",
       "      <td>0</td>\n",
       "      <td>2000.0</td>\n",
       "      <td>3</td>\n",
       "      <td>1165.0</td>\n",
       "    </tr>\n",
       "    <tr>\n",
       "      <td>4</td>\n",
       "      <td>13750</td>\n",
       "      <td>30.0</td>\n",
       "      <td>38500</td>\n",
       "      <td>Diesel</td>\n",
       "      <td>90</td>\n",
       "      <td>0</td>\n",
       "      <td>0</td>\n",
       "      <td>2000.0</td>\n",
       "      <td>3</td>\n",
       "      <td>1170.0</td>\n",
       "    </tr>\n",
       "  </tbody>\n",
       "</table>\n",
       "</div>"
      ],
      "text/plain": [
       "   Price   Age     KM FuelType  HP  MetColor  Automatic      CC  Doors  Weight\n",
       "0  13500  23.0  46986   Diesel  90         1          0  2000.0      3  1165.0\n",
       "1  13750  23.0  72937   Diesel  90         1          0  2000.0      3  1165.0\n",
       "2  13950  24.0  41711   Diesel  90         1          0  2000.0      3  1165.0\n",
       "3  14950  26.0  48000   Diesel  90         0          0  2000.0      3  1165.0\n",
       "4  13750  30.0  38500   Diesel  90         0          0  2000.0      3  1170.0"
      ]
     },
     "execution_count": 70,
     "metadata": {},
     "output_type": "execute_result"
    }
   ],
   "source": [
    "CarPricesData.head()"
   ]
  },
  {
   "cell_type": "code",
   "execution_count": null,
   "metadata": {},
   "outputs": [],
   "source": []
  }
 ],
 "metadata": {
  "kernelspec": {
   "display_name": "Python 3 (ipykernel)",
   "language": "python",
   "name": "python3"
  },
  "language_info": {
   "codemirror_mode": {
    "name": "ipython",
    "version": 3
   },
   "file_extension": ".py",
   "mimetype": "text/x-python",
   "name": "python",
   "nbconvert_exporter": "python",
   "pygments_lexer": "ipython3",
   "version": "3.9.13"
  }
 },
 "nbformat": 4,
 "nbformat_minor": 1
}
