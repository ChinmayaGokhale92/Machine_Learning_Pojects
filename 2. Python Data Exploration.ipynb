{
 "cells": [
  {
   "cell_type": "markdown",
   "metadata": {},
   "source": [
    "# Python Data Exploration\n",
    "Numpy and Pandas are the two important libraries widely used for all kinds data wrangling related tasks"
   ]
  },
  {
   "cell_type": "markdown",
   "metadata": {},
   "source": [
    "# NumPy\n",
    "NumPy is an acronym for \"Numeric Python\" or \"Numerical Python\". It is an open source extension module for Python, which provides fast precompiled functions for mathematical and numerical routines. Furthermore, NumPy enriches the programming language Python with powerful data structures for efficient computation of multi-dimensional arrays and matrices. The implementation is even aiming at huge matrices and arrays. Besides that the module supplies a large library of high-level mathematical <b>functions</b> to operate on these matrices and arrays.\n"
   ]
  },
  {
   "cell_type": "markdown",
   "metadata": {},
   "source": [
    "# Pandas\n",
    "Python is a great language for doing data analysis, primarily because of the fantastic ecosystem of data-centric Python packages. Pandas is one of those packages, and makes importing and analyzing data much easier. Pandas builds on packages like NumPy and matplotlib to give you a single, convenient, place to do most of your data analysis and visualization work."
   ]
  },
  {
   "cell_type": "markdown",
   "metadata": {},
   "source": [
    "### Import libraries by creating their alias\n",
    "This helps in writing code because now we can simply use 'np'/'pd' as an alias to numpy / pandas library everywhere its needed."
   ]
  },
  {
   "cell_type": "code",
   "execution_count": null,
   "metadata": {},
   "outputs": [],
   "source": []
  },
  {
   "cell_type": "code",
   "execution_count": 2,
   "metadata": {},
   "outputs": [
    {
     "name": "stdout",
     "output_type": "stream",
     "text": [
      "The total time taken for import: 1.6681353251139323e-05 Minutes\n"
     ]
    }
   ],
   "source": [
    "import time\n",
    "StartTime=time.time()\n",
    "import numpy as np\n",
    "import pandas as pd\n",
    "EndTime=time.time()\n",
    "print('The total time taken for import:', (EndTime-StartTime)/60, 'Minutes')"
   ]
  },
  {
   "cell_type": "code",
   "execution_count": null,
   "metadata": {},
   "outputs": [],
   "source": []
  },
  {
   "cell_type": "code",
   "execution_count": null,
   "metadata": {},
   "outputs": [],
   "source": []
  },
  {
   "cell_type": "markdown",
   "metadata": {},
   "source": [
    "### Pandas Series\n",
    "* Series is a one dimensional object\n",
    "* Imagine it as one single column"
   ]
  },
  {
   "cell_type": "code",
   "execution_count": null,
   "metadata": {},
   "outputs": [],
   "source": []
  },
  {
   "cell_type": "code",
   "execution_count": 3,
   "metadata": {
    "scrolled": true
   },
   "outputs": [
    {
     "name": "stdout",
     "output_type": "stream",
     "text": [
      "0    100\n",
      "1    200\n",
      "2    300\n",
      "3    400\n",
      "4      a\n",
      "5      b\n",
      "6      c\n",
      "Name: Col1, dtype: object\n",
      "<class 'pandas.core.series.Series'>\n",
      "<class 'numpy.ndarray'>\n",
      "[100 200 300 400 'a' 'b' 'c']\n"
     ]
    }
   ],
   "source": [
    "# Defining a series\n",
    "SimpleSeries=pd.Series(data=[100,200,300,400,'a', 'b','c'], name='Col1')\n",
    "print(SimpleSeries)\n",
    "\n",
    "# Printing the datatype\n",
    "print(type(SimpleSeries))\n",
    "\n",
    "# The values inside a series is a numpy array\n",
    "print(type(SimpleSeries.values))\n",
    "print(SimpleSeries.values)"
   ]
  },
  {
   "cell_type": "code",
   "execution_count": null,
   "metadata": {},
   "outputs": [],
   "source": []
  },
  {
   "cell_type": "code",
   "execution_count": null,
   "metadata": {},
   "outputs": [],
   "source": []
  },
  {
   "cell_type": "code",
   "execution_count": 4,
   "metadata": {},
   "outputs": [
    {
     "data": {
      "text/plain": [
       "0    100\n",
       "1    200\n",
       "2    300\n",
       "3    400\n",
       "4      a\n",
       "5      b\n",
       "6      c\n",
       "Name: Col1, dtype: object"
      ]
     },
     "execution_count": 4,
     "metadata": {},
     "output_type": "execute_result"
    }
   ],
   "source": [
    "SimpleSeries"
   ]
  },
  {
   "cell_type": "code",
   "execution_count": 5,
   "metadata": {},
   "outputs": [
    {
     "data": {
      "text/plain": [
       "array([100, 200, 300, 400, 'a', 'b', 'c'], dtype=object)"
      ]
     },
     "execution_count": 5,
     "metadata": {},
     "output_type": "execute_result"
    }
   ],
   "source": [
    "SimpleSeries.values"
   ]
  },
  {
   "cell_type": "code",
   "execution_count": 6,
   "metadata": {},
   "outputs": [
    {
     "data": {
      "text/plain": [
       "0    a\n",
       "1    b\n",
       "2    c\n",
       "3    d\n",
       "dtype: object"
      ]
     },
     "execution_count": 6,
     "metadata": {},
     "output_type": "execute_result"
    }
   ],
   "source": [
    "# Creating a character series\n",
    "CharSeries=pd.Series(['a','b','c','d'])\n",
    "CharSeries"
   ]
  },
  {
   "cell_type": "code",
   "execution_count": 7,
   "metadata": {},
   "outputs": [
    {
     "name": "stdout",
     "output_type": "stream",
     "text": [
      "0    20\n",
      "1     3\n",
      "2     4\n",
      "3    22\n",
      "4     7\n",
      "dtype: int64\n",
      "0    200\n",
      "1     30\n",
      "2     40\n",
      "3    220\n",
      "4     70\n",
      "dtype: int64\n"
     ]
    }
   ],
   "source": [
    "# Creating a numeric series\n",
    "mylist=[20,3,4,22,7]\n",
    "mySeries=pd.Series(mylist)\n",
    "print(mySeries)\n",
    "print(mySeries*10)"
   ]
  },
  {
   "cell_type": "code",
   "execution_count": 8,
   "metadata": {},
   "outputs": [
    {
     "data": {
      "text/plain": [
       "0     1\n",
       "1     3\n",
       "2     5\n",
       "3     7\n",
       "4     9\n",
       "5    11\n",
       "6    13\n",
       "7    15\n",
       "8    17\n",
       "9    19\n",
       "Name: RangeCol, dtype: int64"
      ]
     },
     "execution_count": 8,
     "metadata": {},
     "output_type": "execute_result"
    }
   ],
   "source": [
    "# Creating a series using range function\n",
    "pd.Series(data=range(1,21,2), name='RangeCol')"
   ]
  },
  {
   "cell_type": "markdown",
   "metadata": {},
   "source": [
    "### Pandas DataFrame\n",
    "* DataFrame is a two dimensional object, representing rows and columns of data.\n",
    "* When you read data from any external source, like csv, excel, database, it becomes a dataframe."
   ]
  },
  {
   "cell_type": "code",
   "execution_count": 9,
   "metadata": {
    "scrolled": true
   },
   "outputs": [
    {
     "name": "stdout",
     "output_type": "stream",
     "text": [
      "<class 'pandas.core.frame.DataFrame'>\n"
     ]
    },
    {
     "data": {
      "text/html": [
       "<div>\n",
       "<style scoped>\n",
       "    .dataframe tbody tr th:only-of-type {\n",
       "        vertical-align: middle;\n",
       "    }\n",
       "\n",
       "    .dataframe tbody tr th {\n",
       "        vertical-align: top;\n",
       "    }\n",
       "\n",
       "    .dataframe thead th {\n",
       "        text-align: right;\n",
       "    }\n",
       "</style>\n",
       "<table border=\"1\" class=\"dataframe\">\n",
       "  <thead>\n",
       "    <tr style=\"text-align: right;\">\n",
       "      <th></th>\n",
       "      <th>Col1</th>\n",
       "      <th>Col2</th>\n",
       "    </tr>\n",
       "  </thead>\n",
       "  <tbody>\n",
       "    <tr>\n",
       "      <th>0</th>\n",
       "      <td>10</td>\n",
       "      <td>value1</td>\n",
       "    </tr>\n",
       "    <tr>\n",
       "      <th>1</th>\n",
       "      <td>20</td>\n",
       "      <td>value2</td>\n",
       "    </tr>\n",
       "    <tr>\n",
       "      <th>2</th>\n",
       "      <td>30</td>\n",
       "      <td>value3</td>\n",
       "    </tr>\n",
       "  </tbody>\n",
       "</table>\n",
       "</div>"
      ],
      "text/plain": [
       "   Col1    Col2\n",
       "0    10  value1\n",
       "1    20  value2\n",
       "2    30  value3"
      ]
     },
     "execution_count": 9,
     "metadata": {},
     "output_type": "execute_result"
    }
   ],
   "source": [
    "# DataFrame function expects input data in 2-D format\n",
    "SampleData= [[10,'value1'], \n",
    "             [20,'value2'], \n",
    "             [30,'value3']\n",
    "             ]\n",
    "#SimpleDataFrame=pd.DataFrame(data=SampleData, columns=['Col1','Col2'], index=['a','b','c'])\n",
    "SimpleDataFrame=pd.DataFrame(data=SampleData, columns=['Col1','Col2'])\n",
    "print(type(SimpleDataFrame))\n",
    "SimpleDataFrame"
   ]
  },
  {
   "cell_type": "code",
   "execution_count": 10,
   "metadata": {},
   "outputs": [
    {
     "name": "stdout",
     "output_type": "stream",
     "text": [
      "Variable          Type         Data/Info\n",
      "----------------------------------------\n",
      "CharSeries        Series       0    a\\n1    b\\n2    c\\n3    d\\ndtype: object\n",
      "EndTime           float        1681408492.011838\n",
      "FilePath          str          SimpleDataFrameExcel.xlsx\n",
      "SampleData        list         n=3\n",
      "SimpleDataFrame   DataFrame       Col1    Col2\\n0    10 <...>  value2\\n2    30  value3\n",
      "SimpleSeries      Series       0    100\\n1    200\\n2    <...>Name: Col1, dtype: object\n",
      "StartTime         float        1681408492.010837\n",
      "load_workbook     function     <function load_workbook at 0x00000277DA89C670>\n",
      "mySeries          Series       0    20\\n1     3\\n2     4<...>22\\n4     7\\ndtype: int64\n",
      "mylist            list         n=5\n",
      "np                module       <module 'numpy' from 'C:\\<...>ges\\\\numpy\\\\__init__.py'>\n",
      "pd                module       <module 'pandas' from 'C:<...>es\\\\pandas\\\\__init__.py'>\n",
      "time              module       <module 'time' (built-in)>\n"
     ]
    }
   ],
   "source": [
    "%whos"
   ]
  },
  {
   "cell_type": "code",
   "execution_count": 11,
   "metadata": {},
   "outputs": [
    {
     "data": {
      "text/plain": [
       "[[10, 'value1'], [20, 'value2'], [30, 'value3']]"
      ]
     },
     "execution_count": 11,
     "metadata": {},
     "output_type": "execute_result"
    }
   ],
   "source": [
    "SampleData"
   ]
  },
  {
   "cell_type": "code",
   "execution_count": 12,
   "metadata": {},
   "outputs": [
    {
     "data": {
      "text/html": [
       "<div>\n",
       "<style scoped>\n",
       "    .dataframe tbody tr th:only-of-type {\n",
       "        vertical-align: middle;\n",
       "    }\n",
       "\n",
       "    .dataframe tbody tr th {\n",
       "        vertical-align: top;\n",
       "    }\n",
       "\n",
       "    .dataframe thead th {\n",
       "        text-align: right;\n",
       "    }\n",
       "</style>\n",
       "<table border=\"1\" class=\"dataframe\">\n",
       "  <thead>\n",
       "    <tr style=\"text-align: right;\">\n",
       "      <th></th>\n",
       "      <th>Col1</th>\n",
       "      <th>Col2</th>\n",
       "    </tr>\n",
       "  </thead>\n",
       "  <tbody>\n",
       "    <tr>\n",
       "      <th>0</th>\n",
       "      <td>40</td>\n",
       "      <td>value4</td>\n",
       "    </tr>\n",
       "    <tr>\n",
       "      <th>1</th>\n",
       "      <td>50</td>\n",
       "      <td>value5</td>\n",
       "    </tr>\n",
       "  </tbody>\n",
       "</table>\n",
       "</div>"
      ],
      "text/plain": [
       "   Col1    Col2\n",
       "0    40  value4\n",
       "1    50  value5"
      ]
     },
     "execution_count": 12,
     "metadata": {},
     "output_type": "execute_result"
    }
   ],
   "source": [
    "# Adding new row to the data frame\n",
    "NewRow=pd.DataFrame(data=[[40,'value4'], [50,'value5']], columns=['Col1','Col2'])\n",
    "NewRow"
   ]
  },
  {
   "cell_type": "code",
   "execution_count": 13,
   "metadata": {},
   "outputs": [
    {
     "name": "stderr",
     "output_type": "stream",
     "text": [
      "C:\\Users\\Chinmaya\\AppData\\Local\\Temp\\ipykernel_8444\\2892060555.py:1: FutureWarning: The frame.append method is deprecated and will be removed from pandas in a future version. Use pandas.concat instead.\n",
      "  SimpleDataFrame=SimpleDataFrame.append(NewRow, ignore_index=True)\n"
     ]
    },
    {
     "data": {
      "text/html": [
       "<div>\n",
       "<style scoped>\n",
       "    .dataframe tbody tr th:only-of-type {\n",
       "        vertical-align: middle;\n",
       "    }\n",
       "\n",
       "    .dataframe tbody tr th {\n",
       "        vertical-align: top;\n",
       "    }\n",
       "\n",
       "    .dataframe thead th {\n",
       "        text-align: right;\n",
       "    }\n",
       "</style>\n",
       "<table border=\"1\" class=\"dataframe\">\n",
       "  <thead>\n",
       "    <tr style=\"text-align: right;\">\n",
       "      <th></th>\n",
       "      <th>Col1</th>\n",
       "      <th>Col2</th>\n",
       "    </tr>\n",
       "  </thead>\n",
       "  <tbody>\n",
       "    <tr>\n",
       "      <th>0</th>\n",
       "      <td>10</td>\n",
       "      <td>value1</td>\n",
       "    </tr>\n",
       "    <tr>\n",
       "      <th>1</th>\n",
       "      <td>20</td>\n",
       "      <td>value2</td>\n",
       "    </tr>\n",
       "    <tr>\n",
       "      <th>2</th>\n",
       "      <td>30</td>\n",
       "      <td>value3</td>\n",
       "    </tr>\n",
       "    <tr>\n",
       "      <th>3</th>\n",
       "      <td>40</td>\n",
       "      <td>value4</td>\n",
       "    </tr>\n",
       "    <tr>\n",
       "      <th>4</th>\n",
       "      <td>50</td>\n",
       "      <td>value5</td>\n",
       "    </tr>\n",
       "  </tbody>\n",
       "</table>\n",
       "</div>"
      ],
      "text/plain": [
       "   Col1    Col2\n",
       "0    10  value1\n",
       "1    20  value2\n",
       "2    30  value3\n",
       "3    40  value4\n",
       "4    50  value5"
      ]
     },
     "execution_count": 13,
     "metadata": {},
     "output_type": "execute_result"
    }
   ],
   "source": [
    "SimpleDataFrame=SimpleDataFrame.append(NewRow, ignore_index=True)\n",
    "SimpleDataFrame"
   ]
  },
  {
   "cell_type": "code",
   "execution_count": null,
   "metadata": {},
   "outputs": [],
   "source": []
  },
  {
   "cell_type": "code",
   "execution_count": 14,
   "metadata": {},
   "outputs": [
    {
     "data": {
      "text/html": [
       "<div>\n",
       "<style scoped>\n",
       "    .dataframe tbody tr th:only-of-type {\n",
       "        vertical-align: middle;\n",
       "    }\n",
       "\n",
       "    .dataframe tbody tr th {\n",
       "        vertical-align: top;\n",
       "    }\n",
       "\n",
       "    .dataframe thead th {\n",
       "        text-align: right;\n",
       "    }\n",
       "</style>\n",
       "<table border=\"1\" class=\"dataframe\">\n",
       "  <thead>\n",
       "    <tr style=\"text-align: right;\">\n",
       "      <th></th>\n",
       "      <th>Col1</th>\n",
       "      <th>Col2</th>\n",
       "      <th>Col4</th>\n",
       "      <th>Col5</th>\n",
       "    </tr>\n",
       "  </thead>\n",
       "  <tbody>\n",
       "    <tr>\n",
       "      <th>0</th>\n",
       "      <td>10</td>\n",
       "      <td>value1</td>\n",
       "      <td>100</td>\n",
       "      <td>30</td>\n",
       "    </tr>\n",
       "    <tr>\n",
       "      <th>1</th>\n",
       "      <td>20</td>\n",
       "      <td>value2</td>\n",
       "      <td>200</td>\n",
       "      <td>60</td>\n",
       "    </tr>\n",
       "    <tr>\n",
       "      <th>2</th>\n",
       "      <td>30</td>\n",
       "      <td>value3</td>\n",
       "      <td>300</td>\n",
       "      <td>90</td>\n",
       "    </tr>\n",
       "    <tr>\n",
       "      <th>3</th>\n",
       "      <td>40</td>\n",
       "      <td>value4</td>\n",
       "      <td>400</td>\n",
       "      <td>120</td>\n",
       "    </tr>\n",
       "    <tr>\n",
       "      <th>4</th>\n",
       "      <td>50</td>\n",
       "      <td>value5</td>\n",
       "      <td>500</td>\n",
       "      <td>150</td>\n",
       "    </tr>\n",
       "  </tbody>\n",
       "</table>\n",
       "</div>"
      ],
      "text/plain": [
       "   Col1    Col2  Col4  Col5\n",
       "0    10  value1   100    30\n",
       "1    20  value2   200    60\n",
       "2    30  value3   300    90\n",
       "3    40  value4   400   120\n",
       "4    50  value5   500   150"
      ]
     },
     "execution_count": 14,
     "metadata": {},
     "output_type": "execute_result"
    }
   ],
   "source": [
    "# Adding new column to the data frame\n",
    "SimpleDataFrame['Col4']=[100,200,300,400,500]\n",
    "SimpleDataFrame['Col5']=SimpleDataFrame['Col1'] * 3\n",
    "SimpleDataFrame"
   ]
  },
  {
   "cell_type": "markdown",
   "metadata": {},
   "source": [
    "# Reading Data From CSV/EXCEL files"
   ]
  },
  {
   "cell_type": "code",
   "execution_count": null,
   "metadata": {},
   "outputs": [],
   "source": []
  },
  {
   "cell_type": "code",
   "execution_count": 18,
   "metadata": {
    "scrolled": false
   },
   "outputs": [
    {
     "ename": "FileNotFoundError",
     "evalue": "[Errno 2] No such file or directory: '/Users/farukh/Python ML IVY-May-2020/CarPricesData.csv'",
     "output_type": "error",
     "traceback": [
      "\u001b[1;31m---------------------------------------------------------------------------\u001b[0m",
      "\u001b[1;31mFileNotFoundError\u001b[0m                         Traceback (most recent call last)",
      "\u001b[1;32m~\\AppData\\Local\\Temp\\ipykernel_8444\\991789498.py\u001b[0m in \u001b[0;36m<module>\u001b[1;34m\u001b[0m\n\u001b[0;32m      3\u001b[0m \u001b[1;31m# these options can be seen using dot tab option\u001b[0m\u001b[1;33m\u001b[0m\u001b[1;33m\u001b[0m\u001b[0m\n\u001b[0;32m      4\u001b[0m \u001b[1;31m# The output of read_csv function here is stored as a DataFrame\u001b[0m\u001b[1;33m\u001b[0m\u001b[1;33m\u001b[0m\u001b[0m\n\u001b[1;32m----> 5\u001b[1;33m CarPricesData=pd.read_csv(filepath_or_buffer=\"/Users/farukh/Python ML IVY-May-2020/CarPricesData.csv\", \n\u001b[0m\u001b[0;32m      6\u001b[0m                               sep=',', encoding='latin-1')\n\u001b[0;32m      7\u001b[0m \u001b[0mprint\u001b[0m\u001b[1;33m(\u001b[0m\u001b[0mtype\u001b[0m\u001b[1;33m(\u001b[0m\u001b[0mCarPricesData\u001b[0m\u001b[1;33m)\u001b[0m\u001b[1;33m)\u001b[0m\u001b[1;33m\u001b[0m\u001b[1;33m\u001b[0m\u001b[0m\n",
      "\u001b[1;32m~\\anaconda3\\lib\\site-packages\\pandas\\util\\_decorators.py\u001b[0m in \u001b[0;36mwrapper\u001b[1;34m(*args, **kwargs)\u001b[0m\n\u001b[0;32m    309\u001b[0m                     \u001b[0mstacklevel\u001b[0m\u001b[1;33m=\u001b[0m\u001b[0mstacklevel\u001b[0m\u001b[1;33m,\u001b[0m\u001b[1;33m\u001b[0m\u001b[1;33m\u001b[0m\u001b[0m\n\u001b[0;32m    310\u001b[0m                 )\n\u001b[1;32m--> 311\u001b[1;33m             \u001b[1;32mreturn\u001b[0m \u001b[0mfunc\u001b[0m\u001b[1;33m(\u001b[0m\u001b[1;33m*\u001b[0m\u001b[0margs\u001b[0m\u001b[1;33m,\u001b[0m \u001b[1;33m**\u001b[0m\u001b[0mkwargs\u001b[0m\u001b[1;33m)\u001b[0m\u001b[1;33m\u001b[0m\u001b[1;33m\u001b[0m\u001b[0m\n\u001b[0m\u001b[0;32m    312\u001b[0m \u001b[1;33m\u001b[0m\u001b[0m\n\u001b[0;32m    313\u001b[0m         \u001b[1;32mreturn\u001b[0m \u001b[0mwrapper\u001b[0m\u001b[1;33m\u001b[0m\u001b[1;33m\u001b[0m\u001b[0m\n",
      "\u001b[1;32m~\\anaconda3\\lib\\site-packages\\pandas\\io\\parsers\\readers.py\u001b[0m in \u001b[0;36mread_csv\u001b[1;34m(filepath_or_buffer, sep, delimiter, header, names, index_col, usecols, squeeze, prefix, mangle_dupe_cols, dtype, engine, converters, true_values, false_values, skipinitialspace, skiprows, skipfooter, nrows, na_values, keep_default_na, na_filter, verbose, skip_blank_lines, parse_dates, infer_datetime_format, keep_date_col, date_parser, dayfirst, cache_dates, iterator, chunksize, compression, thousands, decimal, lineterminator, quotechar, quoting, doublequote, escapechar, comment, encoding, encoding_errors, dialect, error_bad_lines, warn_bad_lines, on_bad_lines, delim_whitespace, low_memory, memory_map, float_precision, storage_options)\u001b[0m\n\u001b[0;32m    676\u001b[0m     \u001b[0mkwds\u001b[0m\u001b[1;33m.\u001b[0m\u001b[0mupdate\u001b[0m\u001b[1;33m(\u001b[0m\u001b[0mkwds_defaults\u001b[0m\u001b[1;33m)\u001b[0m\u001b[1;33m\u001b[0m\u001b[1;33m\u001b[0m\u001b[0m\n\u001b[0;32m    677\u001b[0m \u001b[1;33m\u001b[0m\u001b[0m\n\u001b[1;32m--> 678\u001b[1;33m     \u001b[1;32mreturn\u001b[0m \u001b[0m_read\u001b[0m\u001b[1;33m(\u001b[0m\u001b[0mfilepath_or_buffer\u001b[0m\u001b[1;33m,\u001b[0m \u001b[0mkwds\u001b[0m\u001b[1;33m)\u001b[0m\u001b[1;33m\u001b[0m\u001b[1;33m\u001b[0m\u001b[0m\n\u001b[0m\u001b[0;32m    679\u001b[0m \u001b[1;33m\u001b[0m\u001b[0m\n\u001b[0;32m    680\u001b[0m \u001b[1;33m\u001b[0m\u001b[0m\n",
      "\u001b[1;32m~\\anaconda3\\lib\\site-packages\\pandas\\io\\parsers\\readers.py\u001b[0m in \u001b[0;36m_read\u001b[1;34m(filepath_or_buffer, kwds)\u001b[0m\n\u001b[0;32m    573\u001b[0m \u001b[1;33m\u001b[0m\u001b[0m\n\u001b[0;32m    574\u001b[0m     \u001b[1;31m# Create the parser.\u001b[0m\u001b[1;33m\u001b[0m\u001b[1;33m\u001b[0m\u001b[0m\n\u001b[1;32m--> 575\u001b[1;33m     \u001b[0mparser\u001b[0m \u001b[1;33m=\u001b[0m \u001b[0mTextFileReader\u001b[0m\u001b[1;33m(\u001b[0m\u001b[0mfilepath_or_buffer\u001b[0m\u001b[1;33m,\u001b[0m \u001b[1;33m**\u001b[0m\u001b[0mkwds\u001b[0m\u001b[1;33m)\u001b[0m\u001b[1;33m\u001b[0m\u001b[1;33m\u001b[0m\u001b[0m\n\u001b[0m\u001b[0;32m    576\u001b[0m \u001b[1;33m\u001b[0m\u001b[0m\n\u001b[0;32m    577\u001b[0m     \u001b[1;32mif\u001b[0m \u001b[0mchunksize\u001b[0m \u001b[1;32mor\u001b[0m \u001b[0miterator\u001b[0m\u001b[1;33m:\u001b[0m\u001b[1;33m\u001b[0m\u001b[1;33m\u001b[0m\u001b[0m\n",
      "\u001b[1;32m~\\anaconda3\\lib\\site-packages\\pandas\\io\\parsers\\readers.py\u001b[0m in \u001b[0;36m__init__\u001b[1;34m(self, f, engine, **kwds)\u001b[0m\n\u001b[0;32m    930\u001b[0m \u001b[1;33m\u001b[0m\u001b[0m\n\u001b[0;32m    931\u001b[0m         \u001b[0mself\u001b[0m\u001b[1;33m.\u001b[0m\u001b[0mhandles\u001b[0m\u001b[1;33m:\u001b[0m \u001b[0mIOHandles\u001b[0m \u001b[1;33m|\u001b[0m \u001b[1;32mNone\u001b[0m \u001b[1;33m=\u001b[0m \u001b[1;32mNone\u001b[0m\u001b[1;33m\u001b[0m\u001b[1;33m\u001b[0m\u001b[0m\n\u001b[1;32m--> 932\u001b[1;33m         \u001b[0mself\u001b[0m\u001b[1;33m.\u001b[0m\u001b[0m_engine\u001b[0m \u001b[1;33m=\u001b[0m \u001b[0mself\u001b[0m\u001b[1;33m.\u001b[0m\u001b[0m_make_engine\u001b[0m\u001b[1;33m(\u001b[0m\u001b[0mf\u001b[0m\u001b[1;33m,\u001b[0m \u001b[0mself\u001b[0m\u001b[1;33m.\u001b[0m\u001b[0mengine\u001b[0m\u001b[1;33m)\u001b[0m\u001b[1;33m\u001b[0m\u001b[1;33m\u001b[0m\u001b[0m\n\u001b[0m\u001b[0;32m    933\u001b[0m \u001b[1;33m\u001b[0m\u001b[0m\n\u001b[0;32m    934\u001b[0m     \u001b[1;32mdef\u001b[0m \u001b[0mclose\u001b[0m\u001b[1;33m(\u001b[0m\u001b[0mself\u001b[0m\u001b[1;33m)\u001b[0m\u001b[1;33m:\u001b[0m\u001b[1;33m\u001b[0m\u001b[1;33m\u001b[0m\u001b[0m\n",
      "\u001b[1;32m~\\anaconda3\\lib\\site-packages\\pandas\\io\\parsers\\readers.py\u001b[0m in \u001b[0;36m_make_engine\u001b[1;34m(self, f, engine)\u001b[0m\n\u001b[0;32m   1214\u001b[0m             \u001b[1;31m# \"Union[str, PathLike[str], ReadCsvBuffer[bytes], ReadCsvBuffer[str]]\"\u001b[0m\u001b[1;33m\u001b[0m\u001b[1;33m\u001b[0m\u001b[0m\n\u001b[0;32m   1215\u001b[0m             \u001b[1;31m# , \"str\", \"bool\", \"Any\", \"Any\", \"Any\", \"Any\", \"Any\"\u001b[0m\u001b[1;33m\u001b[0m\u001b[1;33m\u001b[0m\u001b[0m\n\u001b[1;32m-> 1216\u001b[1;33m             self.handles = get_handle(  # type: ignore[call-overload]\n\u001b[0m\u001b[0;32m   1217\u001b[0m                 \u001b[0mf\u001b[0m\u001b[1;33m,\u001b[0m\u001b[1;33m\u001b[0m\u001b[1;33m\u001b[0m\u001b[0m\n\u001b[0;32m   1218\u001b[0m                 \u001b[0mmode\u001b[0m\u001b[1;33m,\u001b[0m\u001b[1;33m\u001b[0m\u001b[1;33m\u001b[0m\u001b[0m\n",
      "\u001b[1;32m~\\anaconda3\\lib\\site-packages\\pandas\\io\\common.py\u001b[0m in \u001b[0;36mget_handle\u001b[1;34m(path_or_buf, mode, encoding, compression, memory_map, is_text, errors, storage_options)\u001b[0m\n\u001b[0;32m    784\u001b[0m         \u001b[1;32mif\u001b[0m \u001b[0mioargs\u001b[0m\u001b[1;33m.\u001b[0m\u001b[0mencoding\u001b[0m \u001b[1;32mand\u001b[0m \u001b[1;34m\"b\"\u001b[0m \u001b[1;32mnot\u001b[0m \u001b[1;32min\u001b[0m \u001b[0mioargs\u001b[0m\u001b[1;33m.\u001b[0m\u001b[0mmode\u001b[0m\u001b[1;33m:\u001b[0m\u001b[1;33m\u001b[0m\u001b[1;33m\u001b[0m\u001b[0m\n\u001b[0;32m    785\u001b[0m             \u001b[1;31m# Encoding\u001b[0m\u001b[1;33m\u001b[0m\u001b[1;33m\u001b[0m\u001b[0m\n\u001b[1;32m--> 786\u001b[1;33m             handle = open(\n\u001b[0m\u001b[0;32m    787\u001b[0m                 \u001b[0mhandle\u001b[0m\u001b[1;33m,\u001b[0m\u001b[1;33m\u001b[0m\u001b[1;33m\u001b[0m\u001b[0m\n\u001b[0;32m    788\u001b[0m                 \u001b[0mioargs\u001b[0m\u001b[1;33m.\u001b[0m\u001b[0mmode\u001b[0m\u001b[1;33m,\u001b[0m\u001b[1;33m\u001b[0m\u001b[1;33m\u001b[0m\u001b[0m\n",
      "\u001b[1;31mFileNotFoundError\u001b[0m: [Errno 2] No such file or directory: '/Users/farukh/Python ML IVY-May-2020/CarPricesData.csv'"
     ]
    }
   ],
   "source": [
    "# Use pandas to read a csv file by prodiving the path of file to read_csv() function\n",
    "# Many other formats are available e.g read_excel(), read_table(), read_json etc. \n",
    "# these options can be seen using dot tab option\n",
    "# The output of read_csv function here is stored as a DataFrame\n",
    "CarPricesData=pd.read_csv(filepath_or_buffer=\"/Users/farukh/Python ML IVY-May-2020/CarPricesData.csv\", \n",
    "                              sep=',', encoding='latin-1')\n",
    "print(type(CarPricesData))\n",
    "\n",
    "# Controlling data display options\n",
    "pd.options.display.max_columns=10\n",
    "pd.set_option('max_rows',500)\n",
    "\n",
    "# Printing few records of the data\n",
    "CarPricesData.head(n=10)"
   ]
  },
  {
   "cell_type": "code",
   "execution_count": null,
   "metadata": {
    "scrolled": false
   },
   "outputs": [],
   "source": [
    "CarPricesData.tail(n=5)"
   ]
  },
  {
   "cell_type": "code",
   "execution_count": null,
   "metadata": {},
   "outputs": [],
   "source": []
  },
  {
   "cell_type": "code",
   "execution_count": 17,
   "metadata": {},
   "outputs": [
    {
     "ename": "NameError",
     "evalue": "name 'CarPricesData' is not defined",
     "output_type": "error",
     "traceback": [
      "\u001b[1;31m---------------------------------------------------------------------------\u001b[0m",
      "\u001b[1;31mNameError\u001b[0m                                 Traceback (most recent call last)",
      "\u001b[1;32m~\\AppData\\Local\\Temp\\ipykernel_8444\\3346665552.py\u001b[0m in \u001b[0;36m<module>\u001b[1;34m\u001b[0m\n\u001b[0;32m      1\u001b[0m \u001b[1;31m# Exporting Carprices data as csv\u001b[0m\u001b[1;33m\u001b[0m\u001b[1;33m\u001b[0m\u001b[0m\n\u001b[1;32m----> 2\u001b[1;33m \u001b[0mCarPricesData\u001b[0m\u001b[1;33m.\u001b[0m\u001b[0mto_csv\u001b[0m\u001b[1;33m(\u001b[0m\u001b[1;34m'/Users/farukh/Python ML IVY-May-2020/CarPricesDataEXPORT.csv'\u001b[0m\u001b[1;33m,\u001b[0m\u001b[0mindex\u001b[0m\u001b[1;33m=\u001b[0m\u001b[1;32mFalse\u001b[0m\u001b[1;33m)\u001b[0m\u001b[1;33m\u001b[0m\u001b[1;33m\u001b[0m\u001b[0m\n\u001b[0m",
      "\u001b[1;31mNameError\u001b[0m: name 'CarPricesData' is not defined"
     ]
    }
   ],
   "source": [
    "# Exporting Carprices data as csv\n",
    "CarPricesData.to_csv('/Users/farukh/Python ML IVY-May-2020/CarPricesDataEXPORT.csv',index=False)"
   ]
  },
  {
   "cell_type": "code",
   "execution_count": null,
   "metadata": {},
   "outputs": [],
   "source": [
    "# Exporting Carprices data as excel\n",
    "CarPricesData.to_excel('/Users/farukh/Python ML IVY-May-2020/CarPricesDataXL.xlsx',index=False)"
   ]
  },
  {
   "cell_type": "code",
   "execution_count": null,
   "metadata": {},
   "outputs": [],
   "source": [
    "# Exporting the simple data Frame as a file\n",
    "SimpleDataFrame.to_csv('/Users/farukh/Python ML IVY-May-2020/SimpleDataFrame.csv',index=False)\n",
    "SimpleDataFrame.to_excel('/Users/farukh/Python ML IVY-May-2020/SimpleDataFrame.xlsx',index=False)"
   ]
  },
  {
   "cell_type": "code",
   "execution_count": null,
   "metadata": {},
   "outputs": [],
   "source": [
    "# Exporting the simple data Frame as a file in the CURRENT WORKING DIRECTORY\n",
    "SimpleDataFrame.to_csv('SimpleDataFrame.csv',index=False)"
   ]
  },
  {
   "cell_type": "code",
   "execution_count": null,
   "metadata": {},
   "outputs": [],
   "source": [
    "import os\n",
    "os.getcwd()"
   ]
  },
  {
   "cell_type": "code",
   "execution_count": null,
   "metadata": {},
   "outputs": [],
   "source": []
  },
  {
   "cell_type": "code",
   "execution_count": null,
   "metadata": {},
   "outputs": [],
   "source": [
    "# Use pandas to read a excel file by prodiving the path of file\n",
    "# The output of read_excel() function here is stored as a DataFrame\n",
    "CarPricesData=pd.read_excel(io='/Users/farukh/Python ML IVY-May-2020/CarPricesDataXL.xlsx',\n",
    "                           sheet_name='Sheet1')\n",
    "# Printing few records of the data\n",
    "CarPricesData.head(n=5)"
   ]
  },
  {
   "cell_type": "code",
   "execution_count": null,
   "metadata": {},
   "outputs": [],
   "source": []
  },
  {
   "cell_type": "markdown",
   "metadata": {},
   "source": [
    "# Reading Data from a SQL Server database"
   ]
  },
  {
   "cell_type": "code",
   "execution_count": null,
   "metadata": {},
   "outputs": [],
   "source": [
    "# installing the library to connect to sql server\n",
    "!pip install pyodbc"
   ]
  },
  {
   "cell_type": "code",
   "execution_count": null,
   "metadata": {},
   "outputs": [],
   "source": [
    "# Reading data from a SQL-SERVER/Oracle database\n",
    "import pyodbc\n",
    "\n",
    "# Defining the connection string\n",
    "conn = pyodbc.connect('''DRIVER={SQL Server}; Server=127.0.0.1; \n",
    "                        UID=adminUser; PWD=passWrd@123; DataBase=PROD_AZ''')\n",
    "\n",
    "# Fetching the data from the selected table using SQL query\n",
    "RawData= pd.read_sql_query('''select * from [EMP].[Employee_table]''', conn)\n",
    "RawData.head()"
   ]
  },
  {
   "cell_type": "code",
   "execution_count": null,
   "metadata": {},
   "outputs": [],
   "source": []
  },
  {
   "cell_type": "markdown",
   "metadata": {},
   "source": [
    "# Reading Data from a Oracle database"
   ]
  },
  {
   "cell_type": "code",
   "execution_count": null,
   "metadata": {},
   "outputs": [],
   "source": [
    "# installing the required libraries to connect with Oracle Database\n",
    "!pip install cx_Oracle\n",
    "!pip install sqlalchemy"
   ]
  },
  {
   "cell_type": "code",
   "execution_count": null,
   "metadata": {},
   "outputs": [],
   "source": [
    "import cx_Oracle\n",
    "import sqlalchemy\n",
    "import pandas as pd\n",
    "\n",
    "# Use your database credentials below\n",
    "DATABASE = \"DB\"\n",
    "SCHEMA   = \"DEV\"\n",
    "PASSWORD = \"password\"\n",
    "\n",
    "# Generating connection string\n",
    "connstr  = \"oracle://{}:{}@{}\".format(SCHEMA, PASSWORD, DATABASE)\n",
    "conn     = sqlalchemy.create_engine(connstr)\n",
    "\n",
    "# Fetching the data from the selected table using SQL query\n",
    "RawData= pd.read_sql_query(\"select * from [EMP].[Employee_table] where countryCode='US'\", conn)\n",
    "RawData.head()"
   ]
  },
  {
   "cell_type": "code",
   "execution_count": null,
   "metadata": {},
   "outputs": [],
   "source": [
    "!pip install sqlalchemy\n",
    "!pip install mysql.connector\n",
    "!pip install pymysql"
   ]
  },
  {
   "cell_type": "code",
   "execution_count": null,
   "metadata": {},
   "outputs": [],
   "source": [
    "!conda install mysql.connector\n",
    "!conda install pymysql"
   ]
  },
  {
   "cell_type": "markdown",
   "metadata": {},
   "source": [
    "## Run it in the anaconda prompt"
   ]
  },
  {
   "cell_type": "code",
   "execution_count": null,
   "metadata": {},
   "outputs": [],
   "source": [
    "!conda install -c anaconda mysql-connector-python"
   ]
  },
  {
   "cell_type": "code",
   "execution_count": null,
   "metadata": {},
   "outputs": [],
   "source": []
  },
  {
   "cell_type": "markdown",
   "metadata": {},
   "source": [
    "# Reading Data from a MySQL database"
   ]
  },
  {
   "cell_type": "code",
   "execution_count": null,
   "metadata": {},
   "outputs": [],
   "source": [
    "# installing the required libraries to connect with MySQL Database\n",
    "!pip install sqlalchemy\n",
    "!pip install mysql.connector\n",
    "!pip install pymysql"
   ]
  },
  {
   "cell_type": "code",
   "execution_count": null,
   "metadata": {},
   "outputs": [],
   "source": [
    "import sqlalchemy\n",
    "sqlalchemy.__version__"
   ]
  },
  {
   "cell_type": "code",
   "execution_count": null,
   "metadata": {},
   "outputs": [],
   "source": [
    "import sys\n",
    "sys.version"
   ]
  },
  {
   "cell_type": "code",
   "execution_count": null,
   "metadata": {},
   "outputs": [],
   "source": [
    "from sqlalchemy import create_engine\n",
    "import mysql.connector as sql\n",
    "import pymysql\n",
    "\n",
    "UserName='root'\n",
    "Password='hello@123'\n",
    "DatabaseName='classicmodels'\n",
    "\n",
    "# Creating the database connection\n",
    "db_connection_str = \"mysql+pymysql://\"+UserName+ \":\" +Password +\"@localhost/\"+ DatabaseName\n",
    "db_connection = create_engine(db_connection_str)\n",
    "\n",
    "import pandas as pd\n",
    "# Employees table must be present in the database\n",
    "MyQuery='''SELECT * FROM customers'''\n",
    "DataFromDB = pd.read_sql(MyQuery, con=db_connection)\n",
    "\n",
    "DataFromDB.head()"
   ]
  },
  {
   "cell_type": "code",
   "execution_count": null,
   "metadata": {},
   "outputs": [],
   "source": [
    "db_connection_str"
   ]
  },
  {
   "cell_type": "code",
   "execution_count": null,
   "metadata": {},
   "outputs": [],
   "source": [
    "pd.read_sql('show tables', con=db_connection)"
   ]
  },
  {
   "cell_type": "code",
   "execution_count": null,
   "metadata": {},
   "outputs": [],
   "source": []
  },
  {
   "cell_type": "code",
   "execution_count": null,
   "metadata": {},
   "outputs": [],
   "source": []
  },
  {
   "cell_type": "markdown",
   "metadata": {},
   "source": [
    "# Exporting data out of python"
   ]
  },
  {
   "cell_type": "code",
   "execution_count": null,
   "metadata": {},
   "outputs": [],
   "source": [
    "# Data Frame created manually above\n",
    "SimpleDataFrame"
   ]
  },
  {
   "cell_type": "code",
   "execution_count": null,
   "metadata": {},
   "outputs": [],
   "source": [
    "# Exporting data frame to a csv/Excel file\n",
    "# Many options are available which can be seen using dot tab option\n",
    "SimpleDataFrame.to_csv('SimpleDataFrame.csv', index=False)\n",
    "SimpleDataFrame.to_excel('SimpleDataFrameExcel.xlsx', index=False)"
   ]
  },
  {
   "cell_type": "code",
   "execution_count": null,
   "metadata": {},
   "outputs": [],
   "source": [
    "# Checking the current working directory\n",
    "import os\n",
    "os.getcwd()"
   ]
  },
  {
   "cell_type": "code",
   "execution_count": null,
   "metadata": {},
   "outputs": [],
   "source": []
  },
  {
   "cell_type": "markdown",
   "metadata": {},
   "source": [
    "## Writing multiple sheets in a single excel file with pandas"
   ]
  },
  {
   "cell_type": "code",
   "execution_count": null,
   "metadata": {},
   "outputs": [],
   "source": [
    "# Installing library for excel interaction using pandas\n",
    "!pip install openpyxl"
   ]
  },
  {
   "cell_type": "code",
   "execution_count": null,
   "metadata": {},
   "outputs": [],
   "source": [
    "import pandas as pd\n",
    "import numpy as np\n",
    "from openpyxl import load_workbook\n",
    "\n",
    "# Defining the path which excel needs to be created\n",
    "# There must be a pre-existing excel sheet which can be updated\n",
    "FilePath = \"SimpleDataFrameExcel.xlsx\"\n",
    "\n",
    "# Generating workbook\n",
    "ExcelWorkbook = load_workbook(FilePath)\n",
    "\n",
    "# Generating the writer engine\n",
    "writer = pd.ExcelWriter(FilePath, engine = 'openpyxl')\n",
    "\n",
    "# Assigning the workbook to the writer engine\n",
    "writer.book = ExcelWorkbook\n",
    "\n",
    "# Creating first dataframe\n",
    "DataSample1= [[10,'value1'], \n",
    "             [20,'value2'], \n",
    "             [30,'value3']]\n",
    "SimpleDataFrame1=pd.DataFrame(data=DataSample1, columns=['Col1','Col2'])\n",
    "print(SimpleDataFrame1)\n",
    "\n",
    "# Creating second dataframe\n",
    "DataSample2= [[100,'A'], \n",
    "             [200,'B'], \n",
    "             [300,'C']]\n",
    "SimpleDataFrame2=pd.DataFrame(data=DataSample2, columns=['colA','colB'])\n",
    "print(SimpleDataFrame2)\n",
    "\n",
    "SimpleDataFrame1.to_excel(writer, sheet_name = 'Data1', index=False)\n",
    "SimpleDataFrame2.to_excel(writer, sheet_name = 'Data2', index=False)\n",
    "writer.save()\n",
    "writer.close()"
   ]
  },
  {
   "cell_type": "code",
   "execution_count": null,
   "metadata": {},
   "outputs": [],
   "source": []
  },
  {
   "cell_type": "code",
   "execution_count": null,
   "metadata": {},
   "outputs": [],
   "source": []
  },
  {
   "cell_type": "markdown",
   "metadata": {},
   "source": [
    "# Basic Exploratory Data Analysis(EDA)"
   ]
  },
  {
   "cell_type": "markdown",
   "metadata": {},
   "source": [
    "## Anatomy of Data\n",
    "There are 3 major types of data listed below: \n",
    "1. Quantitative (Numbers) eg. sales, prices, age\n",
    "2. Qualitative (Strings which cannot be grouped) eg. address, names, reviews\n",
    "3. Categorical (Strings which CAN be grouped) eg. gender, color, sentiment, size\n",
    "    * Nominal Categorical (Categorical data which has no natural order)  eg. gender, color\n",
    "    * Ordinal Categorical (Categorical data which HAS natural order) eg. size (S<M<L) "
   ]
  },
  {
   "cell_type": "code",
   "execution_count": null,
   "metadata": {},
   "outputs": [],
   "source": []
  },
  {
   "cell_type": "code",
   "execution_count": 16,
   "metadata": {},
   "outputs": [
    {
     "ename": "NameError",
     "evalue": "name 'CarPricesData' is not defined",
     "output_type": "error",
     "traceback": [
      "\u001b[1;31m---------------------------------------------------------------------------\u001b[0m",
      "\u001b[1;31mNameError\u001b[0m                                 Traceback (most recent call last)",
      "\u001b[1;32m~\\AppData\\Local\\Temp\\ipykernel_8444\\2794536664.py\u001b[0m in \u001b[0;36m<module>\u001b[1;34m\u001b[0m\n\u001b[0;32m      1\u001b[0m \u001b[1;31m# Print some sample top rows\u001b[0m\u001b[1;33m\u001b[0m\u001b[1;33m\u001b[0m\u001b[0m\n\u001b[1;32m----> 2\u001b[1;33m \u001b[0mCarPricesData\u001b[0m\u001b[1;33m.\u001b[0m\u001b[0mhead\u001b[0m\u001b[1;33m(\u001b[0m\u001b[1;36m10\u001b[0m\u001b[1;33m)\u001b[0m\u001b[1;33m\u001b[0m\u001b[1;33m\u001b[0m\u001b[0m\n\u001b[0m",
      "\u001b[1;31mNameError\u001b[0m: name 'CarPricesData' is not defined"
     ]
    }
   ],
   "source": [
    "# Print some sample top rows\n",
    "CarPricesData.head(10)"
   ]
  },
  {
   "cell_type": "code",
   "execution_count": 136,
   "metadata": {},
   "outputs": [
    {
     "data": {
      "text/html": [
       "<div>\n",
       "<style scoped>\n",
       "    .dataframe tbody tr th:only-of-type {\n",
       "        vertical-align: middle;\n",
       "    }\n",
       "\n",
       "    .dataframe tbody tr th {\n",
       "        vertical-align: top;\n",
       "    }\n",
       "\n",
       "    .dataframe thead th {\n",
       "        text-align: right;\n",
       "    }\n",
       "</style>\n",
       "<table border=\"1\" class=\"dataframe\">\n",
       "  <thead>\n",
       "    <tr style=\"text-align: right;\">\n",
       "      <th></th>\n",
       "      <th>Price</th>\n",
       "      <th>Age</th>\n",
       "      <th>KM</th>\n",
       "      <th>FuelType</th>\n",
       "      <th>HP</th>\n",
       "      <th>MetColor</th>\n",
       "      <th>Automatic</th>\n",
       "      <th>CC</th>\n",
       "      <th>Doors</th>\n",
       "      <th>Weight</th>\n",
       "    </tr>\n",
       "  </thead>\n",
       "  <tbody>\n",
       "    <tr>\n",
       "      <th>1431</th>\n",
       "      <td>7500</td>\n",
       "      <td>69.0</td>\n",
       "      <td>20544</td>\n",
       "      <td>Petrol</td>\n",
       "      <td>86</td>\n",
       "      <td>1</td>\n",
       "      <td>0</td>\n",
       "      <td>1300.0</td>\n",
       "      <td>3</td>\n",
       "      <td>1025.0</td>\n",
       "    </tr>\n",
       "    <tr>\n",
       "      <th>1432</th>\n",
       "      <td>10845</td>\n",
       "      <td>72.0</td>\n",
       "      <td>19000</td>\n",
       "      <td>Petrol</td>\n",
       "      <td>86</td>\n",
       "      <td>0</td>\n",
       "      <td>0</td>\n",
       "      <td>1300.0</td>\n",
       "      <td>3</td>\n",
       "      <td>1015.0</td>\n",
       "    </tr>\n",
       "    <tr>\n",
       "      <th>1433</th>\n",
       "      <td>8500</td>\n",
       "      <td>71.0</td>\n",
       "      <td>17016</td>\n",
       "      <td>Petrol</td>\n",
       "      <td>86</td>\n",
       "      <td>0</td>\n",
       "      <td>0</td>\n",
       "      <td>1300.0</td>\n",
       "      <td>3</td>\n",
       "      <td>1015.0</td>\n",
       "    </tr>\n",
       "    <tr>\n",
       "      <th>1434</th>\n",
       "      <td>7250</td>\n",
       "      <td>70.0</td>\n",
       "      <td>16916</td>\n",
       "      <td>Petrol</td>\n",
       "      <td>86</td>\n",
       "      <td>1</td>\n",
       "      <td>0</td>\n",
       "      <td>1300.0</td>\n",
       "      <td>3</td>\n",
       "      <td>1015.0</td>\n",
       "    </tr>\n",
       "    <tr>\n",
       "      <th>1435</th>\n",
       "      <td>6950</td>\n",
       "      <td>76.0</td>\n",
       "      <td>1</td>\n",
       "      <td>Petrol</td>\n",
       "      <td>110</td>\n",
       "      <td>0</td>\n",
       "      <td>0</td>\n",
       "      <td>1600.0</td>\n",
       "      <td>5</td>\n",
       "      <td>1114.0</td>\n",
       "    </tr>\n",
       "  </tbody>\n",
       "</table>\n",
       "</div>"
      ],
      "text/plain": [
       "      Price   Age     KM FuelType   HP  MetColor  Automatic      CC  Doors  \\\n",
       "1431   7500  69.0  20544   Petrol   86         1          0  1300.0      3   \n",
       "1432  10845  72.0  19000   Petrol   86         0          0  1300.0      3   \n",
       "1433   8500  71.0  17016   Petrol   86         0          0  1300.0      3   \n",
       "1434   7250  70.0  16916   Petrol   86         1          0  1300.0      3   \n",
       "1435   6950  76.0      1   Petrol  110         0          0  1600.0      5   \n",
       "\n",
       "      Weight  \n",
       "1431  1025.0  \n",
       "1432  1015.0  \n",
       "1433  1015.0  \n",
       "1434  1015.0  \n",
       "1435  1114.0  "
      ]
     },
     "execution_count": 136,
     "metadata": {},
     "output_type": "execute_result"
    }
   ],
   "source": [
    "# Print some sample bottom rows\n",
    "CarPricesData.tail()"
   ]
  },
  {
   "cell_type": "code",
   "execution_count": 137,
   "metadata": {
    "scrolled": true
   },
   "outputs": [
    {
     "data": {
      "text/plain": [
       "Price         236\n",
       "Age            77\n",
       "KM           1263\n",
       "FuelType        3\n",
       "HP             12\n",
       "MetColor        2\n",
       "Automatic       2\n",
       "CC             12\n",
       "Doors           4\n",
       "Weight         59\n",
       "dtype: int64"
      ]
     },
     "execution_count": 137,
     "metadata": {},
     "output_type": "execute_result"
    }
   ],
   "source": [
    "CarPricesData.nunique()"
   ]
  },
  {
   "cell_type": "code",
   "execution_count": 14,
   "metadata": {},
   "outputs": [
    {
     "name": "stdout",
     "output_type": "stream",
     "text": [
      "<class 'pandas.core.frame.DataFrame'>\n",
      "RangeIndex: 1436 entries, 0 to 1435\n",
      "Data columns (total 10 columns):\n",
      "Price        1436 non-null int64\n",
      "Age          1434 non-null float64\n",
      "KM           1436 non-null int64\n",
      "FuelType     1432 non-null object\n",
      "HP           1436 non-null int64\n",
      "MetColor     1436 non-null int64\n",
      "Automatic    1436 non-null int64\n",
      "CC           1434 non-null float64\n",
      "Doors        1436 non-null int64\n",
      "Weight       1434 non-null float64\n",
      "dtypes: float64(3), int64(6), object(1)\n",
      "memory usage: 112.3+ KB\n"
     ]
    }
   ],
   "source": [
    "# Print information about DataFrame\n",
    "CarPricesData.info()"
   ]
  },
  {
   "cell_type": "code",
   "execution_count": 17,
   "metadata": {
    "scrolled": true
   },
   "outputs": [
    {
     "data": {
      "text/html": [
       "<div>\n",
       "<style scoped>\n",
       "    .dataframe tbody tr th:only-of-type {\n",
       "        vertical-align: middle;\n",
       "    }\n",
       "\n",
       "    .dataframe tbody tr th {\n",
       "        vertical-align: top;\n",
       "    }\n",
       "\n",
       "    .dataframe thead th {\n",
       "        text-align: right;\n",
       "    }\n",
       "</style>\n",
       "<table border=\"1\" class=\"dataframe\">\n",
       "  <thead>\n",
       "    <tr style=\"text-align: right;\">\n",
       "      <th></th>\n",
       "      <th>Price</th>\n",
       "      <th>Age</th>\n",
       "      <th>KM</th>\n",
       "      <th>HP</th>\n",
       "      <th>MetColor</th>\n",
       "      <th>Automatic</th>\n",
       "      <th>CC</th>\n",
       "      <th>Doors</th>\n",
       "      <th>Weight</th>\n",
       "    </tr>\n",
       "  </thead>\n",
       "  <tbody>\n",
       "    <tr>\n",
       "      <td>count</td>\n",
       "      <td>1436.00</td>\n",
       "      <td>1434.00</td>\n",
       "      <td>1436.00</td>\n",
       "      <td>1436.00</td>\n",
       "      <td>1436.00</td>\n",
       "      <td>1436.00</td>\n",
       "      <td>1434.00</td>\n",
       "      <td>1436.00</td>\n",
       "      <td>1434.00</td>\n",
       "    </tr>\n",
       "    <tr>\n",
       "      <td>mean</td>\n",
       "      <td>10730.82</td>\n",
       "      <td>55.99</td>\n",
       "      <td>68533.26</td>\n",
       "      <td>101.50</td>\n",
       "      <td>0.67</td>\n",
       "      <td>0.06</td>\n",
       "      <td>1566.99</td>\n",
       "      <td>4.03</td>\n",
       "      <td>1072.49</td>\n",
       "    </tr>\n",
       "    <tr>\n",
       "      <td>std</td>\n",
       "      <td>3626.96</td>\n",
       "      <td>18.58</td>\n",
       "      <td>37506.45</td>\n",
       "      <td>14.98</td>\n",
       "      <td>0.47</td>\n",
       "      <td>0.23</td>\n",
       "      <td>187.18</td>\n",
       "      <td>0.95</td>\n",
       "      <td>52.67</td>\n",
       "    </tr>\n",
       "    <tr>\n",
       "      <td>min</td>\n",
       "      <td>4350.00</td>\n",
       "      <td>1.00</td>\n",
       "      <td>1.00</td>\n",
       "      <td>69.00</td>\n",
       "      <td>0.00</td>\n",
       "      <td>0.00</td>\n",
       "      <td>1300.00</td>\n",
       "      <td>2.00</td>\n",
       "      <td>1000.00</td>\n",
       "    </tr>\n",
       "    <tr>\n",
       "      <td>25%</td>\n",
       "      <td>8450.00</td>\n",
       "      <td>44.00</td>\n",
       "      <td>43000.00</td>\n",
       "      <td>90.00</td>\n",
       "      <td>0.00</td>\n",
       "      <td>0.00</td>\n",
       "      <td>1400.00</td>\n",
       "      <td>3.00</td>\n",
       "      <td>1040.00</td>\n",
       "    </tr>\n",
       "    <tr>\n",
       "      <td>50%</td>\n",
       "      <td>9900.00</td>\n",
       "      <td>61.00</td>\n",
       "      <td>63389.50</td>\n",
       "      <td>110.00</td>\n",
       "      <td>1.00</td>\n",
       "      <td>0.00</td>\n",
       "      <td>1600.00</td>\n",
       "      <td>4.00</td>\n",
       "      <td>1070.00</td>\n",
       "    </tr>\n",
       "    <tr>\n",
       "      <td>75%</td>\n",
       "      <td>11950.00</td>\n",
       "      <td>70.00</td>\n",
       "      <td>87020.75</td>\n",
       "      <td>110.00</td>\n",
       "      <td>1.00</td>\n",
       "      <td>0.00</td>\n",
       "      <td>1600.00</td>\n",
       "      <td>5.00</td>\n",
       "      <td>1085.00</td>\n",
       "    </tr>\n",
       "    <tr>\n",
       "      <td>max</td>\n",
       "      <td>32500.00</td>\n",
       "      <td>80.00</td>\n",
       "      <td>243000.00</td>\n",
       "      <td>192.00</td>\n",
       "      <td>1.00</td>\n",
       "      <td>1.00</td>\n",
       "      <td>2000.00</td>\n",
       "      <td>5.00</td>\n",
       "      <td>1615.00</td>\n",
       "    </tr>\n",
       "  </tbody>\n",
       "</table>\n",
       "</div>"
      ],
      "text/plain": [
       "          Price      Age         KM       HP  MetColor  Automatic       CC  \\\n",
       "count   1436.00  1434.00    1436.00  1436.00   1436.00    1436.00  1434.00   \n",
       "mean   10730.82    55.99   68533.26   101.50      0.67       0.06  1566.99   \n",
       "std     3626.96    18.58   37506.45    14.98      0.47       0.23   187.18   \n",
       "min     4350.00     1.00       1.00    69.00      0.00       0.00  1300.00   \n",
       "25%     8450.00    44.00   43000.00    90.00      0.00       0.00  1400.00   \n",
       "50%     9900.00    61.00   63389.50   110.00      1.00       0.00  1600.00   \n",
       "75%    11950.00    70.00   87020.75   110.00      1.00       0.00  1600.00   \n",
       "max    32500.00    80.00  243000.00   192.00      1.00       1.00  2000.00   \n",
       "\n",
       "         Doors   Weight  \n",
       "count  1436.00  1434.00  \n",
       "mean      4.03  1072.49  \n",
       "std       0.95    52.67  \n",
       "min       2.00  1000.00  \n",
       "25%       3.00  1040.00  \n",
       "50%       4.00  1070.00  \n",
       "75%       5.00  1085.00  \n",
       "max       5.00  1615.00  "
      ]
     },
     "execution_count": 17,
     "metadata": {},
     "output_type": "execute_result"
    }
   ],
   "source": [
    "# Print statistical information about DataFrame\n",
    "# 1. Measures of Central Tendency -- Mean, Median, Mode\n",
    "# 2. Measures of Spread -- Min, Max, StandardDeviation \n",
    "# 3. Meaures of location-- Quartiles, deciles, percent, percentile\n",
    "\n",
    "# Statistical information for all numeric variables\n",
    "round(CarPricesData.describe(), ndigits=2)"
   ]
  },
  {
   "cell_type": "code",
   "execution_count": 140,
   "metadata": {},
   "outputs": [
    {
     "data": {
      "text/html": [
       "<div>\n",
       "<style scoped>\n",
       "    .dataframe tbody tr th:only-of-type {\n",
       "        vertical-align: middle;\n",
       "    }\n",
       "\n",
       "    .dataframe tbody tr th {\n",
       "        vertical-align: top;\n",
       "    }\n",
       "\n",
       "    .dataframe thead th {\n",
       "        text-align: right;\n",
       "    }\n",
       "</style>\n",
       "<table border=\"1\" class=\"dataframe\">\n",
       "  <thead>\n",
       "    <tr style=\"text-align: right;\">\n",
       "      <th></th>\n",
       "      <th>Price</th>\n",
       "      <th>Age</th>\n",
       "      <th>KM</th>\n",
       "      <th>FuelType</th>\n",
       "      <th>HP</th>\n",
       "      <th>MetColor</th>\n",
       "      <th>Automatic</th>\n",
       "      <th>CC</th>\n",
       "      <th>Doors</th>\n",
       "      <th>Weight</th>\n",
       "    </tr>\n",
       "  </thead>\n",
       "  <tbody>\n",
       "    <tr>\n",
       "      <th>count</th>\n",
       "      <td>1436.000000</td>\n",
       "      <td>1434.000000</td>\n",
       "      <td>1436.000000</td>\n",
       "      <td>1432</td>\n",
       "      <td>1436.000000</td>\n",
       "      <td>1436.000000</td>\n",
       "      <td>1436.000000</td>\n",
       "      <td>1434.000000</td>\n",
       "      <td>1436.000000</td>\n",
       "      <td>1434.000000</td>\n",
       "    </tr>\n",
       "    <tr>\n",
       "      <th>unique</th>\n",
       "      <td>NaN</td>\n",
       "      <td>NaN</td>\n",
       "      <td>NaN</td>\n",
       "      <td>3</td>\n",
       "      <td>NaN</td>\n",
       "      <td>NaN</td>\n",
       "      <td>NaN</td>\n",
       "      <td>NaN</td>\n",
       "      <td>NaN</td>\n",
       "      <td>NaN</td>\n",
       "    </tr>\n",
       "    <tr>\n",
       "      <th>top</th>\n",
       "      <td>NaN</td>\n",
       "      <td>NaN</td>\n",
       "      <td>NaN</td>\n",
       "      <td>Petrol</td>\n",
       "      <td>NaN</td>\n",
       "      <td>NaN</td>\n",
       "      <td>NaN</td>\n",
       "      <td>NaN</td>\n",
       "      <td>NaN</td>\n",
       "      <td>NaN</td>\n",
       "    </tr>\n",
       "    <tr>\n",
       "      <th>freq</th>\n",
       "      <td>NaN</td>\n",
       "      <td>NaN</td>\n",
       "      <td>NaN</td>\n",
       "      <td>1260</td>\n",
       "      <td>NaN</td>\n",
       "      <td>NaN</td>\n",
       "      <td>NaN</td>\n",
       "      <td>NaN</td>\n",
       "      <td>NaN</td>\n",
       "      <td>NaN</td>\n",
       "    </tr>\n",
       "    <tr>\n",
       "      <th>mean</th>\n",
       "      <td>10730.824513</td>\n",
       "      <td>55.986750</td>\n",
       "      <td>68533.259749</td>\n",
       "      <td>NaN</td>\n",
       "      <td>101.502089</td>\n",
       "      <td>0.674791</td>\n",
       "      <td>0.055710</td>\n",
       "      <td>1566.990934</td>\n",
       "      <td>4.033426</td>\n",
       "      <td>1072.487448</td>\n",
       "    </tr>\n",
       "    <tr>\n",
       "      <th>std</th>\n",
       "      <td>3626.964585</td>\n",
       "      <td>18.581796</td>\n",
       "      <td>37506.448872</td>\n",
       "      <td>NaN</td>\n",
       "      <td>14.981080</td>\n",
       "      <td>0.468616</td>\n",
       "      <td>0.229441</td>\n",
       "      <td>187.178221</td>\n",
       "      <td>0.952677</td>\n",
       "      <td>52.672475</td>\n",
       "    </tr>\n",
       "    <tr>\n",
       "      <th>min</th>\n",
       "      <td>4350.000000</td>\n",
       "      <td>1.000000</td>\n",
       "      <td>1.000000</td>\n",
       "      <td>NaN</td>\n",
       "      <td>69.000000</td>\n",
       "      <td>0.000000</td>\n",
       "      <td>0.000000</td>\n",
       "      <td>1300.000000</td>\n",
       "      <td>2.000000</td>\n",
       "      <td>1000.000000</td>\n",
       "    </tr>\n",
       "    <tr>\n",
       "      <th>25%</th>\n",
       "      <td>8450.000000</td>\n",
       "      <td>44.000000</td>\n",
       "      <td>43000.000000</td>\n",
       "      <td>NaN</td>\n",
       "      <td>90.000000</td>\n",
       "      <td>0.000000</td>\n",
       "      <td>0.000000</td>\n",
       "      <td>1400.000000</td>\n",
       "      <td>3.000000</td>\n",
       "      <td>1040.000000</td>\n",
       "    </tr>\n",
       "    <tr>\n",
       "      <th>50%</th>\n",
       "      <td>9900.000000</td>\n",
       "      <td>61.000000</td>\n",
       "      <td>63389.500000</td>\n",
       "      <td>NaN</td>\n",
       "      <td>110.000000</td>\n",
       "      <td>1.000000</td>\n",
       "      <td>0.000000</td>\n",
       "      <td>1600.000000</td>\n",
       "      <td>4.000000</td>\n",
       "      <td>1070.000000</td>\n",
       "    </tr>\n",
       "    <tr>\n",
       "      <th>75%</th>\n",
       "      <td>11950.000000</td>\n",
       "      <td>70.000000</td>\n",
       "      <td>87020.750000</td>\n",
       "      <td>NaN</td>\n",
       "      <td>110.000000</td>\n",
       "      <td>1.000000</td>\n",
       "      <td>0.000000</td>\n",
       "      <td>1600.000000</td>\n",
       "      <td>5.000000</td>\n",
       "      <td>1085.000000</td>\n",
       "    </tr>\n",
       "    <tr>\n",
       "      <th>max</th>\n",
       "      <td>32500.000000</td>\n",
       "      <td>80.000000</td>\n",
       "      <td>243000.000000</td>\n",
       "      <td>NaN</td>\n",
       "      <td>192.000000</td>\n",
       "      <td>1.000000</td>\n",
       "      <td>1.000000</td>\n",
       "      <td>2000.000000</td>\n",
       "      <td>5.000000</td>\n",
       "      <td>1615.000000</td>\n",
       "    </tr>\n",
       "  </tbody>\n",
       "</table>\n",
       "</div>"
      ],
      "text/plain": [
       "               Price          Age             KM FuelType           HP  \\\n",
       "count    1436.000000  1434.000000    1436.000000     1432  1436.000000   \n",
       "unique           NaN          NaN            NaN        3          NaN   \n",
       "top              NaN          NaN            NaN   Petrol          NaN   \n",
       "freq             NaN          NaN            NaN     1260          NaN   \n",
       "mean    10730.824513    55.986750   68533.259749      NaN   101.502089   \n",
       "std      3626.964585    18.581796   37506.448872      NaN    14.981080   \n",
       "min      4350.000000     1.000000       1.000000      NaN    69.000000   \n",
       "25%      8450.000000    44.000000   43000.000000      NaN    90.000000   \n",
       "50%      9900.000000    61.000000   63389.500000      NaN   110.000000   \n",
       "75%     11950.000000    70.000000   87020.750000      NaN   110.000000   \n",
       "max     32500.000000    80.000000  243000.000000      NaN   192.000000   \n",
       "\n",
       "           MetColor    Automatic           CC        Doors       Weight  \n",
       "count   1436.000000  1436.000000  1434.000000  1436.000000  1434.000000  \n",
       "unique          NaN          NaN          NaN          NaN          NaN  \n",
       "top             NaN          NaN          NaN          NaN          NaN  \n",
       "freq            NaN          NaN          NaN          NaN          NaN  \n",
       "mean       0.674791     0.055710  1566.990934     4.033426  1072.487448  \n",
       "std        0.468616     0.229441   187.178221     0.952677    52.672475  \n",
       "min        0.000000     0.000000  1300.000000     2.000000  1000.000000  \n",
       "25%        0.000000     0.000000  1400.000000     3.000000  1040.000000  \n",
       "50%        1.000000     0.000000  1600.000000     4.000000  1070.000000  \n",
       "75%        1.000000     0.000000  1600.000000     5.000000  1085.000000  \n",
       "max        1.000000     1.000000  2000.000000     5.000000  1615.000000  "
      ]
     },
     "execution_count": 140,
     "metadata": {},
     "output_type": "execute_result"
    }
   ],
   "source": [
    "# Statistical information for numeric and character variables both\n",
    "CarPricesData.describe(include='all')"
   ]
  },
  {
   "cell_type": "code",
   "execution_count": 7,
   "metadata": {},
   "outputs": [
    {
     "data": {
      "text/plain": [
       "0    1\n",
       "dtype: int64"
      ]
     },
     "execution_count": 7,
     "metadata": {},
     "output_type": "execute_result"
    }
   ],
   "source": [
    "CarPricesData['MetColor'].mode()"
   ]
  },
  {
   "cell_type": "code",
   "execution_count": 18,
   "metadata": {},
   "outputs": [
    {
     "data": {
      "text/plain": [
       "4350"
      ]
     },
     "execution_count": 18,
     "metadata": {},
     "output_type": "execute_result"
    }
   ],
   "source": [
    "CarPricesData['Price'].min()"
   ]
  },
  {
   "cell_type": "code",
   "execution_count": 19,
   "metadata": {},
   "outputs": [
    {
     "data": {
      "text/plain": [
       "32500"
      ]
     },
     "execution_count": 19,
     "metadata": {},
     "output_type": "execute_result"
    }
   ],
   "source": [
    "CarPricesData['Price'].max()"
   ]
  },
  {
   "cell_type": "code",
   "execution_count": 20,
   "metadata": {},
   "outputs": [
    {
     "data": {
      "text/plain": [
       "10730.824512534818"
      ]
     },
     "execution_count": 20,
     "metadata": {},
     "output_type": "execute_result"
    }
   ],
   "source": [
    "CarPricesData['Price'].mean()"
   ]
  },
  {
   "cell_type": "code",
   "execution_count": 22,
   "metadata": {},
   "outputs": [
    {
     "data": {
      "text/plain": [
       "3625.701494297355"
      ]
     },
     "execution_count": 22,
     "metadata": {},
     "output_type": "execute_result"
    }
   ],
   "source": [
    "np.std(CarPricesData['Price'])"
   ]
  },
  {
   "cell_type": "code",
   "execution_count": 23,
   "metadata": {},
   "outputs": [
    {
     "data": {
      "text/plain": [
       "13145711.325750075"
      ]
     },
     "execution_count": 23,
     "metadata": {},
     "output_type": "execute_result"
    }
   ],
   "source": [
    "np.var(CarPricesData['Price'])"
   ]
  },
  {
   "cell_type": "code",
   "execution_count": 25,
   "metadata": {},
   "outputs": [
    {
     "data": {
      "text/plain": [
       "(1436, 10)"
      ]
     },
     "execution_count": 25,
     "metadata": {},
     "output_type": "execute_result"
    }
   ],
   "source": [
    "# Print dimension information (ROWS, COLS) about DataFrame\n",
    "CarPricesData.shape"
   ]
  },
  {
   "cell_type": "code",
   "execution_count": 142,
   "metadata": {},
   "outputs": [
    {
     "data": {
      "text/plain": [
       "Index(['Price', 'Age', 'KM', 'FuelType', 'HP', 'MetColor', 'Automatic', 'CC',\n",
       "       'Doors', 'Weight'],\n",
       "      dtype='object')"
      ]
     },
     "execution_count": 142,
     "metadata": {},
     "output_type": "execute_result"
    }
   ],
   "source": [
    "# Finding the list of columns in the data\n",
    "CarPricesData.columns"
   ]
  },
  {
   "cell_type": "code",
   "execution_count": null,
   "metadata": {},
   "outputs": [],
   "source": []
  },
  {
   "cell_type": "code",
   "execution_count": null,
   "metadata": {},
   "outputs": [],
   "source": []
  },
  {
   "cell_type": "markdown",
   "metadata": {},
   "source": [
    "# Access data using indexes\n",
    "Python indexes start with zero (0)"
   ]
  },
  {
   "cell_type": "markdown",
   "metadata": {},
   "source": [
    "### Accessing values in a simple vector"
   ]
  },
  {
   "cell_type": "code",
   "execution_count": 8,
   "metadata": {},
   "outputs": [
    {
     "name": "stdout",
     "output_type": "stream",
     "text": [
      "[10, 20, 30, 40]\n"
     ]
    }
   ],
   "source": [
    "SimpleNumericList=[10,20,30,40]\n",
    "print(SimpleNumericList)"
   ]
  },
  {
   "cell_type": "code",
   "execution_count": 2,
   "metadata": {},
   "outputs": [
    {
     "name": "stdout",
     "output_type": "stream",
     "text": [
      "10\n"
     ]
    }
   ],
   "source": [
    "# Accessing first element using index\n",
    "print(SimpleNumericList[0])"
   ]
  },
  {
   "cell_type": "code",
   "execution_count": 3,
   "metadata": {},
   "outputs": [
    {
     "name": "stdout",
     "output_type": "stream",
     "text": [
      "20\n"
     ]
    }
   ],
   "source": [
    "# Accessing second element\n",
    "print(SimpleNumericList[1])"
   ]
  },
  {
   "cell_type": "code",
   "execution_count": 9,
   "metadata": {},
   "outputs": [
    {
     "name": "stdout",
     "output_type": "stream",
     "text": [
      "[20, 30]\n"
     ]
    }
   ],
   "source": [
    "# Accessing first two elements\n",
    "# Note that last element in Python range is excluded\n",
    "print(SimpleNumericList[1:3])"
   ]
  },
  {
   "cell_type": "code",
   "execution_count": 7,
   "metadata": {},
   "outputs": [
    {
     "name": "stdout",
     "output_type": "stream",
     "text": [
      "20\n"
     ]
    }
   ],
   "source": [
    "# Accessing last element using negative indexing\n",
    "# Note that negative indexes start from -1\n",
    "print(SimpleNumericList[-3])"
   ]
  },
  {
   "cell_type": "code",
   "execution_count": 10,
   "metadata": {},
   "outputs": [
    {
     "name": "stdout",
     "output_type": "stream",
     "text": [
      "[20, 30, 40]\n"
     ]
    }
   ],
   "source": [
    "# Get all elements after index 2\n",
    "print(SimpleNumericList[1:])"
   ]
  },
  {
   "cell_type": "code",
   "execution_count": 14,
   "metadata": {
    "scrolled": true
   },
   "outputs": [
    {
     "name": "stdout",
     "output_type": "stream",
     "text": [
      "[10, 20]\n"
     ]
    }
   ],
   "source": [
    "# Get all elements before index 2\n",
    "print(SimpleNumericList[:2])"
   ]
  },
  {
   "cell_type": "code",
   "execution_count": 8,
   "metadata": {},
   "outputs": [
    {
     "name": "stdout",
     "output_type": "stream",
     "text": [
      "[10, 20]\n"
     ]
    }
   ],
   "source": [
    "print(SimpleNumericList[0:-2])"
   ]
  },
  {
   "cell_type": "markdown",
   "metadata": {},
   "source": [
    "### Accessing values in a DataFrame"
   ]
  },
  {
   "cell_type": "code",
   "execution_count": null,
   "metadata": {},
   "outputs": [],
   "source": []
  },
  {
   "cell_type": "code",
   "execution_count": 16,
   "metadata": {
    "scrolled": true
   },
   "outputs": [
    {
     "data": {
      "text/html": [
       "<div>\n",
       "<style scoped>\n",
       "    .dataframe tbody tr th:only-of-type {\n",
       "        vertical-align: middle;\n",
       "    }\n",
       "\n",
       "    .dataframe tbody tr th {\n",
       "        vertical-align: top;\n",
       "    }\n",
       "\n",
       "    .dataframe thead th {\n",
       "        text-align: right;\n",
       "    }\n",
       "</style>\n",
       "<table border=\"1\" class=\"dataframe\">\n",
       "  <thead>\n",
       "    <tr style=\"text-align: right;\">\n",
       "      <th></th>\n",
       "      <th>Price</th>\n",
       "      <th>Age</th>\n",
       "      <th>KM</th>\n",
       "      <th>FuelType</th>\n",
       "      <th>HP</th>\n",
       "      <th>MetColor</th>\n",
       "      <th>Automatic</th>\n",
       "      <th>CC</th>\n",
       "      <th>Doors</th>\n",
       "      <th>Weight</th>\n",
       "    </tr>\n",
       "  </thead>\n",
       "  <tbody>\n",
       "    <tr>\n",
       "      <td>0</td>\n",
       "      <td>13500</td>\n",
       "      <td>23.0</td>\n",
       "      <td>46986</td>\n",
       "      <td>Diesel</td>\n",
       "      <td>90</td>\n",
       "      <td>1</td>\n",
       "      <td>0</td>\n",
       "      <td>2000.0</td>\n",
       "      <td>3</td>\n",
       "      <td>1165.0</td>\n",
       "    </tr>\n",
       "    <tr>\n",
       "      <td>1</td>\n",
       "      <td>13750</td>\n",
       "      <td>23.0</td>\n",
       "      <td>72937</td>\n",
       "      <td>Diesel</td>\n",
       "      <td>90</td>\n",
       "      <td>1</td>\n",
       "      <td>0</td>\n",
       "      <td>2000.0</td>\n",
       "      <td>3</td>\n",
       "      <td>1165.0</td>\n",
       "    </tr>\n",
       "    <tr>\n",
       "      <td>2</td>\n",
       "      <td>13950</td>\n",
       "      <td>24.0</td>\n",
       "      <td>41711</td>\n",
       "      <td>Diesel</td>\n",
       "      <td>90</td>\n",
       "      <td>1</td>\n",
       "      <td>0</td>\n",
       "      <td>2000.0</td>\n",
       "      <td>3</td>\n",
       "      <td>1165.0</td>\n",
       "    </tr>\n",
       "    <tr>\n",
       "      <td>3</td>\n",
       "      <td>14950</td>\n",
       "      <td>26.0</td>\n",
       "      <td>48000</td>\n",
       "      <td>Diesel</td>\n",
       "      <td>90</td>\n",
       "      <td>0</td>\n",
       "      <td>0</td>\n",
       "      <td>2000.0</td>\n",
       "      <td>3</td>\n",
       "      <td>1165.0</td>\n",
       "    </tr>\n",
       "    <tr>\n",
       "      <td>4</td>\n",
       "      <td>13750</td>\n",
       "      <td>30.0</td>\n",
       "      <td>38500</td>\n",
       "      <td>Diesel</td>\n",
       "      <td>90</td>\n",
       "      <td>0</td>\n",
       "      <td>0</td>\n",
       "      <td>2000.0</td>\n",
       "      <td>3</td>\n",
       "      <td>1170.0</td>\n",
       "    </tr>\n",
       "  </tbody>\n",
       "</table>\n",
       "</div>"
      ],
      "text/plain": [
       "   Price   Age     KM FuelType  HP  MetColor  Automatic      CC  Doors  Weight\n",
       "0  13500  23.0  46986   Diesel  90         1          0  2000.0      3  1165.0\n",
       "1  13750  23.0  72937   Diesel  90         1          0  2000.0      3  1165.0\n",
       "2  13950  24.0  41711   Diesel  90         1          0  2000.0      3  1165.0\n",
       "3  14950  26.0  48000   Diesel  90         0          0  2000.0      3  1165.0\n",
       "4  13750  30.0  38500   Diesel  90         0          0  2000.0      3  1170.0"
      ]
     },
     "execution_count": 16,
     "metadata": {},
     "output_type": "execute_result"
    }
   ],
   "source": [
    "CarPricesData.head()"
   ]
  },
  {
   "cell_type": "code",
   "execution_count": null,
   "metadata": {},
   "outputs": [],
   "source": []
  },
  {
   "cell_type": "code",
   "execution_count": 17,
   "metadata": {},
   "outputs": [
    {
     "data": {
      "text/plain": [
       "72937"
      ]
     },
     "execution_count": 17,
     "metadata": {},
     "output_type": "execute_result"
    }
   ],
   "source": [
    "# Accessing Data via indexing function iloc (index Location in ROWS, COLS format)\n",
    "# We are accessing 2nd Row and 3rd Column\n",
    "# CarPricesData.iloc[Which rows you need, which cols you need]\n",
    "CarPricesData.iloc[1, 2]"
   ]
  },
  {
   "cell_type": "code",
   "execution_count": 16,
   "metadata": {},
   "outputs": [
    {
     "data": {
      "text/plain": [
       "0    13500\n",
       "1    13750\n",
       "2    13950\n",
       "3    14950\n",
       "4    13750\n",
       "Name: Price, dtype: int64"
      ]
     },
     "execution_count": 16,
     "metadata": {},
     "output_type": "execute_result"
    }
   ],
   "source": [
    "# Accessing first 5 values of First Column\n",
    "CarPricesData.iloc[0:5,0]"
   ]
  },
  {
   "cell_type": "code",
   "execution_count": 23,
   "metadata": {
    "scrolled": true
   },
   "outputs": [
    {
     "data": {
      "text/html": [
       "<div>\n",
       "<style scoped>\n",
       "    .dataframe tbody tr th:only-of-type {\n",
       "        vertical-align: middle;\n",
       "    }\n",
       "\n",
       "    .dataframe tbody tr th {\n",
       "        vertical-align: top;\n",
       "    }\n",
       "\n",
       "    .dataframe thead th {\n",
       "        text-align: right;\n",
       "    }\n",
       "</style>\n",
       "<table border=\"1\" class=\"dataframe\">\n",
       "  <thead>\n",
       "    <tr style=\"text-align: right;\">\n",
       "      <th></th>\n",
       "      <th>Price</th>\n",
       "      <th>Age</th>\n",
       "    </tr>\n",
       "  </thead>\n",
       "  <tbody>\n",
       "    <tr>\n",
       "      <td>0</td>\n",
       "      <td>13500</td>\n",
       "      <td>23.0</td>\n",
       "    </tr>\n",
       "    <tr>\n",
       "      <td>1</td>\n",
       "      <td>13750</td>\n",
       "      <td>23.0</td>\n",
       "    </tr>\n",
       "    <tr>\n",
       "      <td>2</td>\n",
       "      <td>13950</td>\n",
       "      <td>24.0</td>\n",
       "    </tr>\n",
       "    <tr>\n",
       "      <td>3</td>\n",
       "      <td>14950</td>\n",
       "      <td>26.0</td>\n",
       "    </tr>\n",
       "    <tr>\n",
       "      <td>4</td>\n",
       "      <td>13750</td>\n",
       "      <td>30.0</td>\n",
       "    </tr>\n",
       "  </tbody>\n",
       "</table>\n",
       "</div>"
      ],
      "text/plain": [
       "   Price   Age\n",
       "0  13500  23.0\n",
       "1  13750  23.0\n",
       "2  13950  24.0\n",
       "3  14950  26.0\n",
       "4  13750  30.0"
      ]
     },
     "execution_count": 23,
     "metadata": {},
     "output_type": "execute_result"
    }
   ],
   "source": [
    "# Accessing first 5 values of First 2 Columns\n",
    "CarPricesData.iloc[0:5,0:2]"
   ]
  },
  {
   "cell_type": "code",
   "execution_count": 11,
   "metadata": {},
   "outputs": [
    {
     "data": {
      "text/html": [
       "<div>\n",
       "<style scoped>\n",
       "    .dataframe tbody tr th:only-of-type {\n",
       "        vertical-align: middle;\n",
       "    }\n",
       "\n",
       "    .dataframe tbody tr th {\n",
       "        vertical-align: top;\n",
       "    }\n",
       "\n",
       "    .dataframe thead th {\n",
       "        text-align: right;\n",
       "    }\n",
       "</style>\n",
       "<table border=\"1\" class=\"dataframe\">\n",
       "  <thead>\n",
       "    <tr style=\"text-align: right;\">\n",
       "      <th></th>\n",
       "      <th>Age</th>\n",
       "      <th>FuelType</th>\n",
       "      <th>CC</th>\n",
       "    </tr>\n",
       "  </thead>\n",
       "  <tbody>\n",
       "    <tr>\n",
       "      <td>0</td>\n",
       "      <td>23.0</td>\n",
       "      <td>Diesel</td>\n",
       "      <td>2000.0</td>\n",
       "    </tr>\n",
       "    <tr>\n",
       "      <td>2</td>\n",
       "      <td>24.0</td>\n",
       "      <td>Diesel</td>\n",
       "      <td>2000.0</td>\n",
       "    </tr>\n",
       "    <tr>\n",
       "      <td>3</td>\n",
       "      <td>26.0</td>\n",
       "      <td>Diesel</td>\n",
       "      <td>2000.0</td>\n",
       "    </tr>\n",
       "    <tr>\n",
       "      <td>6</td>\n",
       "      <td>27.0</td>\n",
       "      <td>Diesel</td>\n",
       "      <td>2000.0</td>\n",
       "    </tr>\n",
       "    <tr>\n",
       "      <td>7</td>\n",
       "      <td>30.0</td>\n",
       "      <td>Diesel</td>\n",
       "      <td>2000.0</td>\n",
       "    </tr>\n",
       "    <tr>\n",
       "      <td>10</td>\n",
       "      <td>25.0</td>\n",
       "      <td>Petrol</td>\n",
       "      <td>1800.0</td>\n",
       "    </tr>\n",
       "  </tbody>\n",
       "</table>\n",
       "</div>"
      ],
      "text/plain": [
       "     Age FuelType      CC\n",
       "0   23.0   Diesel  2000.0\n",
       "2   24.0   Diesel  2000.0\n",
       "3   26.0   Diesel  2000.0\n",
       "6   27.0   Diesel  2000.0\n",
       "7   30.0   Diesel  2000.0\n",
       "10  25.0   Petrol  1800.0"
      ]
     },
     "execution_count": 11,
     "metadata": {},
     "output_type": "execute_result"
    }
   ],
   "source": [
    "# Accessing specific values of list of rows and columns\n",
    "CarPricesData.iloc[[0,2,3,6,7,10],[1,3,7]]"
   ]
  },
  {
   "cell_type": "code",
   "execution_count": 17,
   "metadata": {
    "scrolled": false
   },
   "outputs": [
    {
     "data": {
      "text/html": [
       "<div>\n",
       "<style scoped>\n",
       "    .dataframe tbody tr th:only-of-type {\n",
       "        vertical-align: middle;\n",
       "    }\n",
       "\n",
       "    .dataframe tbody tr th {\n",
       "        vertical-align: top;\n",
       "    }\n",
       "\n",
       "    .dataframe thead th {\n",
       "        text-align: right;\n",
       "    }\n",
       "</style>\n",
       "<table border=\"1\" class=\"dataframe\">\n",
       "  <thead>\n",
       "    <tr style=\"text-align: right;\">\n",
       "      <th></th>\n",
       "      <th>Price</th>\n",
       "    </tr>\n",
       "  </thead>\n",
       "  <tbody>\n",
       "    <tr>\n",
       "      <td>0</td>\n",
       "      <td>13500</td>\n",
       "    </tr>\n",
       "    <tr>\n",
       "      <td>1</td>\n",
       "      <td>13750</td>\n",
       "    </tr>\n",
       "    <tr>\n",
       "      <td>2</td>\n",
       "      <td>13950</td>\n",
       "    </tr>\n",
       "    <tr>\n",
       "      <td>3</td>\n",
       "      <td>14950</td>\n",
       "    </tr>\n",
       "    <tr>\n",
       "      <td>4</td>\n",
       "      <td>13750</td>\n",
       "    </tr>\n",
       "  </tbody>\n",
       "</table>\n",
       "</div>"
      ],
      "text/plain": [
       "   Price\n",
       "0  13500\n",
       "1  13750\n",
       "2  13950\n",
       "3  14950\n",
       "4  13750"
      ]
     },
     "execution_count": 17,
     "metadata": {},
     "output_type": "execute_result"
    }
   ],
   "source": [
    "# Selecting one single column from the data frame\n",
    "selectedCol=['Price']\n",
    "CarPricesData[selectedCol].head()"
   ]
  },
  {
   "cell_type": "code",
   "execution_count": null,
   "metadata": {},
   "outputs": [],
   "source": []
  },
  {
   "cell_type": "code",
   "execution_count": 20,
   "metadata": {},
   "outputs": [
    {
     "data": {
      "text/html": [
       "<div>\n",
       "<style scoped>\n",
       "    .dataframe tbody tr th:only-of-type {\n",
       "        vertical-align: middle;\n",
       "    }\n",
       "\n",
       "    .dataframe tbody tr th {\n",
       "        vertical-align: top;\n",
       "    }\n",
       "\n",
       "    .dataframe thead th {\n",
       "        text-align: right;\n",
       "    }\n",
       "</style>\n",
       "<table border=\"1\" class=\"dataframe\">\n",
       "  <thead>\n",
       "    <tr style=\"text-align: right;\">\n",
       "      <th></th>\n",
       "      <th>Price</th>\n",
       "    </tr>\n",
       "  </thead>\n",
       "  <tbody>\n",
       "    <tr>\n",
       "      <td>10</td>\n",
       "      <td>20950</td>\n",
       "    </tr>\n",
       "    <tr>\n",
       "      <td>11</td>\n",
       "      <td>19950</td>\n",
       "    </tr>\n",
       "    <tr>\n",
       "      <td>12</td>\n",
       "      <td>19600</td>\n",
       "    </tr>\n",
       "    <tr>\n",
       "      <td>13</td>\n",
       "      <td>21500</td>\n",
       "    </tr>\n",
       "    <tr>\n",
       "      <td>14</td>\n",
       "      <td>22500</td>\n",
       "    </tr>\n",
       "  </tbody>\n",
       "</table>\n",
       "</div>"
      ],
      "text/plain": [
       "    Price\n",
       "10  20950\n",
       "11  19950\n",
       "12  19600\n",
       "13  21500\n",
       "14  22500"
      ]
     },
     "execution_count": 20,
     "metadata": {},
     "output_type": "execute_result"
    }
   ],
   "source": [
    "# Accessing First 5 Values using column name\n",
    "CarPricesData[['Price']].iloc[10:15,]"
   ]
  },
  {
   "cell_type": "code",
   "execution_count": 22,
   "metadata": {},
   "outputs": [
    {
     "data": {
      "text/html": [
       "<div>\n",
       "<style scoped>\n",
       "    .dataframe tbody tr th:only-of-type {\n",
       "        vertical-align: middle;\n",
       "    }\n",
       "\n",
       "    .dataframe tbody tr th {\n",
       "        vertical-align: top;\n",
       "    }\n",
       "\n",
       "    .dataframe thead th {\n",
       "        text-align: right;\n",
       "    }\n",
       "</style>\n",
       "<table border=\"1\" class=\"dataframe\">\n",
       "  <thead>\n",
       "    <tr style=\"text-align: right;\">\n",
       "      <th></th>\n",
       "      <th>Price</th>\n",
       "      <th>Age</th>\n",
       "      <th>KM</th>\n",
       "    </tr>\n",
       "  </thead>\n",
       "  <tbody>\n",
       "    <tr>\n",
       "      <td>0</td>\n",
       "      <td>13500</td>\n",
       "      <td>23.0</td>\n",
       "      <td>46986</td>\n",
       "    </tr>\n",
       "    <tr>\n",
       "      <td>1</td>\n",
       "      <td>13750</td>\n",
       "      <td>23.0</td>\n",
       "      <td>72937</td>\n",
       "    </tr>\n",
       "    <tr>\n",
       "      <td>2</td>\n",
       "      <td>13950</td>\n",
       "      <td>24.0</td>\n",
       "      <td>41711</td>\n",
       "    </tr>\n",
       "    <tr>\n",
       "      <td>3</td>\n",
       "      <td>14950</td>\n",
       "      <td>26.0</td>\n",
       "      <td>48000</td>\n",
       "    </tr>\n",
       "    <tr>\n",
       "      <td>4</td>\n",
       "      <td>13750</td>\n",
       "      <td>30.0</td>\n",
       "      <td>38500</td>\n",
       "    </tr>\n",
       "  </tbody>\n",
       "</table>\n",
       "</div>"
      ],
      "text/plain": [
       "   Price   Age     KM\n",
       "0  13500  23.0  46986\n",
       "1  13750  23.0  72937\n",
       "2  13950  24.0  41711\n",
       "3  14950  26.0  48000\n",
       "4  13750  30.0  38500"
      ]
     },
     "execution_count": 22,
     "metadata": {},
     "output_type": "execute_result"
    }
   ],
   "source": [
    "# passing a list of column names to select multiple columns\n",
    "mycols=['Price','Age','KM']\n",
    "CarPricesData[mycols].iloc[0:5,]"
   ]
  },
  {
   "cell_type": "code",
   "execution_count": 24,
   "metadata": {},
   "outputs": [
    {
     "data": {
      "text/html": [
       "<div>\n",
       "<style scoped>\n",
       "    .dataframe tbody tr th:only-of-type {\n",
       "        vertical-align: middle;\n",
       "    }\n",
       "\n",
       "    .dataframe tbody tr th {\n",
       "        vertical-align: top;\n",
       "    }\n",
       "\n",
       "    .dataframe thead th {\n",
       "        text-align: right;\n",
       "    }\n",
       "</style>\n",
       "<table border=\"1\" class=\"dataframe\">\n",
       "  <thead>\n",
       "    <tr style=\"text-align: right;\">\n",
       "      <th></th>\n",
       "      <th>Price</th>\n",
       "      <th>Age</th>\n",
       "      <th>KM</th>\n",
       "    </tr>\n",
       "  </thead>\n",
       "  <tbody>\n",
       "    <tr>\n",
       "      <td>0</td>\n",
       "      <td>13500</td>\n",
       "      <td>23.0</td>\n",
       "      <td>46986</td>\n",
       "    </tr>\n",
       "    <tr>\n",
       "      <td>1</td>\n",
       "      <td>13750</td>\n",
       "      <td>23.0</td>\n",
       "      <td>72937</td>\n",
       "    </tr>\n",
       "    <tr>\n",
       "      <td>2</td>\n",
       "      <td>13950</td>\n",
       "      <td>24.0</td>\n",
       "      <td>41711</td>\n",
       "    </tr>\n",
       "    <tr>\n",
       "      <td>3</td>\n",
       "      <td>14950</td>\n",
       "      <td>26.0</td>\n",
       "      <td>48000</td>\n",
       "    </tr>\n",
       "    <tr>\n",
       "      <td>4</td>\n",
       "      <td>13750</td>\n",
       "      <td>30.0</td>\n",
       "      <td>38500</td>\n",
       "    </tr>\n",
       "    <tr>\n",
       "      <td>5</td>\n",
       "      <td>12950</td>\n",
       "      <td>32.0</td>\n",
       "      <td>61000</td>\n",
       "    </tr>\n",
       "    <tr>\n",
       "      <td>6</td>\n",
       "      <td>16900</td>\n",
       "      <td>27.0</td>\n",
       "      <td>94612</td>\n",
       "    </tr>\n",
       "    <tr>\n",
       "      <td>7</td>\n",
       "      <td>18600</td>\n",
       "      <td>30.0</td>\n",
       "      <td>75889</td>\n",
       "    </tr>\n",
       "    <tr>\n",
       "      <td>8</td>\n",
       "      <td>21500</td>\n",
       "      <td>27.0</td>\n",
       "      <td>19700</td>\n",
       "    </tr>\n",
       "    <tr>\n",
       "      <td>9</td>\n",
       "      <td>12950</td>\n",
       "      <td>23.0</td>\n",
       "      <td>71138</td>\n",
       "    </tr>\n",
       "  </tbody>\n",
       "</table>\n",
       "</div>"
      ],
      "text/plain": [
       "   Price   Age     KM\n",
       "0  13500  23.0  46986\n",
       "1  13750  23.0  72937\n",
       "2  13950  24.0  41711\n",
       "3  14950  26.0  48000\n",
       "4  13750  30.0  38500\n",
       "5  12950  32.0  61000\n",
       "6  16900  27.0  94612\n",
       "7  18600  30.0  75889\n",
       "8  21500  27.0  19700\n",
       "9  12950  23.0  71138"
      ]
     },
     "execution_count": 24,
     "metadata": {},
     "output_type": "execute_result"
    }
   ],
   "source": [
    "# Creating a subset data frame\n",
    "subsetData=CarPricesData[mycols].iloc[0:10,]\n",
    "subsetData"
   ]
  },
  {
   "cell_type": "code",
   "execution_count": 25,
   "metadata": {},
   "outputs": [
    {
     "data": {
      "text/plain": [
       "pandas.core.frame.DataFrame"
      ]
     },
     "execution_count": 25,
     "metadata": {},
     "output_type": "execute_result"
    }
   ],
   "source": [
    "type(subsetData)"
   ]
  },
  {
   "cell_type": "code",
   "execution_count": 158,
   "metadata": {
    "scrolled": false
   },
   "outputs": [
    {
     "data": {
      "text/html": [
       "<div>\n",
       "<style scoped>\n",
       "    .dataframe tbody tr th:only-of-type {\n",
       "        vertical-align: middle;\n",
       "    }\n",
       "\n",
       "    .dataframe tbody tr th {\n",
       "        vertical-align: top;\n",
       "    }\n",
       "\n",
       "    .dataframe thead th {\n",
       "        text-align: right;\n",
       "    }\n",
       "</style>\n",
       "<table border=\"1\" class=\"dataframe\">\n",
       "  <thead>\n",
       "    <tr style=\"text-align: right;\">\n",
       "      <th></th>\n",
       "      <th>Price</th>\n",
       "      <th>Age</th>\n",
       "      <th>KM</th>\n",
       "    </tr>\n",
       "  </thead>\n",
       "  <tbody>\n",
       "    <tr>\n",
       "      <th>0</th>\n",
       "      <td>13500</td>\n",
       "      <td>23.0</td>\n",
       "      <td>46986</td>\n",
       "    </tr>\n",
       "    <tr>\n",
       "      <th>1</th>\n",
       "      <td>13750</td>\n",
       "      <td>23.0</td>\n",
       "      <td>72937</td>\n",
       "    </tr>\n",
       "    <tr>\n",
       "      <th>2</th>\n",
       "      <td>13950</td>\n",
       "      <td>24.0</td>\n",
       "      <td>41711</td>\n",
       "    </tr>\n",
       "    <tr>\n",
       "      <th>3</th>\n",
       "      <td>14950</td>\n",
       "      <td>26.0</td>\n",
       "      <td>48000</td>\n",
       "    </tr>\n",
       "    <tr>\n",
       "      <th>4</th>\n",
       "      <td>13750</td>\n",
       "      <td>30.0</td>\n",
       "      <td>38500</td>\n",
       "    </tr>\n",
       "  </tbody>\n",
       "</table>\n",
       "</div>"
      ],
      "text/plain": [
       "   Price   Age     KM\n",
       "0  13500  23.0  46986\n",
       "1  13750  23.0  72937\n",
       "2  13950  24.0  41711\n",
       "3  14950  26.0  48000\n",
       "4  13750  30.0  38500"
      ]
     },
     "execution_count": 158,
     "metadata": {},
     "output_type": "execute_result"
    }
   ],
   "source": [
    "# Accessing First 5 Values using column names\n",
    "CarPricesData[mycols].iloc[0:5,]"
   ]
  },
  {
   "cell_type": "markdown",
   "metadata": {},
   "source": [
    "## Filtering data based on conditions"
   ]
  },
  {
   "cell_type": "code",
   "execution_count": 26,
   "metadata": {},
   "outputs": [
    {
     "data": {
      "text/plain": [
       "array(['Diesel', 'Petrol', nan, 'CNG'], dtype=object)"
      ]
     },
     "execution_count": 26,
     "metadata": {},
     "output_type": "execute_result"
    }
   ],
   "source": [
    "CarPricesData['FuelType'].unique()"
   ]
  },
  {
   "cell_type": "code",
   "execution_count": 25,
   "metadata": {
    "scrolled": true
   },
   "outputs": [
    {
     "data": {
      "text/plain": [
       "0        True\n",
       "1        True\n",
       "2        True\n",
       "3        True\n",
       "4        True\n",
       "5        True\n",
       "6        True\n",
       "7        True\n",
       "8       False\n",
       "9        True\n",
       "10      False\n",
       "11      False\n",
       "12      False\n",
       "13      False\n",
       "14      False\n",
       "15      False\n",
       "16      False\n",
       "17      False\n",
       "18      False\n",
       "19      False\n",
       "20      False\n",
       "21      False\n",
       "22      False\n",
       "23      False\n",
       "24      False\n",
       "25      False\n",
       "26      False\n",
       "27      False\n",
       "28      False\n",
       "29      False\n",
       "30      False\n",
       "31      False\n",
       "32      False\n",
       "33      False\n",
       "34      False\n",
       "35      False\n",
       "36      False\n",
       "37      False\n",
       "38      False\n",
       "39      False\n",
       "40      False\n",
       "41      False\n",
       "42      False\n",
       "43       True\n",
       "44       True\n",
       "45       True\n",
       "46       True\n",
       "47      False\n",
       "48       True\n",
       "49      False\n",
       "50       True\n",
       "51      False\n",
       "52      False\n",
       "53      False\n",
       "54      False\n",
       "55      False\n",
       "56      False\n",
       "57      False\n",
       "58      False\n",
       "59      False\n",
       "60      False\n",
       "61      False\n",
       "62      False\n",
       "63      False\n",
       "64      False\n",
       "65      False\n",
       "66      False\n",
       "67      False\n",
       "68       True\n",
       "69      False\n",
       "70      False\n",
       "71      False\n",
       "72      False\n",
       "73      False\n",
       "74      False\n",
       "75      False\n",
       "76      False\n",
       "77      False\n",
       "78      False\n",
       "79      False\n",
       "80      False\n",
       "81      False\n",
       "82      False\n",
       "83      False\n",
       "84      False\n",
       "85      False\n",
       "86      False\n",
       "87       True\n",
       "88      False\n",
       "89       True\n",
       "90      False\n",
       "91       True\n",
       "92       True\n",
       "93      False\n",
       "94      False\n",
       "95       True\n",
       "96      False\n",
       "97      False\n",
       "98      False\n",
       "99      False\n",
       "100     False\n",
       "101     False\n",
       "102     False\n",
       "103     False\n",
       "104     False\n",
       "105     False\n",
       "106     False\n",
       "107     False\n",
       "108     False\n",
       "109      True\n",
       "110      True\n",
       "111      True\n",
       "112      True\n",
       "113      True\n",
       "114      True\n",
       "115      True\n",
       "116      True\n",
       "117     False\n",
       "118      True\n",
       "119      True\n",
       "120     False\n",
       "121      True\n",
       "122     False\n",
       "123     False\n",
       "124     False\n",
       "125     False\n",
       "126     False\n",
       "127     False\n",
       "128     False\n",
       "129     False\n",
       "130     False\n",
       "131     False\n",
       "132     False\n",
       "133     False\n",
       "134     False\n",
       "135     False\n",
       "136     False\n",
       "137     False\n",
       "138      True\n",
       "139     False\n",
       "140     False\n",
       "141     False\n",
       "142     False\n",
       "143     False\n",
       "144     False\n",
       "145     False\n",
       "146     False\n",
       "147     False\n",
       "148     False\n",
       "149     False\n",
       "150     False\n",
       "151     False\n",
       "152     False\n",
       "153     False\n",
       "154     False\n",
       "155     False\n",
       "156     False\n",
       "157     False\n",
       "158     False\n",
       "159     False\n",
       "160     False\n",
       "161     False\n",
       "162     False\n",
       "163     False\n",
       "164     False\n",
       "165     False\n",
       "166     False\n",
       "167     False\n",
       "168     False\n",
       "169     False\n",
       "170     False\n",
       "171     False\n",
       "172     False\n",
       "173     False\n",
       "174     False\n",
       "175     False\n",
       "176     False\n",
       "177     False\n",
       "178     False\n",
       "179     False\n",
       "180     False\n",
       "181     False\n",
       "182     False\n",
       "183     False\n",
       "184     False\n",
       "185     False\n",
       "186      True\n",
       "187      True\n",
       "188      True\n",
       "189     False\n",
       "190      True\n",
       "191      True\n",
       "192      True\n",
       "193      True\n",
       "194      True\n",
       "195     False\n",
       "196      True\n",
       "197      True\n",
       "198     False\n",
       "199     False\n",
       "200     False\n",
       "201     False\n",
       "202     False\n",
       "203      True\n",
       "204      True\n",
       "205     False\n",
       "206     False\n",
       "207     False\n",
       "208     False\n",
       "209     False\n",
       "210      True\n",
       "211      True\n",
       "212     False\n",
       "213     False\n",
       "214      True\n",
       "215     False\n",
       "216      True\n",
       "217     False\n",
       "218     False\n",
       "219     False\n",
       "220     False\n",
       "221     False\n",
       "222     False\n",
       "223     False\n",
       "224     False\n",
       "225     False\n",
       "226     False\n",
       "227     False\n",
       "228     False\n",
       "229     False\n",
       "230     False\n",
       "231     False\n",
       "232     False\n",
       "233     False\n",
       "234     False\n",
       "235     False\n",
       "236     False\n",
       "237      True\n",
       "238     False\n",
       "239     False\n",
       "240     False\n",
       "241     False\n",
       "242     False\n",
       "243      True\n",
       "244     False\n",
       "245     False\n",
       "246     False\n",
       "247     False\n",
       "248     False\n",
       "249     False\n",
       "250     False\n",
       "251     False\n",
       "252     False\n",
       "253     False\n",
       "254     False\n",
       "255     False\n",
       "256     False\n",
       "257     False\n",
       "258     False\n",
       "259     False\n",
       "260     False\n",
       "261     False\n",
       "262     False\n",
       "263     False\n",
       "264     False\n",
       "265     False\n",
       "266     False\n",
       "267     False\n",
       "268      True\n",
       "269     False\n",
       "270      True\n",
       "271     False\n",
       "272      True\n",
       "273     False\n",
       "274     False\n",
       "275     False\n",
       "276     False\n",
       "277     False\n",
       "278     False\n",
       "279     False\n",
       "280     False\n",
       "281     False\n",
       "282     False\n",
       "283     False\n",
       "284     False\n",
       "285     False\n",
       "286     False\n",
       "287     False\n",
       "288     False\n",
       "289     False\n",
       "290     False\n",
       "291     False\n",
       "292     False\n",
       "293     False\n",
       "294     False\n",
       "295     False\n",
       "296     False\n",
       "297     False\n",
       "298     False\n",
       "299     False\n",
       "300     False\n",
       "301     False\n",
       "302     False\n",
       "303     False\n",
       "304     False\n",
       "305     False\n",
       "306     False\n",
       "307     False\n",
       "308     False\n",
       "309     False\n",
       "310     False\n",
       "311     False\n",
       "312     False\n",
       "313     False\n",
       "314     False\n",
       "315     False\n",
       "316     False\n",
       "317     False\n",
       "318     False\n",
       "319     False\n",
       "320     False\n",
       "321     False\n",
       "322     False\n",
       "323     False\n",
       "324     False\n",
       "325     False\n",
       "326     False\n",
       "327     False\n",
       "328     False\n",
       "329     False\n",
       "330     False\n",
       "331     False\n",
       "332     False\n",
       "333     False\n",
       "334     False\n",
       "335     False\n",
       "336     False\n",
       "337     False\n",
       "338     False\n",
       "339     False\n",
       "340     False\n",
       "341     False\n",
       "342     False\n",
       "343     False\n",
       "344     False\n",
       "345     False\n",
       "346     False\n",
       "347     False\n",
       "348     False\n",
       "349     False\n",
       "350     False\n",
       "351     False\n",
       "352     False\n",
       "353     False\n",
       "354     False\n",
       "355     False\n",
       "356     False\n",
       "357     False\n",
       "358     False\n",
       "359     False\n",
       "360     False\n",
       "361     False\n",
       "362     False\n",
       "363     False\n",
       "364     False\n",
       "365     False\n",
       "366     False\n",
       "367     False\n",
       "368     False\n",
       "369     False\n",
       "370     False\n",
       "371     False\n",
       "372     False\n",
       "373     False\n",
       "374     False\n",
       "375     False\n",
       "376     False\n",
       "377     False\n",
       "378      True\n",
       "379      True\n",
       "380      True\n",
       "381      True\n",
       "382      True\n",
       "383     False\n",
       "384      True\n",
       "385     False\n",
       "386      True\n",
       "387     False\n",
       "388      True\n",
       "389      True\n",
       "390      True\n",
       "391      True\n",
       "392     False\n",
       "393      True\n",
       "394     False\n",
       "395     False\n",
       "396      True\n",
       "397      True\n",
       "398     False\n",
       "399     False\n",
       "400     False\n",
       "401      True\n",
       "402      True\n",
       "403     False\n",
       "404     False\n",
       "405     False\n",
       "406      True\n",
       "407     False\n",
       "408     False\n",
       "409     False\n",
       "410     False\n",
       "411     False\n",
       "412      True\n",
       "413     False\n",
       "414     False\n",
       "415     False\n",
       "416      True\n",
       "417     False\n",
       "418      True\n",
       "419     False\n",
       "420     False\n",
       "421     False\n",
       "422      True\n",
       "423     False\n",
       "424     False\n",
       "425     False\n",
       "426     False\n",
       "427     False\n",
       "428     False\n",
       "429     False\n",
       "430     False\n",
       "431     False\n",
       "432     False\n",
       "433     False\n",
       "434     False\n",
       "435     False\n",
       "436     False\n",
       "437     False\n",
       "438     False\n",
       "439     False\n",
       "440     False\n",
       "441     False\n",
       "442     False\n",
       "443     False\n",
       "444     False\n",
       "445     False\n",
       "446     False\n",
       "447      True\n",
       "448     False\n",
       "449     False\n",
       "450     False\n",
       "451     False\n",
       "452     False\n",
       "453     False\n",
       "454     False\n",
       "455     False\n",
       "456     False\n",
       "457     False\n",
       "458      True\n",
       "459     False\n",
       "460     False\n",
       "461     False\n",
       "462     False\n",
       "463      True\n",
       "464     False\n",
       "465      True\n",
       "466     False\n",
       "467     False\n",
       "468     False\n",
       "469     False\n",
       "470     False\n",
       "471     False\n",
       "472     False\n",
       "473     False\n",
       "474     False\n",
       "475     False\n",
       "476     False\n",
       "477     False\n",
       "478     False\n",
       "479     False\n",
       "480      True\n",
       "481     False\n",
       "482     False\n",
       "483     False\n",
       "484     False\n",
       "485     False\n",
       "486     False\n",
       "487      True\n",
       "488     False\n",
       "489     False\n",
       "490     False\n",
       "491     False\n",
       "492     False\n",
       "493     False\n",
       "494     False\n",
       "495     False\n",
       "496     False\n",
       "497     False\n",
       "498     False\n",
       "499     False\n",
       "500     False\n",
       "501     False\n",
       "502     False\n",
       "503     False\n",
       "504     False\n",
       "505     False\n",
       "506     False\n",
       "507     False\n",
       "508     False\n",
       "509     False\n",
       "510     False\n",
       "511     False\n",
       "512     False\n",
       "513     False\n",
       "514     False\n",
       "515     False\n",
       "516     False\n",
       "517     False\n",
       "518     False\n",
       "519     False\n",
       "520     False\n",
       "521     False\n",
       "522     False\n",
       "523     False\n",
       "524     False\n",
       "525     False\n",
       "526     False\n",
       "527     False\n",
       "528     False\n",
       "529     False\n",
       "530     False\n",
       "531     False\n",
       "532     False\n",
       "533     False\n",
       "534     False\n",
       "535     False\n",
       "536     False\n",
       "537     False\n",
       "538     False\n",
       "539     False\n",
       "540     False\n",
       "541     False\n",
       "542     False\n",
       "543     False\n",
       "544     False\n",
       "545     False\n",
       "546     False\n",
       "547     False\n",
       "548     False\n",
       "549     False\n",
       "550     False\n",
       "551     False\n",
       "552     False\n",
       "553     False\n",
       "554     False\n",
       "555     False\n",
       "556     False\n",
       "557     False\n",
       "558     False\n",
       "559     False\n",
       "560     False\n",
       "561     False\n",
       "562     False\n",
       "563     False\n",
       "564     False\n",
       "565     False\n",
       "566     False\n",
       "567     False\n",
       "568     False\n",
       "569     False\n",
       "570     False\n",
       "571     False\n",
       "572     False\n",
       "573     False\n",
       "574     False\n",
       "575     False\n",
       "576     False\n",
       "577     False\n",
       "578     False\n",
       "579     False\n",
       "580     False\n",
       "581     False\n",
       "582     False\n",
       "583     False\n",
       "584     False\n",
       "585     False\n",
       "586     False\n",
       "587     False\n",
       "588     False\n",
       "589     False\n",
       "590     False\n",
       "591     False\n",
       "592     False\n",
       "593     False\n",
       "594     False\n",
       "595     False\n",
       "596     False\n",
       "597     False\n",
       "598     False\n",
       "599     False\n",
       "600     False\n",
       "601      True\n",
       "602     False\n",
       "603      True\n",
       "604      True\n",
       "605     False\n",
       "606      True\n",
       "607      True\n",
       "608      True\n",
       "609      True\n",
       "610     False\n",
       "611     False\n",
       "612      True\n",
       "613      True\n",
       "614     False\n",
       "615      True\n",
       "616      True\n",
       "617      True\n",
       "618     False\n",
       "619      True\n",
       "620     False\n",
       "621      True\n",
       "622     False\n",
       "623     False\n",
       "624     False\n",
       "625      True\n",
       "626      True\n",
       "627      True\n",
       "628      True\n",
       "629     False\n",
       "630      True\n",
       "631      True\n",
       "632      True\n",
       "633     False\n",
       "634      True\n",
       "635      True\n",
       "636      True\n",
       "637     False\n",
       "638     False\n",
       "639      True\n",
       "640     False\n",
       "641     False\n",
       "642     False\n",
       "643     False\n",
       "644      True\n",
       "645     False\n",
       "646     False\n",
       "647      True\n",
       "648     False\n",
       "649     False\n",
       "650     False\n",
       "651     False\n",
       "652     False\n",
       "653     False\n",
       "654      True\n",
       "655     False\n",
       "656     False\n",
       "657     False\n",
       "658     False\n",
       "659     False\n",
       "660      True\n",
       "661     False\n",
       "662     False\n",
       "663     False\n",
       "664     False\n",
       "665     False\n",
       "666     False\n",
       "667     False\n",
       "668     False\n",
       "669     False\n",
       "670     False\n",
       "671     False\n",
       "672     False\n",
       "673     False\n",
       "674     False\n",
       "675     False\n",
       "676     False\n",
       "677     False\n",
       "678     False\n",
       "679      True\n",
       "680     False\n",
       "681     False\n",
       "682      True\n",
       "683     False\n",
       "684     False\n",
       "685     False\n",
       "686     False\n",
       "687     False\n",
       "688     False\n",
       "689     False\n",
       "690     False\n",
       "691     False\n",
       "692     False\n",
       "693     False\n",
       "694     False\n",
       "695     False\n",
       "696      True\n",
       "697     False\n",
       "698     False\n",
       "699     False\n",
       "700     False\n",
       "701     False\n",
       "702     False\n",
       "703     False\n",
       "704     False\n",
       "705     False\n",
       "706     False\n",
       "707      True\n",
       "708     False\n",
       "709     False\n",
       "710      True\n",
       "711     False\n",
       "712     False\n",
       "713     False\n",
       "714     False\n",
       "715     False\n",
       "716     False\n",
       "717     False\n",
       "718     False\n",
       "719     False\n",
       "720     False\n",
       "721     False\n",
       "722     False\n",
       "723     False\n",
       "724     False\n",
       "725     False\n",
       "726     False\n",
       "727     False\n",
       "728     False\n",
       "729     False\n",
       "730     False\n",
       "731     False\n",
       "732     False\n",
       "733     False\n",
       "734     False\n",
       "735     False\n",
       "736     False\n",
       "737     False\n",
       "738     False\n",
       "739     False\n",
       "740     False\n",
       "741     False\n",
       "742     False\n",
       "743     False\n",
       "744     False\n",
       "745     False\n",
       "746     False\n",
       "747     False\n",
       "748     False\n",
       "749     False\n",
       "750     False\n",
       "751     False\n",
       "752     False\n",
       "753     False\n",
       "754     False\n",
       "755     False\n",
       "756     False\n",
       "757     False\n",
       "758     False\n",
       "759     False\n",
       "760     False\n",
       "761     False\n",
       "762     False\n",
       "763     False\n",
       "764     False\n",
       "765     False\n",
       "766     False\n",
       "767     False\n",
       "768      True\n",
       "769     False\n",
       "770     False\n",
       "771     False\n",
       "772     False\n",
       "773     False\n",
       "774     False\n",
       "775     False\n",
       "776     False\n",
       "777     False\n",
       "778     False\n",
       "779     False\n",
       "780     False\n",
       "781     False\n",
       "782     False\n",
       "783     False\n",
       "784     False\n",
       "785      True\n",
       "786     False\n",
       "787     False\n",
       "788     False\n",
       "789     False\n",
       "790     False\n",
       "791     False\n",
       "792     False\n",
       "793     False\n",
       "794     False\n",
       "795     False\n",
       "796     False\n",
       "797     False\n",
       "798     False\n",
       "799     False\n",
       "800     False\n",
       "801     False\n",
       "802     False\n",
       "803     False\n",
       "804     False\n",
       "805     False\n",
       "806     False\n",
       "807     False\n",
       "808     False\n",
       "809     False\n",
       "810     False\n",
       "811     False\n",
       "812     False\n",
       "813     False\n",
       "814     False\n",
       "815     False\n",
       "816     False\n",
       "817     False\n",
       "818     False\n",
       "819      True\n",
       "820     False\n",
       "821     False\n",
       "822     False\n",
       "823     False\n",
       "824     False\n",
       "825     False\n",
       "826     False\n",
       "827     False\n",
       "828     False\n",
       "829     False\n",
       "830     False\n",
       "831     False\n",
       "832     False\n",
       "833     False\n",
       "834     False\n",
       "835     False\n",
       "836     False\n",
       "837     False\n",
       "838     False\n",
       "839     False\n",
       "840     False\n",
       "841     False\n",
       "842     False\n",
       "843     False\n",
       "844     False\n",
       "845     False\n",
       "846     False\n",
       "847     False\n",
       "848     False\n",
       "849     False\n",
       "850     False\n",
       "851     False\n",
       "852     False\n",
       "853     False\n",
       "854     False\n",
       "855     False\n",
       "856     False\n",
       "857     False\n",
       "858     False\n",
       "859     False\n",
       "860     False\n",
       "861     False\n",
       "862     False\n",
       "863     False\n",
       "864     False\n",
       "865     False\n",
       "866      True\n",
       "867     False\n",
       "868     False\n",
       "869     False\n",
       "870     False\n",
       "871     False\n",
       "872     False\n",
       "873     False\n",
       "874     False\n",
       "875     False\n",
       "876     False\n",
       "877     False\n",
       "878     False\n",
       "879     False\n",
       "880     False\n",
       "881     False\n",
       "882     False\n",
       "883     False\n",
       "884     False\n",
       "885     False\n",
       "886     False\n",
       "887     False\n",
       "888     False\n",
       "889     False\n",
       "890     False\n",
       "891     False\n",
       "892     False\n",
       "893     False\n",
       "894     False\n",
       "895     False\n",
       "896     False\n",
       "897     False\n",
       "898     False\n",
       "899     False\n",
       "900     False\n",
       "901     False\n",
       "902     False\n",
       "903     False\n",
       "904     False\n",
       "905     False\n",
       "906     False\n",
       "907     False\n",
       "908     False\n",
       "909     False\n",
       "910     False\n",
       "911     False\n",
       "912     False\n",
       "913     False\n",
       "914     False\n",
       "915     False\n",
       "916     False\n",
       "917     False\n",
       "918     False\n",
       "919     False\n",
       "920     False\n",
       "921     False\n",
       "922     False\n",
       "923     False\n",
       "924     False\n",
       "925     False\n",
       "926     False\n",
       "927     False\n",
       "928     False\n",
       "929     False\n",
       "930     False\n",
       "931     False\n",
       "932     False\n",
       "933     False\n",
       "934     False\n",
       "935     False\n",
       "936     False\n",
       "937     False\n",
       "938     False\n",
       "939     False\n",
       "940     False\n",
       "941     False\n",
       "942     False\n",
       "943     False\n",
       "944     False\n",
       "945     False\n",
       "946     False\n",
       "947     False\n",
       "948     False\n",
       "949     False\n",
       "950     False\n",
       "951     False\n",
       "952     False\n",
       "953     False\n",
       "954     False\n",
       "955     False\n",
       "956     False\n",
       "957     False\n",
       "958     False\n",
       "959     False\n",
       "960     False\n",
       "961     False\n",
       "962     False\n",
       "963     False\n",
       "964     False\n",
       "965     False\n",
       "966     False\n",
       "967     False\n",
       "968     False\n",
       "969     False\n",
       "970     False\n",
       "971     False\n",
       "972     False\n",
       "973     False\n",
       "974     False\n",
       "975     False\n",
       "976     False\n",
       "977     False\n",
       "978     False\n",
       "979     False\n",
       "980     False\n",
       "981     False\n",
       "982     False\n",
       "983     False\n",
       "984     False\n",
       "985     False\n",
       "986     False\n",
       "987     False\n",
       "988     False\n",
       "989     False\n",
       "990     False\n",
       "991     False\n",
       "992     False\n",
       "993     False\n",
       "994     False\n",
       "995     False\n",
       "996     False\n",
       "997     False\n",
       "998     False\n",
       "999     False\n",
       "1000    False\n",
       "1001    False\n",
       "1002    False\n",
       "1003    False\n",
       "1004    False\n",
       "1005    False\n",
       "1006    False\n",
       "1007    False\n",
       "1008    False\n",
       "1009    False\n",
       "1010    False\n",
       "1011    False\n",
       "1012    False\n",
       "1013    False\n",
       "1014    False\n",
       "1015    False\n",
       "1016    False\n",
       "1017    False\n",
       "1018    False\n",
       "1019    False\n",
       "1020    False\n",
       "1021    False\n",
       "1022    False\n",
       "1023    False\n",
       "1024    False\n",
       "1025    False\n",
       "1026    False\n",
       "1027    False\n",
       "1028    False\n",
       "1029    False\n",
       "1030    False\n",
       "1031    False\n",
       "1032    False\n",
       "1033    False\n",
       "1034    False\n",
       "1035    False\n",
       "1036    False\n",
       "1037    False\n",
       "1038    False\n",
       "1039    False\n",
       "1040    False\n",
       "1041    False\n",
       "1042    False\n",
       "1043    False\n",
       "1044     True\n",
       "1045     True\n",
       "1046     True\n",
       "1047    False\n",
       "1048     True\n",
       "1049     True\n",
       "1050     True\n",
       "1051     True\n",
       "1052     True\n",
       "1053     True\n",
       "1054     True\n",
       "1055     True\n",
       "1056    False\n",
       "1057    False\n",
       "1058     True\n",
       "1059     True\n",
       "1060    False\n",
       "1061    False\n",
       "1062    False\n",
       "1063     True\n",
       "1064    False\n",
       "1065    False\n",
       "1066     True\n",
       "1067    False\n",
       "1068    False\n",
       "1069     True\n",
       "1070     True\n",
       "1071     True\n",
       "1072    False\n",
       "1073     True\n",
       "1074     True\n",
       "1075    False\n",
       "1076    False\n",
       "1077    False\n",
       "1078     True\n",
       "1079    False\n",
       "1080     True\n",
       "1081     True\n",
       "1082     True\n",
       "1083     True\n",
       "1084    False\n",
       "1085     True\n",
       "1086    False\n",
       "1087    False\n",
       "1088    False\n",
       "1089    False\n",
       "1090    False\n",
       "1091    False\n",
       "1092     True\n",
       "1093    False\n",
       "1094    False\n",
       "1095    False\n",
       "1096    False\n",
       "1097     True\n",
       "1098    False\n",
       "1099    False\n",
       "1100    False\n",
       "1101    False\n",
       "1102    False\n",
       "1103    False\n",
       "1104    False\n",
       "1105    False\n",
       "1106    False\n",
       "1107    False\n",
       "1108     True\n",
       "1109     True\n",
       "1110    False\n",
       "1111    False\n",
       "1112    False\n",
       "1113    False\n",
       "1114    False\n",
       "1115    False\n",
       "1116    False\n",
       "1117    False\n",
       "1118     True\n",
       "1119    False\n",
       "1120    False\n",
       "1121    False\n",
       "1122    False\n",
       "1123    False\n",
       "1124    False\n",
       "1125    False\n",
       "1126    False\n",
       "1127    False\n",
       "1128    False\n",
       "1129    False\n",
       "1130    False\n",
       "1131    False\n",
       "1132    False\n",
       "1133    False\n",
       "1134    False\n",
       "1135    False\n",
       "1136    False\n",
       "1137    False\n",
       "1138    False\n",
       "1139    False\n",
       "1140    False\n",
       "1141    False\n",
       "1142    False\n",
       "1143    False\n",
       "1144    False\n",
       "1145    False\n",
       "1146    False\n",
       "1147    False\n",
       "1148    False\n",
       "1149    False\n",
       "1150    False\n",
       "1151    False\n",
       "1152    False\n",
       "1153    False\n",
       "1154    False\n",
       "1155    False\n",
       "1156    False\n",
       "1157    False\n",
       "1158    False\n",
       "1159    False\n",
       "1160    False\n",
       "1161    False\n",
       "1162    False\n",
       "1163    False\n",
       "1164    False\n",
       "1165    False\n",
       "1166    False\n",
       "1167    False\n",
       "1168    False\n",
       "1169    False\n",
       "1170    False\n",
       "1171    False\n",
       "1172    False\n",
       "1173    False\n",
       "1174    False\n",
       "1175    False\n",
       "1176    False\n",
       "1177    False\n",
       "1178    False\n",
       "1179    False\n",
       "1180    False\n",
       "1181    False\n",
       "1182    False\n",
       "1183    False\n",
       "1184    False\n",
       "1185    False\n",
       "1186    False\n",
       "1187    False\n",
       "1188    False\n",
       "1189    False\n",
       "1190    False\n",
       "1191    False\n",
       "1192    False\n",
       "1193    False\n",
       "1194    False\n",
       "1195     True\n",
       "1196    False\n",
       "1197    False\n",
       "1198    False\n",
       "1199    False\n",
       "1200    False\n",
       "1201    False\n",
       "1202     True\n",
       "1203    False\n",
       "1204    False\n",
       "1205    False\n",
       "1206    False\n",
       "1207    False\n",
       "1208    False\n",
       "1209    False\n",
       "1210    False\n",
       "1211    False\n",
       "1212    False\n",
       "1213    False\n",
       "1214    False\n",
       "1215    False\n",
       "1216     True\n",
       "1217    False\n",
       "1218    False\n",
       "1219    False\n",
       "1220    False\n",
       "1221    False\n",
       "1222    False\n",
       "1223    False\n",
       "1224    False\n",
       "1225    False\n",
       "1226    False\n",
       "1227    False\n",
       "1228    False\n",
       "1229    False\n",
       "1230    False\n",
       "1231    False\n",
       "1232    False\n",
       "1233    False\n",
       "1234    False\n",
       "1235    False\n",
       "1236    False\n",
       "1237    False\n",
       "1238    False\n",
       "1239    False\n",
       "1240    False\n",
       "1241    False\n",
       "1242    False\n",
       "1243    False\n",
       "1244    False\n",
       "1245    False\n",
       "1246    False\n",
       "1247    False\n",
       "1248    False\n",
       "1249    False\n",
       "1250    False\n",
       "1251    False\n",
       "1252    False\n",
       "1253    False\n",
       "1254    False\n",
       "1255    False\n",
       "1256    False\n",
       "1257    False\n",
       "1258    False\n",
       "1259    False\n",
       "1260    False\n",
       "1261    False\n",
       "1262    False\n",
       "1263    False\n",
       "1264    False\n",
       "1265    False\n",
       "1266    False\n",
       "1267    False\n",
       "1268    False\n",
       "1269    False\n",
       "1270    False\n",
       "1271    False\n",
       "1272    False\n",
       "1273    False\n",
       "1274    False\n",
       "1275    False\n",
       "1276    False\n",
       "1277    False\n",
       "1278    False\n",
       "1279    False\n",
       "1280    False\n",
       "1281    False\n",
       "1282    False\n",
       "1283    False\n",
       "1284    False\n",
       "1285    False\n",
       "1286    False\n",
       "1287    False\n",
       "1288    False\n",
       "1289    False\n",
       "1290    False\n",
       "1291    False\n",
       "1292    False\n",
       "1293    False\n",
       "1294    False\n",
       "1295    False\n",
       "1296    False\n",
       "1297    False\n",
       "1298    False\n",
       "1299    False\n",
       "1300    False\n",
       "1301    False\n",
       "1302    False\n",
       "1303    False\n",
       "1304    False\n",
       "1305    False\n",
       "1306    False\n",
       "1307    False\n",
       "1308    False\n",
       "1309    False\n",
       "1310    False\n",
       "1311    False\n",
       "1312    False\n",
       "1313    False\n",
       "1314    False\n",
       "1315    False\n",
       "1316    False\n",
       "1317    False\n",
       "1318    False\n",
       "1319    False\n",
       "1320     True\n",
       "1321    False\n",
       "1322    False\n",
       "1323    False\n",
       "1324    False\n",
       "1325    False\n",
       "1326    False\n",
       "1327    False\n",
       "1328    False\n",
       "1329    False\n",
       "1330     True\n",
       "1331    False\n",
       "1332    False\n",
       "1333    False\n",
       "1334    False\n",
       "1335    False\n",
       "1336    False\n",
       "1337    False\n",
       "1338    False\n",
       "1339    False\n",
       "1340    False\n",
       "1341    False\n",
       "1342    False\n",
       "1343    False\n",
       "1344    False\n",
       "1345    False\n",
       "1346    False\n",
       "1347    False\n",
       "1348    False\n",
       "1349    False\n",
       "1350    False\n",
       "1351    False\n",
       "1352    False\n",
       "1353    False\n",
       "1354    False\n",
       "1355    False\n",
       "1356    False\n",
       "1357    False\n",
       "1358    False\n",
       "1359    False\n",
       "1360    False\n",
       "1361    False\n",
       "1362    False\n",
       "1363    False\n",
       "1364    False\n",
       "1365    False\n",
       "1366    False\n",
       "1367    False\n",
       "1368    False\n",
       "1369    False\n",
       "1370    False\n",
       "1371    False\n",
       "1372    False\n",
       "1373    False\n",
       "1374    False\n",
       "1375    False\n",
       "1376    False\n",
       "1377    False\n",
       "1378    False\n",
       "1379    False\n",
       "1380    False\n",
       "1381    False\n",
       "1382    False\n",
       "1383    False\n",
       "1384    False\n",
       "1385    False\n",
       "1386    False\n",
       "1387    False\n",
       "1388    False\n",
       "1389    False\n",
       "1390    False\n",
       "1391    False\n",
       "1392    False\n",
       "1393    False\n",
       "1394    False\n",
       "1395    False\n",
       "1396    False\n",
       "1397    False\n",
       "1398    False\n",
       "1399    False\n",
       "1400    False\n",
       "1401    False\n",
       "1402    False\n",
       "1403    False\n",
       "1404    False\n",
       "1405    False\n",
       "1406    False\n",
       "1407    False\n",
       "1408    False\n",
       "1409    False\n",
       "1410    False\n",
       "1411    False\n",
       "1412    False\n",
       "1413    False\n",
       "1414    False\n",
       "1415    False\n",
       "1416    False\n",
       "1417    False\n",
       "1418    False\n",
       "1419    False\n",
       "1420    False\n",
       "1421    False\n",
       "1422    False\n",
       "1423    False\n",
       "1424    False\n",
       "1425    False\n",
       "1426    False\n",
       "1427    False\n",
       "1428    False\n",
       "1429    False\n",
       "1430    False\n",
       "1431    False\n",
       "1432    False\n",
       "1433    False\n",
       "1434    False\n",
       "1435    False\n",
       "Name: FuelType, dtype: bool"
      ]
     },
     "execution_count": 25,
     "metadata": {},
     "output_type": "execute_result"
    }
   ],
   "source": [
    "# Creating a condition\n",
    "# Comparing every value present in FuelType column with 'Diesel'\n",
    "CarPricesData['FuelType']=='Diesel'"
   ]
  },
  {
   "cell_type": "code",
   "execution_count": 28,
   "metadata": {},
   "outputs": [
    {
     "data": {
      "text/plain": [
       "1436"
      ]
     },
     "execution_count": 28,
     "metadata": {},
     "output_type": "execute_result"
    }
   ],
   "source": [
    "CarPricesData.shape[0]"
   ]
  },
  {
   "cell_type": "code",
   "execution_count": 31,
   "metadata": {},
   "outputs": [
    {
     "name": "stdout",
     "output_type": "stream",
     "text": [
      "Number of diesel cars are:  155\n"
     ]
    },
    {
     "data": {
      "text/html": [
       "<div>\n",
       "<style scoped>\n",
       "    .dataframe tbody tr th:only-of-type {\n",
       "        vertical-align: middle;\n",
       "    }\n",
       "\n",
       "    .dataframe tbody tr th {\n",
       "        vertical-align: top;\n",
       "    }\n",
       "\n",
       "    .dataframe thead th {\n",
       "        text-align: right;\n",
       "    }\n",
       "</style>\n",
       "<table border=\"1\" class=\"dataframe\">\n",
       "  <thead>\n",
       "    <tr style=\"text-align: right;\">\n",
       "      <th></th>\n",
       "      <th>Price</th>\n",
       "      <th>Age</th>\n",
       "      <th>KM</th>\n",
       "      <th>FuelType</th>\n",
       "      <th>HP</th>\n",
       "      <th>MetColor</th>\n",
       "      <th>Automatic</th>\n",
       "      <th>CC</th>\n",
       "      <th>Doors</th>\n",
       "      <th>Weight</th>\n",
       "    </tr>\n",
       "  </thead>\n",
       "  <tbody>\n",
       "    <tr>\n",
       "      <td>0</td>\n",
       "      <td>13500</td>\n",
       "      <td>23.0</td>\n",
       "      <td>46986</td>\n",
       "      <td>Diesel</td>\n",
       "      <td>90</td>\n",
       "      <td>1</td>\n",
       "      <td>0</td>\n",
       "      <td>2000.0</td>\n",
       "      <td>3</td>\n",
       "      <td>1165.0</td>\n",
       "    </tr>\n",
       "    <tr>\n",
       "      <td>1</td>\n",
       "      <td>13750</td>\n",
       "      <td>23.0</td>\n",
       "      <td>72937</td>\n",
       "      <td>Diesel</td>\n",
       "      <td>90</td>\n",
       "      <td>1</td>\n",
       "      <td>0</td>\n",
       "      <td>2000.0</td>\n",
       "      <td>3</td>\n",
       "      <td>1165.0</td>\n",
       "    </tr>\n",
       "    <tr>\n",
       "      <td>2</td>\n",
       "      <td>13950</td>\n",
       "      <td>24.0</td>\n",
       "      <td>41711</td>\n",
       "      <td>Diesel</td>\n",
       "      <td>90</td>\n",
       "      <td>1</td>\n",
       "      <td>0</td>\n",
       "      <td>2000.0</td>\n",
       "      <td>3</td>\n",
       "      <td>1165.0</td>\n",
       "    </tr>\n",
       "    <tr>\n",
       "      <td>3</td>\n",
       "      <td>14950</td>\n",
       "      <td>26.0</td>\n",
       "      <td>48000</td>\n",
       "      <td>Diesel</td>\n",
       "      <td>90</td>\n",
       "      <td>0</td>\n",
       "      <td>0</td>\n",
       "      <td>2000.0</td>\n",
       "      <td>3</td>\n",
       "      <td>1165.0</td>\n",
       "    </tr>\n",
       "    <tr>\n",
       "      <td>4</td>\n",
       "      <td>13750</td>\n",
       "      <td>30.0</td>\n",
       "      <td>38500</td>\n",
       "      <td>Diesel</td>\n",
       "      <td>90</td>\n",
       "      <td>0</td>\n",
       "      <td>0</td>\n",
       "      <td>2000.0</td>\n",
       "      <td>3</td>\n",
       "      <td>1170.0</td>\n",
       "    </tr>\n",
       "    <tr>\n",
       "      <td>...</td>\n",
       "      <td>...</td>\n",
       "      <td>...</td>\n",
       "      <td>...</td>\n",
       "      <td>...</td>\n",
       "      <td>...</td>\n",
       "      <td>...</td>\n",
       "      <td>...</td>\n",
       "      <td>...</td>\n",
       "      <td>...</td>\n",
       "      <td>...</td>\n",
       "    </tr>\n",
       "    <tr>\n",
       "      <td>1195</td>\n",
       "      <td>8750</td>\n",
       "      <td>74.0</td>\n",
       "      <td>89800</td>\n",
       "      <td>Diesel</td>\n",
       "      <td>72</td>\n",
       "      <td>1</td>\n",
       "      <td>0</td>\n",
       "      <td>2000.0</td>\n",
       "      <td>3</td>\n",
       "      <td>1115.0</td>\n",
       "    </tr>\n",
       "    <tr>\n",
       "      <td>1202</td>\n",
       "      <td>6950</td>\n",
       "      <td>73.0</td>\n",
       "      <td>88186</td>\n",
       "      <td>Diesel</td>\n",
       "      <td>72</td>\n",
       "      <td>1</td>\n",
       "      <td>0</td>\n",
       "      <td>2000.0</td>\n",
       "      <td>3</td>\n",
       "      <td>1115.0</td>\n",
       "    </tr>\n",
       "    <tr>\n",
       "      <td>1216</td>\n",
       "      <td>8500</td>\n",
       "      <td>70.0</td>\n",
       "      <td>85864</td>\n",
       "      <td>Diesel</td>\n",
       "      <td>72</td>\n",
       "      <td>1</td>\n",
       "      <td>0</td>\n",
       "      <td>2000.0</td>\n",
       "      <td>5</td>\n",
       "      <td>1135.0</td>\n",
       "    </tr>\n",
       "    <tr>\n",
       "      <td>1320</td>\n",
       "      <td>9400</td>\n",
       "      <td>69.0</td>\n",
       "      <td>67092</td>\n",
       "      <td>Diesel</td>\n",
       "      <td>72</td>\n",
       "      <td>1</td>\n",
       "      <td>0</td>\n",
       "      <td>2000.0</td>\n",
       "      <td>3</td>\n",
       "      <td>1115.0</td>\n",
       "    </tr>\n",
       "    <tr>\n",
       "      <td>1330</td>\n",
       "      <td>8950</td>\n",
       "      <td>71.0</td>\n",
       "      <td>65021</td>\n",
       "      <td>Diesel</td>\n",
       "      <td>72</td>\n",
       "      <td>1</td>\n",
       "      <td>0</td>\n",
       "      <td>2000.0</td>\n",
       "      <td>3</td>\n",
       "      <td>1115.0</td>\n",
       "    </tr>\n",
       "  </tbody>\n",
       "</table>\n",
       "<p>155 rows × 10 columns</p>\n",
       "</div>"
      ],
      "text/plain": [
       "      Price   Age     KM FuelType  HP  MetColor  Automatic      CC  Doors  \\\n",
       "0     13500  23.0  46986   Diesel  90         1          0  2000.0      3   \n",
       "1     13750  23.0  72937   Diesel  90         1          0  2000.0      3   \n",
       "2     13950  24.0  41711   Diesel  90         1          0  2000.0      3   \n",
       "3     14950  26.0  48000   Diesel  90         0          0  2000.0      3   \n",
       "4     13750  30.0  38500   Diesel  90         0          0  2000.0      3   \n",
       "...     ...   ...    ...      ...  ..       ...        ...     ...    ...   \n",
       "1195   8750  74.0  89800   Diesel  72         1          0  2000.0      3   \n",
       "1202   6950  73.0  88186   Diesel  72         1          0  2000.0      3   \n",
       "1216   8500  70.0  85864   Diesel  72         1          0  2000.0      5   \n",
       "1320   9400  69.0  67092   Diesel  72         1          0  2000.0      3   \n",
       "1330   8950  71.0  65021   Diesel  72         1          0  2000.0      3   \n",
       "\n",
       "      Weight  \n",
       "0     1165.0  \n",
       "1     1165.0  \n",
       "2     1165.0  \n",
       "3     1165.0  \n",
       "4     1170.0  \n",
       "...      ...  \n",
       "1195  1115.0  \n",
       "1202  1115.0  \n",
       "1216  1135.0  \n",
       "1320  1115.0  \n",
       "1330  1115.0  \n",
       "\n",
       "[155 rows x 10 columns]"
      ]
     },
     "execution_count": 31,
     "metadata": {},
     "output_type": "execute_result"
    }
   ],
   "source": [
    "# Filtering only those rows from CarPricesData where FuelType is Diesel\n",
    "FilterCondition=CarPricesData['FuelType']=='Diesel'\n",
    "OnlyDiselCars=CarPricesData[FilterCondition]\n",
    "print(\"Number of diesel cars are: \", OnlyDiselCars.shape[0])\n",
    "OnlyDiselCars"
   ]
  },
  {
   "cell_type": "markdown",
   "metadata": {
    "collapsed": true
   },
   "source": [
    "### Standard conditions in python\n",
    "<p> >, <, ==, >=, <=, != </p>"
   ]
  },
  {
   "cell_type": "code",
   "execution_count": 16,
   "metadata": {},
   "outputs": [],
   "source": [
    "FilterCondition=CarPricesData['Price']>=14000"
   ]
  },
  {
   "cell_type": "code",
   "execution_count": 17,
   "metadata": {},
   "outputs": [
    {
     "data": {
      "text/plain": [
       "(187, 10)"
      ]
     },
     "execution_count": 17,
     "metadata": {},
     "output_type": "execute_result"
    }
   ],
   "source": [
    "CarPricesData[FilterCondition].shape"
   ]
  },
  {
   "cell_type": "markdown",
   "metadata": {
    "collapsed": true
   },
   "source": [
    "## Combining multiple data filter conditions"
   ]
  },
  {
   "cell_type": "code",
   "execution_count": 14,
   "metadata": {},
   "outputs": [
    {
     "name": "stdout",
     "output_type": "stream",
     "text": [
      "(30, 10)\n"
     ]
    }
   ],
   "source": [
    "FilterCondition1=CarPricesData['Price']>=14000\n",
    "FilterCondition2=CarPricesData['FuelType']=='Diesel'\n",
    "\n",
    "# AND Operation:  Condition1 is true AND Condition2 is also true\n",
    "FilteredData=CarPricesData[FilterCondition1 & FilterCondition2]\n",
    "print(FilteredData.shape)"
   ]
  },
  {
   "cell_type": "code",
   "execution_count": 34,
   "metadata": {},
   "outputs": [
    {
     "data": {
      "text/plain": [
       "312"
      ]
     },
     "execution_count": 34,
     "metadata": {},
     "output_type": "execute_result"
    }
   ],
   "source": [
    "# OR Operation: Either Condition1 is true OR Condition2 is true\n",
    "len(CarPricesData[FilterCondition1 | FilterCondition2])"
   ]
  },
  {
   "cell_type": "code",
   "execution_count": 21,
   "metadata": {},
   "outputs": [
    {
     "data": {
      "text/plain": [
       "(1436, 10)"
      ]
     },
     "execution_count": 21,
     "metadata": {},
     "output_type": "execute_result"
    }
   ],
   "source": [
    "CarPricesData.shape"
   ]
  },
  {
   "cell_type": "code",
   "execution_count": 30,
   "metadata": {},
   "outputs": [],
   "source": [
    "# how many cars are there which ran more than 1 Lakh KMS\n"
   ]
  },
  {
   "cell_type": "code",
   "execution_count": 29,
   "metadata": {},
   "outputs": [],
   "source": [
    "# how many Diesel cars are there which ran more than 1 Lakh KMS\n"
   ]
  },
  {
   "cell_type": "code",
   "execution_count": 28,
   "metadata": {},
   "outputs": [],
   "source": [
    "# how many Diesel cars with 5 doors are there which ran more than 1 Lakh KMS\n"
   ]
  },
  {
   "cell_type": "code",
   "execution_count": 32,
   "metadata": {},
   "outputs": [],
   "source": [
    "# Give me the number of rows where the Price of car is between 10000 and 14000 both included\n"
   ]
  },
  {
   "cell_type": "code",
   "execution_count": null,
   "metadata": {},
   "outputs": [],
   "source": []
  },
  {
   "cell_type": "code",
   "execution_count": 18,
   "metadata": {},
   "outputs": [],
   "source": [
    "# Read the BostonHousingData\n",
    "# Print top 10 rows from DataBoston\n",
    "# Filter only those rows from DataBoston where MEDV >=25\n",
    "# Filter only those rows from DataBoston where CHAS==0\n",
    "# Filter those rows where MEDV >30 AND CHAS ==0"
   ]
  },
  {
   "cell_type": "code",
   "execution_count": null,
   "metadata": {},
   "outputs": [],
   "source": []
  },
  {
   "cell_type": "code",
   "execution_count": null,
   "metadata": {
    "collapsed": true
   },
   "outputs": [],
   "source": []
  },
  {
   "cell_type": "code",
   "execution_count": 167,
   "metadata": {},
   "outputs": [
    {
     "data": {
      "text/html": [
       "<div>\n",
       "<style scoped>\n",
       "    .dataframe tbody tr th:only-of-type {\n",
       "        vertical-align: middle;\n",
       "    }\n",
       "\n",
       "    .dataframe tbody tr th {\n",
       "        vertical-align: top;\n",
       "    }\n",
       "\n",
       "    .dataframe thead th {\n",
       "        text-align: right;\n",
       "    }\n",
       "</style>\n",
       "<table border=\"1\" class=\"dataframe\">\n",
       "  <thead>\n",
       "    <tr style=\"text-align: right;\">\n",
       "      <th></th>\n",
       "      <th>Price</th>\n",
       "      <th>Age</th>\n",
       "      <th>KM</th>\n",
       "      <th>FuelType</th>\n",
       "      <th>HP</th>\n",
       "      <th>MetColor</th>\n",
       "      <th>Automatic</th>\n",
       "      <th>CC</th>\n",
       "      <th>Doors</th>\n",
       "      <th>Weight</th>\n",
       "    </tr>\n",
       "  </thead>\n",
       "  <tbody>\n",
       "    <tr>\n",
       "      <th>0</th>\n",
       "      <td>13500</td>\n",
       "      <td>23.0</td>\n",
       "      <td>46986</td>\n",
       "      <td>Diesel</td>\n",
       "      <td>90</td>\n",
       "      <td>1</td>\n",
       "      <td>0</td>\n",
       "      <td>2000.0</td>\n",
       "      <td>3</td>\n",
       "      <td>1165.0</td>\n",
       "    </tr>\n",
       "    <tr>\n",
       "      <th>1</th>\n",
       "      <td>13750</td>\n",
       "      <td>23.0</td>\n",
       "      <td>72937</td>\n",
       "      <td>Diesel</td>\n",
       "      <td>90</td>\n",
       "      <td>1</td>\n",
       "      <td>0</td>\n",
       "      <td>2000.0</td>\n",
       "      <td>3</td>\n",
       "      <td>1165.0</td>\n",
       "    </tr>\n",
       "    <tr>\n",
       "      <th>2</th>\n",
       "      <td>13950</td>\n",
       "      <td>24.0</td>\n",
       "      <td>41711</td>\n",
       "      <td>Diesel</td>\n",
       "      <td>90</td>\n",
       "      <td>1</td>\n",
       "      <td>0</td>\n",
       "      <td>2000.0</td>\n",
       "      <td>3</td>\n",
       "      <td>1165.0</td>\n",
       "    </tr>\n",
       "    <tr>\n",
       "      <th>3</th>\n",
       "      <td>14950</td>\n",
       "      <td>26.0</td>\n",
       "      <td>48000</td>\n",
       "      <td>Diesel</td>\n",
       "      <td>90</td>\n",
       "      <td>0</td>\n",
       "      <td>0</td>\n",
       "      <td>2000.0</td>\n",
       "      <td>3</td>\n",
       "      <td>1165.0</td>\n",
       "    </tr>\n",
       "    <tr>\n",
       "      <th>4</th>\n",
       "      <td>13750</td>\n",
       "      <td>30.0</td>\n",
       "      <td>38500</td>\n",
       "      <td>Diesel</td>\n",
       "      <td>90</td>\n",
       "      <td>0</td>\n",
       "      <td>0</td>\n",
       "      <td>2000.0</td>\n",
       "      <td>3</td>\n",
       "      <td>1170.0</td>\n",
       "    </tr>\n",
       "  </tbody>\n",
       "</table>\n",
       "</div>"
      ],
      "text/plain": [
       "   Price   Age     KM FuelType  HP  MetColor  Automatic      CC  Doors  Weight\n",
       "0  13500  23.0  46986   Diesel  90         1          0  2000.0      3  1165.0\n",
       "1  13750  23.0  72937   Diesel  90         1          0  2000.0      3  1165.0\n",
       "2  13950  24.0  41711   Diesel  90         1          0  2000.0      3  1165.0\n",
       "3  14950  26.0  48000   Diesel  90         0          0  2000.0      3  1165.0\n",
       "4  13750  30.0  38500   Diesel  90         0          0  2000.0      3  1170.0"
      ]
     },
     "execution_count": 167,
     "metadata": {},
     "output_type": "execute_result"
    }
   ],
   "source": [
    "# Printing sample records from CarPricesData\n",
    "CarPricesData.head()"
   ]
  },
  {
   "cell_type": "code",
   "execution_count": 168,
   "metadata": {},
   "outputs": [
    {
     "data": {
      "text/plain": [
       "Price         236\n",
       "Age            77\n",
       "KM           1263\n",
       "FuelType        3\n",
       "HP             12\n",
       "MetColor        2\n",
       "Automatic       2\n",
       "CC             12\n",
       "Doors           4\n",
       "Weight         59\n",
       "dtype: int64"
      ]
     },
     "execution_count": 168,
     "metadata": {},
     "output_type": "execute_result"
    }
   ],
   "source": [
    "CarPricesData.nunique()"
   ]
  },
  {
   "cell_type": "code",
   "execution_count": 169,
   "metadata": {},
   "outputs": [
    {
     "data": {
      "text/plain": [
       "Index(['Price', 'Age', 'KM', 'FuelType', 'HP', 'MetColor', 'Automatic', 'CC',\n",
       "       'Doors', 'Weight'],\n",
       "      dtype='object')"
      ]
     },
     "execution_count": 169,
     "metadata": {},
     "output_type": "execute_result"
    }
   ],
   "source": [
    "# Printing the column names from the data\n",
    "CarPricesData.columns"
   ]
  },
  {
   "cell_type": "markdown",
   "metadata": {
    "collapsed": true
   },
   "source": [
    "# Visual Exploratory Data Analysis(EDA)"
   ]
  },
  {
   "cell_type": "markdown",
   "metadata": {},
   "source": [
    "### Univariate Analysis: Exploring the data distribution of a SINGLE variable\n",
    "* <b> Histogram </b>: Exploring the distribution of a single Continuous(Quantitative) variable\n",
    "* <b> Bar Charts </b> : Exploring the distribution of a single Categorical variable"
   ]
  },
  {
   "cell_type": "markdown",
   "metadata": {},
   "source": [
    "### Bi-Variate Analysis: Exploring the relationship between TWO variables\n",
    "* <b> Continuous Vs Continuous </b>  ---- Scatter Plot\n",
    "* <b> Continuous Vs Categorical</b> ---- Bar Plot, Box Plot\n",
    "* <b> Categorical Vs Categorical</b> ---- Cross Tabulation/Grouped Bar Plot"
   ]
  },
  {
   "cell_type": "markdown",
   "metadata": {},
   "source": [
    "### Data Distribution: Histograms for continuous columns"
   ]
  },
  {
   "cell_type": "code",
   "execution_count": 48,
   "metadata": {
    "scrolled": true
   },
   "outputs": [
    {
     "data": {
      "text/plain": [
       "array([[<matplotlib.axes._subplots.AxesSubplot object at 0x12bbd6150>]],\n",
       "      dtype=object)"
      ]
     },
     "execution_count": 48,
     "metadata": {},
     "output_type": "execute_result"
    },
    {
     "data": {
      "image/png": "[encoded data removed]",
      "text/plain": [
       "<Figure size 1080x360 with 1 Axes>"
      ]
     },
     "metadata": {
      "needs_background": "light"
     },
     "output_type": "display_data"
    }
   ],
   "source": [
    "## Generating Histograms for continuous columns\n",
    "## You can generate histograms for multiple columns by passing a list of column names like ['Price', 'KM', 'AGE']\n",
    "%matplotlib inline\n",
    "ColumnsToPlot=['Price']\n",
    "CarPricesData[ColumnsToPlot].hist(figsize=(15,5), color='steelblue', bins=20)"
   ]
  },
  {
   "cell_type": "code",
   "execution_count": 35,
   "metadata": {},
   "outputs": [
    {
     "data": {
      "text/html": [
       "<div>\n",
       "<style scoped>\n",
       "    .dataframe tbody tr th:only-of-type {\n",
       "        vertical-align: middle;\n",
       "    }\n",
       "\n",
       "    .dataframe tbody tr th {\n",
       "        vertical-align: top;\n",
       "    }\n",
       "\n",
       "    .dataframe thead th {\n",
       "        text-align: right;\n",
       "    }\n",
       "</style>\n",
       "<table border=\"1\" class=\"dataframe\">\n",
       "  <thead>\n",
       "    <tr style=\"text-align: right;\">\n",
       "      <th></th>\n",
       "      <th>Price</th>\n",
       "      <th>Age</th>\n",
       "      <th>KM</th>\n",
       "      <th>HP</th>\n",
       "      <th>MetColor</th>\n",
       "      <th>Automatic</th>\n",
       "      <th>CC</th>\n",
       "      <th>Doors</th>\n",
       "      <th>Weight</th>\n",
       "    </tr>\n",
       "  </thead>\n",
       "  <tbody>\n",
       "    <tr>\n",
       "      <td>count</td>\n",
       "      <td>1436.000000</td>\n",
       "      <td>1434.000000</td>\n",
       "      <td>1436.000000</td>\n",
       "      <td>1436.000000</td>\n",
       "      <td>1436.000000</td>\n",
       "      <td>1436.000000</td>\n",
       "      <td>1434.000000</td>\n",
       "      <td>1436.000000</td>\n",
       "      <td>1434.000000</td>\n",
       "    </tr>\n",
       "    <tr>\n",
       "      <td>mean</td>\n",
       "      <td>10730.824513</td>\n",
       "      <td>55.986750</td>\n",
       "      <td>68533.259749</td>\n",
       "      <td>101.502089</td>\n",
       "      <td>0.674791</td>\n",
       "      <td>0.055710</td>\n",
       "      <td>1566.990934</td>\n",
       "      <td>4.033426</td>\n",
       "      <td>1072.487448</td>\n",
       "    </tr>\n",
       "    <tr>\n",
       "      <td>std</td>\n",
       "      <td>3626.964585</td>\n",
       "      <td>18.581796</td>\n",
       "      <td>37506.448872</td>\n",
       "      <td>14.981080</td>\n",
       "      <td>0.468616</td>\n",
       "      <td>0.229441</td>\n",
       "      <td>187.178221</td>\n",
       "      <td>0.952677</td>\n",
       "      <td>52.672475</td>\n",
       "    </tr>\n",
       "    <tr>\n",
       "      <td>min</td>\n",
       "      <td>4350.000000</td>\n",
       "      <td>1.000000</td>\n",
       "      <td>1.000000</td>\n",
       "      <td>69.000000</td>\n",
       "      <td>0.000000</td>\n",
       "      <td>0.000000</td>\n",
       "      <td>1300.000000</td>\n",
       "      <td>2.000000</td>\n",
       "      <td>1000.000000</td>\n",
       "    </tr>\n",
       "    <tr>\n",
       "      <td>25%</td>\n",
       "      <td>8450.000000</td>\n",
       "      <td>44.000000</td>\n",
       "      <td>43000.000000</td>\n",
       "      <td>90.000000</td>\n",
       "      <td>0.000000</td>\n",
       "      <td>0.000000</td>\n",
       "      <td>1400.000000</td>\n",
       "      <td>3.000000</td>\n",
       "      <td>1040.000000</td>\n",
       "    </tr>\n",
       "    <tr>\n",
       "      <td>50%</td>\n",
       "      <td>9900.000000</td>\n",
       "      <td>61.000000</td>\n",
       "      <td>63389.500000</td>\n",
       "      <td>110.000000</td>\n",
       "      <td>1.000000</td>\n",
       "      <td>0.000000</td>\n",
       "      <td>1600.000000</td>\n",
       "      <td>4.000000</td>\n",
       "      <td>1070.000000</td>\n",
       "    </tr>\n",
       "    <tr>\n",
       "      <td>75%</td>\n",
       "      <td>11950.000000</td>\n",
       "      <td>70.000000</td>\n",
       "      <td>87020.750000</td>\n",
       "      <td>110.000000</td>\n",
       "      <td>1.000000</td>\n",
       "      <td>0.000000</td>\n",
       "      <td>1600.000000</td>\n",
       "      <td>5.000000</td>\n",
       "      <td>1085.000000</td>\n",
       "    </tr>\n",
       "    <tr>\n",
       "      <td>max</td>\n",
       "      <td>32500.000000</td>\n",
       "      <td>80.000000</td>\n",
       "      <td>243000.000000</td>\n",
       "      <td>192.000000</td>\n",
       "      <td>1.000000</td>\n",
       "      <td>1.000000</td>\n",
       "      <td>2000.000000</td>\n",
       "      <td>5.000000</td>\n",
       "      <td>1615.000000</td>\n",
       "    </tr>\n",
       "  </tbody>\n",
       "</table>\n",
       "</div>"
      ],
      "text/plain": [
       "              Price          Age             KM           HP     MetColor  \\\n",
       "count   1436.000000  1434.000000    1436.000000  1436.000000  1436.000000   \n",
       "mean   10730.824513    55.986750   68533.259749   101.502089     0.674791   \n",
       "std     3626.964585    18.581796   37506.448872    14.981080     0.468616   \n",
       "min     4350.000000     1.000000       1.000000    69.000000     0.000000   \n",
       "25%     8450.000000    44.000000   43000.000000    90.000000     0.000000   \n",
       "50%     9900.000000    61.000000   63389.500000   110.000000     1.000000   \n",
       "75%    11950.000000    70.000000   87020.750000   110.000000     1.000000   \n",
       "max    32500.000000    80.000000  243000.000000   192.000000     1.000000   \n",
       "\n",
       "         Automatic           CC        Doors       Weight  \n",
       "count  1436.000000  1434.000000  1436.000000  1434.000000  \n",
       "mean      0.055710  1566.990934     4.033426  1072.487448  \n",
       "std       0.229441   187.178221     0.952677    52.672475  \n",
       "min       0.000000  1300.000000     2.000000  1000.000000  \n",
       "25%       0.000000  1400.000000     3.000000  1040.000000  \n",
       "50%       0.000000  1600.000000     4.000000  1070.000000  \n",
       "75%       0.000000  1600.000000     5.000000  1085.000000  \n",
       "max       1.000000  2000.000000     5.000000  1615.000000  "
      ]
     },
     "execution_count": 35,
     "metadata": {},
     "output_type": "execute_result"
    }
   ],
   "source": [
    "CarPricesData.describe()"
   ]
  },
  {
   "cell_type": "code",
   "execution_count": 20,
   "metadata": {},
   "outputs": [],
   "source": [
    "# plot the histogram of KM column\n"
   ]
  },
  {
   "cell_type": "code",
   "execution_count": 48,
   "metadata": {},
   "outputs": [
    {
     "data": {
      "text/plain": [
       "FuelType\n",
       "CNG         17\n",
       "Diesel     155\n",
       "Petrol    1260\n",
       "dtype: int64"
      ]
     },
     "execution_count": 48,
     "metadata": {},
     "output_type": "execute_result"
    }
   ],
   "source": [
    "CarPricesData.groupby(['FuelType']).size()"
   ]
  },
  {
   "cell_type": "markdown",
   "metadata": {},
   "source": [
    "### Data Distribution: Bar Chart for Categorical columns"
   ]
  },
  {
   "cell_type": "code",
   "execution_count": 62,
   "metadata": {
    "scrolled": true
   },
   "outputs": [
    {
     "data": {
      "text/plain": [
       "FuelType\n",
       "CNG         17\n",
       "Diesel     155\n",
       "Petrol    1260\n",
       "dtype: int64"
      ]
     },
     "execution_count": 62,
     "metadata": {},
     "output_type": "execute_result"
    }
   ],
   "source": [
    "# Grouping by Fuel type to find the aggregated values\n",
    "GroupedData=CarPricesData.groupby(['FuelType'])\n",
    "\n",
    "# Printing the aggregated values\n",
    "#GroupedData.sum()\n",
    "#GroupedData.count()\n",
    "#GroupedData.mean()\n",
    "GroupedData.size()"
   ]
  },
  {
   "cell_type": "code",
   "execution_count": 63,
   "metadata": {
    "scrolled": true
   },
   "outputs": [
    {
     "data": {
      "text/plain": [
       "<matplotlib.axes._subplots.AxesSubplot at 0x12d6f9e10>"
      ]
     },
     "execution_count": 63,
     "metadata": {},
     "output_type": "execute_result"
    },
    {
     "data": {
      "image/png": "[encoded data removed]",
      "text/plain": [
       "<Figure size 432x288 with 1 Axes>"
      ]
     },
     "metadata": {
      "needs_background": "light"
     },
     "output_type": "display_data"
    }
   ],
   "source": [
    "# Generating the bar chart on the grouped data\n",
    "#GroupedData.size().plot(kind='pie')\n",
    "#GroupedData.size().plot(kind='barh')\n",
    "#GroupedData.size().plot(kind='line')\n",
    "GroupedData.size().plot(kind='bar')"
   ]
  },
  {
   "cell_type": "code",
   "execution_count": 64,
   "metadata": {},
   "outputs": [],
   "source": [
    "# Generate Bar chart for MetColor and Automatic column\n",
    "# Notice if it is Imbalanced or not\n"
   ]
  },
  {
   "cell_type": "markdown",
   "metadata": {},
   "source": [
    "### Continuous Vs Continuous Relationship  ---- Scatter Plot"
   ]
  },
  {
   "cell_type": "code",
   "execution_count": 13,
   "metadata": {
    "scrolled": false
   },
   "outputs": [
    {
     "data": {
      "text/plain": [
       "<matplotlib.axes._subplots.AxesSubplot at 0x1253b7890>"
      ]
     },
     "execution_count": 13,
     "metadata": {},
     "output_type": "execute_result"
    },
    {
     "data": {
      "image/png": "[encoded data removed]",
      "text/plain": [
       "<Figure size 720x360 with 1 Axes>"
      ]
     },
     "metadata": {
      "needs_background": "light"
     },
     "output_type": "display_data"
    }
   ],
   "source": [
    "# Visualizing relationship between Age and Price\n",
    "# recommended to keep predictors in x-axis and target var in y-axis\n",
    "#marker='s' -- plot squares\n",
    "#marker='v' -- plot triangles\n",
    "#marker='*' -- plot stars\n",
    "%matplotlib inline\n",
    "CarPricesData.plot.scatter(x='Age', y='Price', figsize=(10,5), marker='*', color='blue')"
   ]
  },
  {
   "cell_type": "code",
   "execution_count": null,
   "metadata": {},
   "outputs": [],
   "source": []
  },
  {
   "cell_type": "code",
   "execution_count": 20,
   "metadata": {},
   "outputs": [],
   "source": [
    "# plot the scatter chart between Age(X-axis) and KMs (Y-axis)\n"
   ]
  },
  {
   "cell_type": "code",
   "execution_count": null,
   "metadata": {},
   "outputs": [],
   "source": []
  },
  {
   "cell_type": "code",
   "execution_count": 9,
   "metadata": {},
   "outputs": [
    {
     "data": {
      "image/png": "[encoded data removed]",
      "text/plain": [
       "<Figure size 1296x576 with 6 Axes>"
      ]
     },
     "metadata": {
      "needs_background": "light"
     },
     "output_type": "display_data"
    }
   ],
   "source": [
    "### Generating Multiple Charts at once\n",
    "import matplotlib.pyplot as plt\n",
    "\n",
    "# Generating multiple subplots\n",
    "fig, subPlot=plt.subplots(nrows=2, ncols=3, figsize=(18,8))\n",
    "\n",
    "# Creating the super title of the charts\n",
    "fig.suptitle('Price Vs AGE, KM and Weight')\n",
    "\n",
    "# Generating multiple scatter charts\n",
    "CarPricesData.plot.scatter(x='Age', y='Price', marker='o', color='blue', ax=subPlot[0,0])\n",
    "CarPricesData.plot.scatter(x='KM', y='Price', marker='o', color='blue', ax=subPlot[0,1])\n",
    "CarPricesData.plot.scatter(x='Weight', y='Price', marker='o', color='blue', ax=subPlot[0,2])\n",
    "\n",
    "\n",
    "# exporting the image to the local disk\n",
    "plt.savefig('Scatter Charts.png')"
   ]
  },
  {
   "cell_type": "code",
   "execution_count": null,
   "metadata": {
    "collapsed": true
   },
   "outputs": [],
   "source": []
  },
  {
   "cell_type": "markdown",
   "metadata": {},
   "source": [
    "### Continuous Vs Categorical Relationship  ---- Bar Plot/Box Plot"
   ]
  },
  {
   "cell_type": "code",
   "execution_count": 26,
   "metadata": {},
   "outputs": [
    {
     "data": {
      "text/html": [
       "<div>\n",
       "<style scoped>\n",
       "    .dataframe tbody tr th:only-of-type {\n",
       "        vertical-align: middle;\n",
       "    }\n",
       "\n",
       "    .dataframe tbody tr th {\n",
       "        vertical-align: top;\n",
       "    }\n",
       "\n",
       "    .dataframe thead th {\n",
       "        text-align: right;\n",
       "    }\n",
       "</style>\n",
       "<table border=\"1\" class=\"dataframe\">\n",
       "  <thead>\n",
       "    <tr style=\"text-align: right;\">\n",
       "      <th></th>\n",
       "      <th>Price</th>\n",
       "      <th>Age</th>\n",
       "      <th>KM</th>\n",
       "      <th>HP</th>\n",
       "      <th>MetColor</th>\n",
       "      <th>Automatic</th>\n",
       "      <th>CC</th>\n",
       "      <th>Doors</th>\n",
       "      <th>Weight</th>\n",
       "    </tr>\n",
       "    <tr>\n",
       "      <th>FuelType</th>\n",
       "      <th></th>\n",
       "      <th></th>\n",
       "      <th></th>\n",
       "      <th></th>\n",
       "      <th></th>\n",
       "      <th></th>\n",
       "      <th></th>\n",
       "      <th></th>\n",
       "      <th></th>\n",
       "    </tr>\n",
       "  </thead>\n",
       "  <tbody>\n",
       "    <tr>\n",
       "      <td>CNG</td>\n",
       "      <td>9421.176471</td>\n",
       "      <td>56.352941</td>\n",
       "      <td>117865.588235</td>\n",
       "      <td>110.000000</td>\n",
       "      <td>0.764706</td>\n",
       "      <td>0.058824</td>\n",
       "      <td>1599.882353</td>\n",
       "      <td>4.117647</td>\n",
       "      <td>1097.823529</td>\n",
       "    </tr>\n",
       "    <tr>\n",
       "      <td>Diesel</td>\n",
       "      <td>11294.554839</td>\n",
       "      <td>50.722581</td>\n",
       "      <td>111977.580645</td>\n",
       "      <td>78.535484</td>\n",
       "      <td>0.658065</td>\n",
       "      <td>0.000000</td>\n",
       "      <td>1976.548387</td>\n",
       "      <td>4.103226</td>\n",
       "      <td>1158.400000</td>\n",
       "    </tr>\n",
       "    <tr>\n",
       "      <td>Petrol</td>\n",
       "      <td>10673.649206</td>\n",
       "      <td>56.629571</td>\n",
       "      <td>62554.623810</td>\n",
       "      <td>104.139683</td>\n",
       "      <td>0.675397</td>\n",
       "      <td>0.061905</td>\n",
       "      <td>1516.058824</td>\n",
       "      <td>4.025397</td>\n",
       "      <td>1061.539746</td>\n",
       "    </tr>\n",
       "  </tbody>\n",
       "</table>\n",
       "</div>"
      ],
      "text/plain": [
       "                 Price        Age             KM          HP  MetColor  \\\n",
       "FuelType                                                                 \n",
       "CNG        9421.176471  56.352941  117865.588235  110.000000  0.764706   \n",
       "Diesel    11294.554839  50.722581  111977.580645   78.535484  0.658065   \n",
       "Petrol    10673.649206  56.629571   62554.623810  104.139683  0.675397   \n",
       "\n",
       "          Automatic           CC     Doors       Weight  \n",
       "FuelType                                                 \n",
       "CNG        0.058824  1599.882353  4.117647  1097.823529  \n",
       "Diesel     0.000000  1976.548387  4.103226  1158.400000  \n",
       "Petrol     0.061905  1516.058824  4.025397  1061.539746  "
      ]
     },
     "execution_count": 26,
     "metadata": {},
     "output_type": "execute_result"
    }
   ],
   "source": [
    "# What is the average price of each fuel type of cars\n",
    "# Grouping by Fuel type to find the aggregated values\n",
    "GroupedData=CarPricesData.groupby(['FuelType'])\n",
    "\n",
    "# Printing the aggregated values\n",
    "GroupedData.mean()"
   ]
  },
  {
   "cell_type": "code",
   "execution_count": 27,
   "metadata": {},
   "outputs": [
    {
     "data": {
      "text/plain": [
       "<matplotlib.axes._subplots.AxesSubplot at 0x12067bf50>"
      ]
     },
     "execution_count": 27,
     "metadata": {},
     "output_type": "execute_result"
    },
    {
     "data": {
      "image/png": "[encoded data removed]",
      "text/plain": [
       "<Figure size 432x288 with 1 Axes>"
      ]
     },
     "metadata": {
      "needs_background": "light"
     },
     "output_type": "display_data"
    }
   ],
   "source": [
    "# Creating the Bar Chart with average price in Y-axis\n",
    "GroupedData.mean()['Price'].plot(kind='bar', title='Average Price for Each Fuel Type', color=['green','lightblue','blue'])"
   ]
  },
  {
   "cell_type": "code",
   "execution_count": 1,
   "metadata": {},
   "outputs": [
    {
     "ename": "NameError",
     "evalue": "name 'CarPricesData' is not defined",
     "output_type": "error",
     "traceback": [
      "\u001b[1;31m---------------------------------------------------------------------------\u001b[0m",
      "\u001b[1;31mNameError\u001b[0m                                 Traceback (most recent call last)",
      "\u001b[1;32m~\\AppData\\Local\\Temp\\ipykernel_4460\\1188957718.py\u001b[0m in \u001b[0;36m<module>\u001b[1;34m\u001b[0m\n\u001b[0;32m      1\u001b[0m \u001b[1;31m# Box Plot between Categorical and Continuous variable\u001b[0m\u001b[1;33m\u001b[0m\u001b[1;33m\u001b[0m\u001b[0m\n\u001b[0;32m      2\u001b[0m \u001b[0mget_ipython\u001b[0m\u001b[1;33m(\u001b[0m\u001b[1;33m)\u001b[0m\u001b[1;33m.\u001b[0m\u001b[0mrun_line_magic\u001b[0m\u001b[1;33m(\u001b[0m\u001b[1;34m'matplotlib'\u001b[0m\u001b[1;33m,\u001b[0m \u001b[1;34m'inline'\u001b[0m\u001b[1;33m)\u001b[0m\u001b[1;33m\u001b[0m\u001b[1;33m\u001b[0m\u001b[0m\n\u001b[1;32m----> 3\u001b[1;33m \u001b[0mCarPricesData\u001b[0m\u001b[1;33m.\u001b[0m\u001b[0mboxplot\u001b[0m\u001b[1;33m(\u001b[0m\u001b[0mcolumn\u001b[0m\u001b[1;33m=\u001b[0m\u001b[1;34m'Price'\u001b[0m\u001b[1;33m,\u001b[0m \u001b[0mby\u001b[0m\u001b[1;33m=\u001b[0m\u001b[1;34m'Automatic'\u001b[0m\u001b[1;33m,\u001b[0m \u001b[0mfigsize\u001b[0m\u001b[1;33m=\u001b[0m\u001b[1;33m(\u001b[0m\u001b[1;36m10\u001b[0m\u001b[1;33m,\u001b[0m\u001b[1;36m6\u001b[0m\u001b[1;33m)\u001b[0m\u001b[1;33m,\u001b[0m \u001b[0mvert\u001b[0m\u001b[1;33m=\u001b[0m\u001b[1;32mTrue\u001b[0m\u001b[1;33m)\u001b[0m\u001b[1;33m\u001b[0m\u001b[1;33m\u001b[0m\u001b[0m\n\u001b[0m",
      "\u001b[1;31mNameError\u001b[0m: name 'CarPricesData' is not defined"
     ]
    }
   ],
   "source": [
    "# Box Plot between Categorical and Continuous variable\n",
    "%matplotlib inline\n",
    "CarPricesData.boxplot(column='Price', by='FuelType', figsize=(10,6), vert=True)"
   ]
  },
  {
   "cell_type": "code",
   "execution_count": null,
   "metadata": {
    "collapsed": true
   },
   "outputs": [],
   "source": [
    "# Generate the boxplot for Price vs MetColor and tell if they are correlated\n"
   ]
  },
  {
   "cell_type": "code",
   "execution_count": null,
   "metadata": {},
   "outputs": [],
   "source": []
  },
  {
   "cell_type": "markdown",
   "metadata": {},
   "source": [
    "### Categorical Vs Categorical Relationship  ---- Grouped Bar Plot/Cross Tabulation"
   ]
  },
  {
   "cell_type": "code",
   "execution_count": 18,
   "metadata": {},
   "outputs": [
    {
     "data": {
      "text/html": [
       "<div>\n",
       "<style scoped>\n",
       "    .dataframe tbody tr th:only-of-type {\n",
       "        vertical-align: middle;\n",
       "    }\n",
       "\n",
       "    .dataframe tbody tr th {\n",
       "        vertical-align: top;\n",
       "    }\n",
       "\n",
       "    .dataframe thead th {\n",
       "        text-align: right;\n",
       "    }\n",
       "</style>\n",
       "<table border=\"1\" class=\"dataframe\">\n",
       "  <thead>\n",
       "    <tr style=\"text-align: right;\">\n",
       "      <th>MetColor</th>\n",
       "      <th>0</th>\n",
       "      <th>1</th>\n",
       "    </tr>\n",
       "    <tr>\n",
       "      <th>FuelType</th>\n",
       "      <th></th>\n",
       "      <th></th>\n",
       "    </tr>\n",
       "  </thead>\n",
       "  <tbody>\n",
       "    <tr>\n",
       "      <td>CNG</td>\n",
       "      <td>4</td>\n",
       "      <td>13</td>\n",
       "    </tr>\n",
       "    <tr>\n",
       "      <td>Diesel</td>\n",
       "      <td>53</td>\n",
       "      <td>102</td>\n",
       "    </tr>\n",
       "    <tr>\n",
       "      <td>Petrol</td>\n",
       "      <td>409</td>\n",
       "      <td>851</td>\n",
       "    </tr>\n",
       "  </tbody>\n",
       "</table>\n",
       "</div>"
      ],
      "text/plain": [
       "MetColor    0    1\n",
       "FuelType          \n",
       "CNG         4   13\n",
       "Diesel     53  102\n",
       "Petrol    409  851"
      ]
     },
     "execution_count": 18,
     "metadata": {},
     "output_type": "execute_result"
    }
   ],
   "source": [
    "# Cross tablulation between two categorical variables\n",
    "CrossTabResult=pd.crosstab(index=CarPricesData['FuelType'], columns=CarPricesData['MetColor'])\n",
    "CrossTabResult"
   ]
  },
  {
   "cell_type": "code",
   "execution_count": 19,
   "metadata": {},
   "outputs": [
    {
     "data": {
      "text/plain": [
       "<matplotlib.axes._subplots.AxesSubplot at 0x126218b90>"
      ]
     },
     "execution_count": 19,
     "metadata": {},
     "output_type": "execute_result"
    },
    {
     "data": {
      "image/png": "[encoded data removed]",
      "text/plain": [
       "<Figure size 720x216 with 1 Axes>"
      ]
     },
     "metadata": {
      "needs_background": "light"
     },
     "output_type": "display_data"
    }
   ],
   "source": [
    "# Visual Inference using Grouped Bar chart\n",
    "# Notice that Maximum metallic color is used for Petrol cars\n",
    "CrossTabResult.plot.bar(figsize=(10,3), color=['lightblue','blue'])"
   ]
  },
  {
   "cell_type": "code",
   "execution_count": null,
   "metadata": {
    "collapsed": true
   },
   "outputs": [],
   "source": []
  },
  {
   "cell_type": "code",
   "execution_count": null,
   "metadata": {
    "collapsed": true
   },
   "outputs": [],
   "source": []
  },
  {
   "cell_type": "code",
   "execution_count": null,
   "metadata": {},
   "outputs": [],
   "source": []
  }
 ],
 "metadata": {
  "kernelspec": {
   "display_name": "Python 3 (ipykernel)",
   "language": "python",
   "name": "python3"
  },
  "language_info": {
   "codemirror_mode": {
    "name": "ipython",
    "version": 3
   },
   "file_extension": ".py",
   "mimetype": "text/x-python",
   "name": "python",
   "nbconvert_exporter": "python",
   "pygments_lexer": "ipython3",
   "version": "3.9.13"
  }
 },
 "nbformat": 4,
 "nbformat_minor": 1
}
