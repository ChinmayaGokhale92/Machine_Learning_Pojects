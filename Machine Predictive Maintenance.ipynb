{
 "cells": [
  {
   "cell_type": "code",
   "execution_count": 1,
   "id": "0e5139a3",
   "metadata": {},
   "outputs": [],
   "source": [
    "import os"
   ]
  },
  {
   "cell_type": "code",
   "execution_count": 2,
   "id": "7959f06b",
   "metadata": {},
   "outputs": [
    {
     "data": {
      "text/plain": [
       "'C:\\\\Users\\\\Lenovo\\\\IVY Python ML-Oct 2022'"
      ]
     },
     "execution_count": 2,
     "metadata": {},
     "output_type": "execute_result"
    }
   ],
   "source": [
    "os.getcwd()"
   ]
  },
  {
   "cell_type": "code",
   "execution_count": 3,
   "id": "66c62d3a",
   "metadata": {},
   "outputs": [],
   "source": [
    "os.chdir('C:/Users/Lenovo/ALL Python ML notebooks/Machine Predictive Maintenance Classification')"
   ]
  },
  {
   "cell_type": "code",
   "execution_count": 4,
   "id": "d5a1c84a",
   "metadata": {},
   "outputs": [
    {
     "data": {
      "text/plain": [
       "'C:\\\\Users\\\\Lenovo\\\\ALL Python ML notebooks\\\\Machine Predictive Maintenance Classification'"
      ]
     },
     "execution_count": 4,
     "metadata": {},
     "output_type": "execute_result"
    }
   ],
   "source": [
    "os.getcwd()"
   ]
  },
  {
   "cell_type": "markdown",
   "id": "1fc77922",
   "metadata": {},
   "source": [
    "# Machine Predictive Maintenance Classification"
   ]
  },
  {
   "cell_type": "markdown",
   "id": "f61c1922",
   "metadata": {},
   "source": [
    "Since real predictive maintenance datasets are generally difficult to obtain and in particular difficult to publish,\n",
    "we present and provide a synthetic dataset that reflects real predictive maintenance encountered in the industry to the\n",
    "best of our knowledge."
   ]
  },
  {
   "cell_type": "markdown",
   "id": "be168345",
   "metadata": {},
   "source": [
    "The dataset consists of 10,000 data points stored as rows with 14 features in columns\n",
    "\n",
    "- <b>UID</b>: unique identifier ranging from 1 to 10000\n",
    "- <b>ProductID</b>: consisting of a letter L, M, or H for low (50% of all products), medium (30%), and high (20%) as\n",
    "product quality variants and a variant-specific serial number\n",
    "- <b>Air temperature [K]</b>: generated using a random walk process later normalized to a standard deviation of 2 K around 300 K\n",
    "- <b>Process temperature [K]</b>: generated using a random walk process normalized to a standard deviation of 1 K,\n",
    "added to the air temperature plus 10 K\n",
    "- <b>Rotational speed [rpm]</b>: calculated from powepower of 2860 W, overlaid with a normally distributed noise\n",
    "- <b>Torque [Nm]</b>: torque values are normally distributed around 40 Nm with an Ïƒ = 10 Nm and no negative values\n",
    "- <b>Tool wear [min]</b>: The quality variants H/M/L add 5/3/2 minutes of tool wear to the used tool in the process. and a\n",
    "'machine failure' label that indicates, whether the machine has failed in this particular data point for any of the\n",
    "following failure modes are true"
   ]
  },
  {
   "cell_type": "markdown",
   "id": "f29e7e04",
   "metadata": {},
   "source": [
    "# Important : There are two Targets - Do not make the mistake of using one of them as feature, as it will lead to leakage. But here we are considering only one target i.e, \"Failure Type\""
   ]
  },
  {
   "cell_type": "markdown",
   "id": "8376e904",
   "metadata": {},
   "source": [
    "- <b>Target</b> : Failure or Not\n",
    "- <b>Failure Type</b> : Type of Failure"
   ]
  },
  {
   "cell_type": "markdown",
   "id": "d91adac3",
   "metadata": {},
   "source": [
    "# Reading the data into python"
   ]
  },
  {
   "cell_type": "markdown",
   "id": "f934c9c2",
   "metadata": {},
   "source": [
    "This is one of the most important steps in machine learning! You must understand the data and the domain well before\n",
    "trying to apply any machine learning algorithm.\n",
    "\n",
    "The data has one file \"predictive_maintenance.csv\". This file contains 10000 readings."
   ]
  },
  {
   "cell_type": "code",
   "execution_count": 13,
   "id": "df50379c",
   "metadata": {},
   "outputs": [],
   "source": [
    "import sys"
   ]
  },
  {
   "cell_type": "code",
   "execution_count": 14,
   "id": "19b225d2",
   "metadata": {},
   "outputs": [
    {
     "data": {
      "text/plain": [
       "'3.11.5 | packaged by Anaconda, Inc. | (main, Sep 11 2023, 13:26:23) [MSC v.1916 64 bit (AMD64)]'"
      ]
     },
     "execution_count": 14,
     "metadata": {},
     "output_type": "execute_result"
    }
   ],
   "source": [
    "sys.version"
   ]
  },
  {
   "cell_type": "code",
   "execution_count": 15,
   "id": "685bed67",
   "metadata": {},
   "outputs": [],
   "source": [
    "# Suppressing the warnings messages\n",
    "import warnings\n",
    "warnings.filterwarnings('ignore')"
   ]
  },
  {
   "cell_type": "code",
   "execution_count": 16,
   "id": "54c18e7f",
   "metadata": {},
   "outputs": [
    {
     "name": "stdout",
     "output_type": "stream",
     "text": [
      "Shape before deleting duplicate values (10000, 10)\n",
      "Shape after deleting duplicate values (10000, 10)\n"
     ]
    },
    {
     "data": {
      "text/html": [
       "<div>\n",
       "<style scoped>\n",
       "    .dataframe tbody tr th:only-of-type {\n",
       "        vertical-align: middle;\n",
       "    }\n",
       "\n",
       "    .dataframe tbody tr th {\n",
       "        vertical-align: top;\n",
       "    }\n",
       "\n",
       "    .dataframe thead th {\n",
       "        text-align: right;\n",
       "    }\n",
       "</style>\n",
       "<table border=\"1\" class=\"dataframe\">\n",
       "  <thead>\n",
       "    <tr style=\"text-align: right;\">\n",
       "      <th></th>\n",
       "      <th>ï»¿UDI</th>\n",
       "      <th>Product ID</th>\n",
       "      <th>Type</th>\n",
       "      <th>Air temperature [K]</th>\n",
       "      <th>Process temperature [K]</th>\n",
       "      <th>Rotational speed [rpm]</th>\n",
       "      <th>Torque [Nm]</th>\n",
       "      <th>Tool wear [min]</th>\n",
       "      <th>Target</th>\n",
       "      <th>Failure Type</th>\n",
       "    </tr>\n",
       "  </thead>\n",
       "  <tbody>\n",
       "    <tr>\n",
       "      <th>0</th>\n",
       "      <td>1</td>\n",
       "      <td>M14860</td>\n",
       "      <td>M</td>\n",
       "      <td>298.1</td>\n",
       "      <td>308.6</td>\n",
       "      <td>1551</td>\n",
       "      <td>42.8</td>\n",
       "      <td>0</td>\n",
       "      <td>0</td>\n",
       "      <td>0</td>\n",
       "    </tr>\n",
       "    <tr>\n",
       "      <th>1</th>\n",
       "      <td>2</td>\n",
       "      <td>L47181</td>\n",
       "      <td>L</td>\n",
       "      <td>298.2</td>\n",
       "      <td>308.7</td>\n",
       "      <td>1408</td>\n",
       "      <td>46.3</td>\n",
       "      <td>3</td>\n",
       "      <td>0</td>\n",
       "      <td>0</td>\n",
       "    </tr>\n",
       "    <tr>\n",
       "      <th>2</th>\n",
       "      <td>3</td>\n",
       "      <td>L47182</td>\n",
       "      <td>L</td>\n",
       "      <td>298.1</td>\n",
       "      <td>308.5</td>\n",
       "      <td>1498</td>\n",
       "      <td>49.4</td>\n",
       "      <td>5</td>\n",
       "      <td>0</td>\n",
       "      <td>0</td>\n",
       "    </tr>\n",
       "    <tr>\n",
       "      <th>3</th>\n",
       "      <td>4</td>\n",
       "      <td>L47183</td>\n",
       "      <td>L</td>\n",
       "      <td>298.2</td>\n",
       "      <td>308.6</td>\n",
       "      <td>1433</td>\n",
       "      <td>39.5</td>\n",
       "      <td>7</td>\n",
       "      <td>0</td>\n",
       "      <td>0</td>\n",
       "    </tr>\n",
       "    <tr>\n",
       "      <th>4</th>\n",
       "      <td>5</td>\n",
       "      <td>L47184</td>\n",
       "      <td>L</td>\n",
       "      <td>298.2</td>\n",
       "      <td>308.7</td>\n",
       "      <td>1408</td>\n",
       "      <td>40.0</td>\n",
       "      <td>9</td>\n",
       "      <td>0</td>\n",
       "      <td>0</td>\n",
       "    </tr>\n",
       "  </tbody>\n",
       "</table>\n",
       "</div>"
      ],
      "text/plain": [
       "   ï»¿UDI Product ID Type  Air temperature [K]  Process temperature [K]  \\\n",
       "0       1     M14860    M                298.1                    308.6   \n",
       "1       2     L47181    L                298.2                    308.7   \n",
       "2       3     L47182    L                298.1                    308.5   \n",
       "3       4     L47183    L                298.2                    308.6   \n",
       "4       5     L47184    L                298.2                    308.7   \n",
       "\n",
       "   Rotational speed [rpm]  Torque [Nm]  Tool wear [min]  Target  Failure Type  \n",
       "0                    1551         42.8                0       0             0  \n",
       "1                    1408         46.3                3       0             0  \n",
       "2                    1498         49.4                5       0             0  \n",
       "3                    1433         39.5                7       0             0  \n",
       "4                    1408         40.0                9       0             0  "
      ]
     },
     "execution_count": 16,
     "metadata": {},
     "output_type": "execute_result"
    }
   ],
   "source": [
    "# Reading the dataset\n",
    "import pandas as pd\n",
    "import numpy as np\n",
    "PredictiveMaintenance=pd.read_csv('C:/Users/Lenovo/ALL Python ML notebooks/Machine Predictive Maintenance Classification/predictive_maintenance.csv', encoding='latin')\n",
    "print('Shape before deleting duplicate values', PredictiveMaintenance.shape)\n",
    "\n",
    "# Removing duplicates rows if any\n",
    "PredictiveMaintenance=PredictiveMaintenance.drop_duplicates()\n",
    "print('Shape after deleting duplicate values', PredictiveMaintenance.shape)\n",
    "\n",
    "PredictiveMaintenance['Failure Type'].replace({'No Failure':0,'Heat Dissipation Failure':1, 'Overstrain Failure':2, 'Power Failure':3, 'Random Failures':4, 'Tool Wear Failure':5}, inplace=True)\n",
    "\n",
    "# Printing sample data\n",
    "# Start observing the Quantitative/Categorical/Qualitative variables\n",
    "PredictiveMaintenance.head()"
   ]
  },
  {
   "cell_type": "markdown",
   "id": "4f2fd17d",
   "metadata": {},
   "source": [
    "# Defining the problem statement:"
   ]
  },
  {
   "cell_type": "markdown",
   "id": "9cd2b546",
   "metadata": {},
   "source": [
    "Create a predictive maintenance whether the machine is undergoing failure or not\n",
    "* Target Variable-Target\n",
    "* Predictors: Type, Air temperature, Process temperature, Rotational Speed, Torque, Tool wear etc\n",
    "    \n",
    "* Target=0 No Failure, \n",
    "* Target=1 Failure(Any)"
   ]
  },
  {
   "cell_type": "markdown",
   "id": "dd4d3a56",
   "metadata": {},
   "source": [
    "# Determine the type of Machine Learning"
   ]
  },
  {
   "cell_type": "markdown",
   "id": "ca21a735",
   "metadata": {},
   "source": [
    "Based on the problem statement you can understand that we need to create a supervised ML classification model, as the target variable is categorical."
   ]
  },
  {
   "cell_type": "markdown",
   "id": "6f1800b0",
   "metadata": {},
   "source": [
    "# Looking at the distribution of the Target variable"
   ]
  },
  {
   "cell_type": "markdown",
   "id": "75620887",
   "metadata": {},
   "source": [
    "* If target variable's distribution is too skewed then the predictive modeling will not be possible\n",
    "* Bell curve is desirable but slightly positive skew or negative skew is also fine\n",
    "* When performing Classification, make sure there is a balance in the the distribution of each class\n",
    "otherwise it impacts the Machine Learning algorithms ability to learn all the classes"
   ]
  },
  {
   "cell_type": "code",
   "execution_count": 17,
   "id": "bad26372",
   "metadata": {},
   "outputs": [
    {
     "data": {
      "text/plain": [
       "<Axes: xlabel='Failure Type'>"
      ]
     },
     "execution_count": 17,
     "metadata": {},
     "output_type": "execute_result"
    },
    {
     "data": {
      "image/png": "[encoded data removed]",
      "text/plain": [
       "<Figure size 400x300 with 1 Axes>"
      ]
     },
     "metadata": {},
     "output_type": "display_data"
    }
   ],
   "source": [
    "%matplotlib inline\n",
    "# Creating Bar chart as Target variable is Categorical\n",
    "GroupedData=PredictiveMaintenance.groupby('Failure Type').size()\n",
    "GroupedData.plot(kind='bar', figsize=(4,3))"
   ]
  },
  {
   "cell_type": "code",
   "execution_count": 18,
   "id": "663a68b7",
   "metadata": {},
   "outputs": [
    {
     "data": {
      "text/plain": [
       "<Axes: xlabel='Target'>"
      ]
     },
     "execution_count": 18,
     "metadata": {},
     "output_type": "execute_result"
    },
    {
     "data": {
      "image/png": "[encoded data removed]",
      "text/plain": [
       "<Figure size 400x300 with 1 Axes>"
      ]
     },
     "metadata": {},
     "output_type": "display_data"
    }
   ],
   "source": [
    "GroupedData=PredictiveMaintenance.groupby('Target').size()\n",
    "GroupedData.plot(kind='bar', figsize=(4,3))"
   ]
  },
  {
   "cell_type": "markdown",
   "id": "9f9877f2",
   "metadata": {},
   "source": [
    "The data distribution of the target variable is satisfactory to proceed further. There are sufficient number of rows for each category to learn from."
   ]
  },
  {
   "cell_type": "markdown",
   "id": "fdb5e3ef",
   "metadata": {},
   "source": [
    "# Basic Data Exploration"
   ]
  },
  {
   "cell_type": "markdown",
   "id": "67fc1a76",
   "metadata": {},
   "source": [
    "This step is performed to gauge the overall data. The volume of data, the types of columns present in the data. Initial assessment of the data should bbe done to identify which columns are Quantitative, Categorical or Qualitative.\n",
    "\n",
    "This step helps to start the columns rejection process. You must loo at each column carefully and ask, does this columns affect the values of the Target variable? For example, in this case study, you will ask, does this columns affect the machine failure?\n",
    "If the answer is a clear \"No\", then remove the columns immediately from the data, otherwise keep the coluns for the further analysis."
   ]
  },
  {
   "cell_type": "markdown",
   "id": "4d694e57",
   "metadata": {},
   "source": [
    "There are four commands which are used for Basic data exploration in Python\n",
    "\n",
    "* head() : This helps to see a few sample rows of the data\n",
    "* info() : This provides the summarized information of the data\n",
    "* describe() : This provides the descriptive statistical details of the data\n",
    "* nunique(): This helps us to identify if a column is categorical or continuous"
   ]
  },
  {
   "cell_type": "code",
   "execution_count": 19,
   "id": "b6f26ec7",
   "metadata": {},
   "outputs": [
    {
     "data": {
      "text/html": [
       "<div>\n",
       "<style scoped>\n",
       "    .dataframe tbody tr th:only-of-type {\n",
       "        vertical-align: middle;\n",
       "    }\n",
       "\n",
       "    .dataframe tbody tr th {\n",
       "        vertical-align: top;\n",
       "    }\n",
       "\n",
       "    .dataframe thead th {\n",
       "        text-align: right;\n",
       "    }\n",
       "</style>\n",
       "<table border=\"1\" class=\"dataframe\">\n",
       "  <thead>\n",
       "    <tr style=\"text-align: right;\">\n",
       "      <th></th>\n",
       "      <th>ï»¿UDI</th>\n",
       "      <th>Product ID</th>\n",
       "      <th>Type</th>\n",
       "      <th>Air temperature [K]</th>\n",
       "      <th>Process temperature [K]</th>\n",
       "      <th>Rotational speed [rpm]</th>\n",
       "      <th>Torque [Nm]</th>\n",
       "      <th>Tool wear [min]</th>\n",
       "      <th>Target</th>\n",
       "      <th>Failure Type</th>\n",
       "    </tr>\n",
       "  </thead>\n",
       "  <tbody>\n",
       "    <tr>\n",
       "      <th>0</th>\n",
       "      <td>1</td>\n",
       "      <td>M14860</td>\n",
       "      <td>M</td>\n",
       "      <td>298.1</td>\n",
       "      <td>308.6</td>\n",
       "      <td>1551</td>\n",
       "      <td>42.8</td>\n",
       "      <td>0</td>\n",
       "      <td>0</td>\n",
       "      <td>0</td>\n",
       "    </tr>\n",
       "    <tr>\n",
       "      <th>1</th>\n",
       "      <td>2</td>\n",
       "      <td>L47181</td>\n",
       "      <td>L</td>\n",
       "      <td>298.2</td>\n",
       "      <td>308.7</td>\n",
       "      <td>1408</td>\n",
       "      <td>46.3</td>\n",
       "      <td>3</td>\n",
       "      <td>0</td>\n",
       "      <td>0</td>\n",
       "    </tr>\n",
       "    <tr>\n",
       "      <th>2</th>\n",
       "      <td>3</td>\n",
       "      <td>L47182</td>\n",
       "      <td>L</td>\n",
       "      <td>298.1</td>\n",
       "      <td>308.5</td>\n",
       "      <td>1498</td>\n",
       "      <td>49.4</td>\n",
       "      <td>5</td>\n",
       "      <td>0</td>\n",
       "      <td>0</td>\n",
       "    </tr>\n",
       "    <tr>\n",
       "      <th>3</th>\n",
       "      <td>4</td>\n",
       "      <td>L47183</td>\n",
       "      <td>L</td>\n",
       "      <td>298.2</td>\n",
       "      <td>308.6</td>\n",
       "      <td>1433</td>\n",
       "      <td>39.5</td>\n",
       "      <td>7</td>\n",
       "      <td>0</td>\n",
       "      <td>0</td>\n",
       "    </tr>\n",
       "    <tr>\n",
       "      <th>4</th>\n",
       "      <td>5</td>\n",
       "      <td>L47184</td>\n",
       "      <td>L</td>\n",
       "      <td>298.2</td>\n",
       "      <td>308.7</td>\n",
       "      <td>1408</td>\n",
       "      <td>40.0</td>\n",
       "      <td>9</td>\n",
       "      <td>0</td>\n",
       "      <td>0</td>\n",
       "    </tr>\n",
       "  </tbody>\n",
       "</table>\n",
       "</div>"
      ],
      "text/plain": [
       "   ï»¿UDI Product ID Type  Air temperature [K]  Process temperature [K]  \\\n",
       "0       1     M14860    M                298.1                    308.6   \n",
       "1       2     L47181    L                298.2                    308.7   \n",
       "2       3     L47182    L                298.1                    308.5   \n",
       "3       4     L47183    L                298.2                    308.6   \n",
       "4       5     L47184    L                298.2                    308.7   \n",
       "\n",
       "   Rotational speed [rpm]  Torque [Nm]  Tool wear [min]  Target  Failure Type  \n",
       "0                    1551         42.8                0       0             0  \n",
       "1                    1408         46.3                3       0             0  \n",
       "2                    1498         49.4                5       0             0  \n",
       "3                    1433         39.5                7       0             0  \n",
       "4                    1408         40.0                9       0             0  "
      ]
     },
     "execution_count": 19,
     "metadata": {},
     "output_type": "execute_result"
    }
   ],
   "source": [
    "# looking at sample rows in the data\n",
    "PredictiveMaintenance.head()"
   ]
  },
  {
   "cell_type": "code",
   "execution_count": 20,
   "id": "e3dc6d4b",
   "metadata": {},
   "outputs": [
    {
     "name": "stdout",
     "output_type": "stream",
     "text": [
      "<class 'pandas.core.frame.DataFrame'>\n",
      "RangeIndex: 10000 entries, 0 to 9999\n",
      "Data columns (total 10 columns):\n",
      " #   Column                   Non-Null Count  Dtype  \n",
      "---  ------                   --------------  -----  \n",
      " 0   ï»¿UDI                   10000 non-null  int64  \n",
      " 1   Product ID               10000 non-null  object \n",
      " 2   Type                     10000 non-null  object \n",
      " 3   Air temperature [K]      10000 non-null  float64\n",
      " 4   Process temperature [K]  10000 non-null  float64\n",
      " 5   Rotational speed [rpm]   10000 non-null  int64  \n",
      " 6   Torque [Nm]              10000 non-null  float64\n",
      " 7   Tool wear [min]          10000 non-null  int64  \n",
      " 8   Target                   10000 non-null  int64  \n",
      " 9   Failure Type             10000 non-null  int64  \n",
      "dtypes: float64(3), int64(5), object(2)\n",
      "memory usage: 781.4+ KB\n"
     ]
    }
   ],
   "source": [
    "# Observing the summarized information of data\n",
    "# Data types, missing values based on number of non-null values v/s total rows etc.\n",
    "# Remove those variables from data which have too many missing values (Missing values > 30%)\n",
    "# Remove Qualitative variables which cannot be used in Machine Learning\n",
    "PredictiveMaintenance.info()"
   ]
  },
  {
   "cell_type": "code",
   "execution_count": 21,
   "id": "41733b70",
   "metadata": {},
   "outputs": [
    {
     "data": {
      "text/html": [
       "<div>\n",
       "<style scoped>\n",
       "    .dataframe tbody tr th:only-of-type {\n",
       "        vertical-align: middle;\n",
       "    }\n",
       "\n",
       "    .dataframe tbody tr th {\n",
       "        vertical-align: top;\n",
       "    }\n",
       "\n",
       "    .dataframe thead th {\n",
       "        text-align: right;\n",
       "    }\n",
       "</style>\n",
       "<table border=\"1\" class=\"dataframe\">\n",
       "  <thead>\n",
       "    <tr style=\"text-align: right;\">\n",
       "      <th></th>\n",
       "      <th>ï»¿UDI</th>\n",
       "      <th>Product ID</th>\n",
       "      <th>Type</th>\n",
       "      <th>Air temperature [K]</th>\n",
       "      <th>Process temperature [K]</th>\n",
       "      <th>Rotational speed [rpm]</th>\n",
       "      <th>Torque [Nm]</th>\n",
       "      <th>Tool wear [min]</th>\n",
       "      <th>Target</th>\n",
       "      <th>Failure Type</th>\n",
       "    </tr>\n",
       "  </thead>\n",
       "  <tbody>\n",
       "    <tr>\n",
       "      <th>count</th>\n",
       "      <td>10000.00000</td>\n",
       "      <td>10000</td>\n",
       "      <td>10000</td>\n",
       "      <td>10000.000000</td>\n",
       "      <td>10000.000000</td>\n",
       "      <td>10000.000000</td>\n",
       "      <td>10000.000000</td>\n",
       "      <td>10000.000000</td>\n",
       "      <td>10000.000000</td>\n",
       "      <td>10000.000000</td>\n",
       "    </tr>\n",
       "    <tr>\n",
       "      <th>unique</th>\n",
       "      <td>NaN</td>\n",
       "      <td>10000</td>\n",
       "      <td>3</td>\n",
       "      <td>NaN</td>\n",
       "      <td>NaN</td>\n",
       "      <td>NaN</td>\n",
       "      <td>NaN</td>\n",
       "      <td>NaN</td>\n",
       "      <td>NaN</td>\n",
       "      <td>NaN</td>\n",
       "    </tr>\n",
       "    <tr>\n",
       "      <th>top</th>\n",
       "      <td>NaN</td>\n",
       "      <td>M14860</td>\n",
       "      <td>L</td>\n",
       "      <td>NaN</td>\n",
       "      <td>NaN</td>\n",
       "      <td>NaN</td>\n",
       "      <td>NaN</td>\n",
       "      <td>NaN</td>\n",
       "      <td>NaN</td>\n",
       "      <td>NaN</td>\n",
       "    </tr>\n",
       "    <tr>\n",
       "      <th>freq</th>\n",
       "      <td>NaN</td>\n",
       "      <td>1</td>\n",
       "      <td>6000</td>\n",
       "      <td>NaN</td>\n",
       "      <td>NaN</td>\n",
       "      <td>NaN</td>\n",
       "      <td>NaN</td>\n",
       "      <td>NaN</td>\n",
       "      <td>NaN</td>\n",
       "      <td>NaN</td>\n",
       "    </tr>\n",
       "    <tr>\n",
       "      <th>mean</th>\n",
       "      <td>5000.50000</td>\n",
       "      <td>NaN</td>\n",
       "      <td>NaN</td>\n",
       "      <td>300.004930</td>\n",
       "      <td>310.005560</td>\n",
       "      <td>1538.776100</td>\n",
       "      <td>39.986910</td>\n",
       "      <td>107.951000</td>\n",
       "      <td>0.033900</td>\n",
       "      <td>0.085000</td>\n",
       "    </tr>\n",
       "    <tr>\n",
       "      <th>std</th>\n",
       "      <td>2886.89568</td>\n",
       "      <td>NaN</td>\n",
       "      <td>NaN</td>\n",
       "      <td>2.000259</td>\n",
       "      <td>1.483734</td>\n",
       "      <td>179.284096</td>\n",
       "      <td>9.968934</td>\n",
       "      <td>63.654147</td>\n",
       "      <td>0.180981</td>\n",
       "      <td>0.511861</td>\n",
       "    </tr>\n",
       "    <tr>\n",
       "      <th>min</th>\n",
       "      <td>1.00000</td>\n",
       "      <td>NaN</td>\n",
       "      <td>NaN</td>\n",
       "      <td>295.300000</td>\n",
       "      <td>305.700000</td>\n",
       "      <td>1168.000000</td>\n",
       "      <td>3.800000</td>\n",
       "      <td>0.000000</td>\n",
       "      <td>0.000000</td>\n",
       "      <td>0.000000</td>\n",
       "    </tr>\n",
       "    <tr>\n",
       "      <th>25%</th>\n",
       "      <td>2500.75000</td>\n",
       "      <td>NaN</td>\n",
       "      <td>NaN</td>\n",
       "      <td>298.300000</td>\n",
       "      <td>308.800000</td>\n",
       "      <td>1423.000000</td>\n",
       "      <td>33.200000</td>\n",
       "      <td>53.000000</td>\n",
       "      <td>0.000000</td>\n",
       "      <td>0.000000</td>\n",
       "    </tr>\n",
       "    <tr>\n",
       "      <th>50%</th>\n",
       "      <td>5000.50000</td>\n",
       "      <td>NaN</td>\n",
       "      <td>NaN</td>\n",
       "      <td>300.100000</td>\n",
       "      <td>310.100000</td>\n",
       "      <td>1503.000000</td>\n",
       "      <td>40.100000</td>\n",
       "      <td>108.000000</td>\n",
       "      <td>0.000000</td>\n",
       "      <td>0.000000</td>\n",
       "    </tr>\n",
       "    <tr>\n",
       "      <th>75%</th>\n",
       "      <td>7500.25000</td>\n",
       "      <td>NaN</td>\n",
       "      <td>NaN</td>\n",
       "      <td>301.500000</td>\n",
       "      <td>311.100000</td>\n",
       "      <td>1612.000000</td>\n",
       "      <td>46.800000</td>\n",
       "      <td>162.000000</td>\n",
       "      <td>0.000000</td>\n",
       "      <td>0.000000</td>\n",
       "    </tr>\n",
       "    <tr>\n",
       "      <th>max</th>\n",
       "      <td>10000.00000</td>\n",
       "      <td>NaN</td>\n",
       "      <td>NaN</td>\n",
       "      <td>304.500000</td>\n",
       "      <td>313.800000</td>\n",
       "      <td>2886.000000</td>\n",
       "      <td>76.600000</td>\n",
       "      <td>253.000000</td>\n",
       "      <td>1.000000</td>\n",
       "      <td>5.000000</td>\n",
       "    </tr>\n",
       "  </tbody>\n",
       "</table>\n",
       "</div>"
      ],
      "text/plain": [
       "             ï»¿UDI Product ID   Type  Air temperature [K]  \\\n",
       "count   10000.00000      10000  10000         10000.000000   \n",
       "unique          NaN      10000      3                  NaN   \n",
       "top             NaN     M14860      L                  NaN   \n",
       "freq            NaN          1   6000                  NaN   \n",
       "mean     5000.50000        NaN    NaN           300.004930   \n",
       "std      2886.89568        NaN    NaN             2.000259   \n",
       "min         1.00000        NaN    NaN           295.300000   \n",
       "25%      2500.75000        NaN    NaN           298.300000   \n",
       "50%      5000.50000        NaN    NaN           300.100000   \n",
       "75%      7500.25000        NaN    NaN           301.500000   \n",
       "max     10000.00000        NaN    NaN           304.500000   \n",
       "\n",
       "        Process temperature [K]  Rotational speed [rpm]   Torque [Nm]  \\\n",
       "count              10000.000000            10000.000000  10000.000000   \n",
       "unique                      NaN                     NaN           NaN   \n",
       "top                         NaN                     NaN           NaN   \n",
       "freq                        NaN                     NaN           NaN   \n",
       "mean                 310.005560             1538.776100     39.986910   \n",
       "std                    1.483734              179.284096      9.968934   \n",
       "min                  305.700000             1168.000000      3.800000   \n",
       "25%                  308.800000             1423.000000     33.200000   \n",
       "50%                  310.100000             1503.000000     40.100000   \n",
       "75%                  311.100000             1612.000000     46.800000   \n",
       "max                  313.800000             2886.000000     76.600000   \n",
       "\n",
       "        Tool wear [min]        Target  Failure Type  \n",
       "count      10000.000000  10000.000000  10000.000000  \n",
       "unique              NaN           NaN           NaN  \n",
       "top                 NaN           NaN           NaN  \n",
       "freq                NaN           NaN           NaN  \n",
       "mean         107.951000      0.033900      0.085000  \n",
       "std           63.654147      0.180981      0.511861  \n",
       "min            0.000000      0.000000      0.000000  \n",
       "25%           53.000000      0.000000      0.000000  \n",
       "50%          108.000000      0.000000      0.000000  \n",
       "75%          162.000000      0.000000      0.000000  \n",
       "max          253.000000      1.000000      5.000000  "
      ]
     },
     "execution_count": 21,
     "metadata": {},
     "output_type": "execute_result"
    }
   ],
   "source": [
    "# Looking at the descriptive statistics of the data\n",
    "PredictiveMaintenance.describe(include='all')"
   ]
  },
  {
   "cell_type": "code",
   "execution_count": 22,
   "id": "ea139fdf",
   "metadata": {},
   "outputs": [
    {
     "data": {
      "text/plain": [
       "ï»¿UDI                     10000\n",
       "Product ID                 10000\n",
       "Type                           3\n",
       "Air temperature [K]           93\n",
       "Process temperature [K]       82\n",
       "Rotational speed [rpm]       941\n",
       "Torque [Nm]                  577\n",
       "Tool wear [min]              246\n",
       "Target                         2\n",
       "Failure Type                   6\n",
       "dtype: int64"
      ]
     },
     "execution_count": 22,
     "metadata": {},
     "output_type": "execute_result"
    }
   ],
   "source": [
    "# Finging unique values for each column\n",
    "# To understand which column is categorical and which one is Continuous\n",
    "# Typically if the number of unique values are < 20 then the variable is likely to be a category otherwise continuous\n",
    "PredictiveMaintenance.nunique()"
   ]
  },
  {
   "cell_type": "markdown",
   "id": "7eb5037e",
   "metadata": {},
   "source": [
    "# Basic Data Exploration Results"
   ]
  },
  {
   "cell_type": "markdown",
   "id": "19e4b08c",
   "metadata": {},
   "source": [
    "Based on the basic exploration above, you can now create a simple report of the data, noting down your observations regaring each column. Hence, creating a initial roadmap for further analysis.\n",
    "\n",
    "The selected columns in this step are not final, further study will be done and then a final list will be created"
   ]
  },
  {
   "cell_type": "markdown",
   "id": "7362867c",
   "metadata": {},
   "source": [
    "* <b>ï»¿UDI</b> : Rejected\n",
    "* <b>Product ID</b> : Rejected\n",
    "*<b>Type</b> : Selected\n",
    "* <b>Air temperature [K]</b> : Selected\n",
    "* <b>Process temperature [K]</b> : Selected\n",
    "* <b>Rotational speed [rpm]</b> : Selected\n",
    "* <b>Torque [Nm]</b> : Selected\n",
    "* <b>Tool wear [min]</b> : Selected\n",
    "* <b>Target</b> : Selected. <b>Target Variable</b>\n",
    "* <b>Failure Type</b> : Selected. <b>Target Variable</b>"
   ]
  },
  {
   "cell_type": "markdown",
   "id": "3cdb0720",
   "metadata": {},
   "source": [
    "# Removing useless columns from the data"
   ]
  },
  {
   "cell_type": "code",
   "execution_count": 23,
   "id": "4a5ca082",
   "metadata": {},
   "outputs": [
    {
     "data": {
      "text/html": [
       "<div>\n",
       "<style scoped>\n",
       "    .dataframe tbody tr th:only-of-type {\n",
       "        vertical-align: middle;\n",
       "    }\n",
       "\n",
       "    .dataframe tbody tr th {\n",
       "        vertical-align: top;\n",
       "    }\n",
       "\n",
       "    .dataframe thead th {\n",
       "        text-align: right;\n",
       "    }\n",
       "</style>\n",
       "<table border=\"1\" class=\"dataframe\">\n",
       "  <thead>\n",
       "    <tr style=\"text-align: right;\">\n",
       "      <th></th>\n",
       "      <th>Type</th>\n",
       "      <th>Air temperature [K]</th>\n",
       "      <th>Process temperature [K]</th>\n",
       "      <th>Rotational speed [rpm]</th>\n",
       "      <th>Torque [Nm]</th>\n",
       "      <th>Tool wear [min]</th>\n",
       "      <th>Target</th>\n",
       "      <th>Failure Type</th>\n",
       "    </tr>\n",
       "  </thead>\n",
       "  <tbody>\n",
       "    <tr>\n",
       "      <th>0</th>\n",
       "      <td>M</td>\n",
       "      <td>298.1</td>\n",
       "      <td>308.6</td>\n",
       "      <td>1551</td>\n",
       "      <td>42.8</td>\n",
       "      <td>0</td>\n",
       "      <td>0</td>\n",
       "      <td>0</td>\n",
       "    </tr>\n",
       "    <tr>\n",
       "      <th>1</th>\n",
       "      <td>L</td>\n",
       "      <td>298.2</td>\n",
       "      <td>308.7</td>\n",
       "      <td>1408</td>\n",
       "      <td>46.3</td>\n",
       "      <td>3</td>\n",
       "      <td>0</td>\n",
       "      <td>0</td>\n",
       "    </tr>\n",
       "    <tr>\n",
       "      <th>2</th>\n",
       "      <td>L</td>\n",
       "      <td>298.1</td>\n",
       "      <td>308.5</td>\n",
       "      <td>1498</td>\n",
       "      <td>49.4</td>\n",
       "      <td>5</td>\n",
       "      <td>0</td>\n",
       "      <td>0</td>\n",
       "    </tr>\n",
       "    <tr>\n",
       "      <th>3</th>\n",
       "      <td>L</td>\n",
       "      <td>298.2</td>\n",
       "      <td>308.6</td>\n",
       "      <td>1433</td>\n",
       "      <td>39.5</td>\n",
       "      <td>7</td>\n",
       "      <td>0</td>\n",
       "      <td>0</td>\n",
       "    </tr>\n",
       "    <tr>\n",
       "      <th>4</th>\n",
       "      <td>L</td>\n",
       "      <td>298.2</td>\n",
       "      <td>308.7</td>\n",
       "      <td>1408</td>\n",
       "      <td>40.0</td>\n",
       "      <td>9</td>\n",
       "      <td>0</td>\n",
       "      <td>0</td>\n",
       "    </tr>\n",
       "  </tbody>\n",
       "</table>\n",
       "</div>"
      ],
      "text/plain": [
       "  Type  Air temperature [K]  Process temperature [K]  Rotational speed [rpm]  \\\n",
       "0    M                298.1                    308.6                    1551   \n",
       "1    L                298.2                    308.7                    1408   \n",
       "2    L                298.1                    308.5                    1498   \n",
       "3    L                298.2                    308.6                    1433   \n",
       "4    L                298.2                    308.7                    1408   \n",
       "\n",
       "   Torque [Nm]  Tool wear [min]  Target  Failure Type  \n",
       "0         42.8                0       0             0  \n",
       "1         46.3                3       0             0  \n",
       "2         49.4                5       0             0  \n",
       "3         39.5                7       0             0  \n",
       "4         40.0                9       0             0  "
      ]
     },
     "execution_count": 23,
     "metadata": {},
     "output_type": "execute_result"
    }
   ],
   "source": [
    "# Deleting those columns which are not useful in predictive analysis because theses variables are qualitative\n",
    "UselessColumns = ['ï»¿UDI','Product ID']\n",
    "PredictiveMaintenance = PredictiveMaintenance.drop(UselessColumns, axis=1)\n",
    "PredictiveMaintenance.head()"
   ]
  },
  {
   "cell_type": "code",
   "execution_count": null,
   "id": "9b767106",
   "metadata": {},
   "outputs": [],
   "source": []
  },
  {
   "cell_type": "code",
   "execution_count": null,
   "id": "8c6f4863",
   "metadata": {},
   "outputs": [],
   "source": []
  },
  {
   "cell_type": "markdown",
   "id": "36288165",
   "metadata": {},
   "source": [
    "# Visual Exploratory Data Analysis"
   ]
  },
  {
   "cell_type": "markdown",
   "id": "593605a9",
   "metadata": {},
   "source": [
    "* Categorical variables: Bar plot\n",
    "* Continuous variables: Histogram"
   ]
  },
  {
   "cell_type": "markdown",
   "id": "9f9d8668",
   "metadata": {},
   "source": [
    "### Visualize distribution of all the Categorical Predictor variables in the data using bar plots\n",
    "We can spot a categorical variable in the data by looking at the unique values in them. Typically a categorical variable contains less than 20 Unique values AND there is repetition of values, which means the data can be grouped by those unique values.\n",
    "\n",
    "Based on the Basic Data Exploration above, we have spotted five categorical predictors in the data\n",
    "\n",
    "Categorical Predictors: 'Type', 'Target', 'Failure Type'\n",
    "\n",
    "We use bar charts to see how the data is distributed for these categorical columns."
   ]
  },
  {
   "cell_type": "code",
   "execution_count": 24,
   "id": "b9a6b78d",
   "metadata": {},
   "outputs": [],
   "source": [
    "# Plotting multiple bar charts at once for categorical variables\n",
    "# Since there is no default function which can plot bar charts for multiple columns at once\n",
    "# We are defining our own function for the same\n",
    "\n",
    "def PlotBarCharts(inpData, colsToPlot):\n",
    "    %matplotlib inline\n",
    "    \n",
    "    import matplotlib.pyplot as plt\n",
    "    \n",
    "    # Generating multiple subplots\n",
    "    fig, subPlot=plt.subplots(nrows=1, ncols=len(colsToPlot), figsize=(20,5))\n",
    "    fig.suptitle('Bar charts of: '+ str(colsToPlot))\n",
    "    \n",
    "    for colName, plotNumber in zip(colsToPlot, range(len(colsToPlot))):\n",
    "        inpData.groupby(colName).size().plot(kind='bar', ax=subPlot[plotNumber])"
   ]
  },
  {
   "cell_type": "code",
   "execution_count": 25,
   "id": "4bcdda09",
   "metadata": {},
   "outputs": [
    {
     "data": {
      "image/png": "[encoded data removed]",
      "text/plain": [
       "<Figure size 2000x500 with 3 Axes>"
      ]
     },
     "metadata": {},
     "output_type": "display_data"
    }
   ],
   "source": [
    "########################################################################\n",
    "# Calling the function\n",
    "PlotBarCharts(inpData=PredictiveMaintenance, colsToPlot=['Type', 'Target', 'Failure Type'])"
   ]
  },
  {
   "cell_type": "markdown",
   "id": "23ff2547",
   "metadata": {},
   "source": [
    "## Bar Charts Interpretation\n",
    "These bar charts represent the frequencies of each category in the Y-axis and the category names in the X-axis.\n",
    "\n",
    "In the ideal bar chart each category has comparable frequency. Hence, there are enough rows for each category in the data for the ML algorithm to learn.\n",
    "\n",
    "If there is a column which shows too skewed distribution where there is only one dominant bar and the other categories are present in very low numbers. These kind of columns may not be very helpful in machine learning. We confirm this in the correlation analysis section and take a final call to select or reject the column.\n",
    "\n",
    "In this data, all the categorical columns except have satisfactory distribution to be considered for machine learning.\n",
    "\n",
    "<b>Selected Categorical Variables</b>: All the categorical variables are selected for further analysis.\n",
    "\n",
    "'Type', 'Target', 'Failure Type'"
   ]
  },
  {
   "cell_type": "markdown",
   "id": "4befc87f",
   "metadata": {},
   "source": [
    "### Visualize distribution of all the Continuous Predictor variables in the data using histograms\n",
    "Based on the Basic Data Exploration, there are two continuous predictor variables 'Air temperature [K]','Process temperature [K]',\n",
    "'Rotational speed [rpm]', 'Torque [Nm]' and 'Tool wear [min]'"
   ]
  },
  {
   "cell_type": "markdown",
   "id": "3d68331e",
   "metadata": {},
   "source": [
    "### Plotting histograms of multiple columns together\n",
    "Observe that Air temperature [K], Process temperature [K], Rotational speed [rpm], Torque [Nm] and Tool wear [min] has outliers"
   ]
  },
  {
   "cell_type": "code",
   "execution_count": 26,
   "id": "a20e1f48",
   "metadata": {},
   "outputs": [
    {
     "data": {
      "text/plain": [
       "array([[<Axes: title={'center': 'Air temperature [K]'}>,\n",
       "        <Axes: title={'center': 'Process temperature [K]'}>],\n",
       "       [<Axes: title={'center': 'Rotational speed [rpm]'}>,\n",
       "        <Axes: title={'center': 'Torque [Nm]'}>],\n",
       "       [<Axes: title={'center': 'Tool wear [min]'}>, <Axes: >]],\n",
       "      dtype=object)"
      ]
     },
     "execution_count": 26,
     "metadata": {},
     "output_type": "execute_result"
    },
    {
     "data": {
      "image/png": "[encoded data removed]",
      "text/plain": [
       "<Figure size 3000x500 with 6 Axes>"
      ]
     },
     "metadata": {},
     "output_type": "display_data"
    }
   ],
   "source": [
    "PredictiveMaintenance.hist(['Air temperature [K]', 'Process temperature [K]', 'Rotational speed [rpm]', 'Torque [Nm]', 'Tool wear [min]'], figsize=(30,5))"
   ]
  },
  {
   "cell_type": "markdown",
   "id": "bf4f19d9",
   "metadata": {},
   "source": [
    "## Histogram Interpretation\n",
    "Histograms shows us the data distribution for a single continuous variable.\n",
    "\n",
    "The X-axis shows the range of values and Y-axis represent the number of values in that range. For example, in the above histogram of \"Age\", there are around 175 rows in data that has a age between 20 to 30.\n",
    "\n",
    "The ideal outcome for histogram is a bell curve or slightly skewed bell curve. If there is too much skewness, then outlier treatment should be done and the column should be re-examined, if that also does not solve the problem then only reject the column.\n",
    "\n",
    "<b>Selected Continuous Variables:</b>\n",
    "* <b>Air temperature [K]</b> : Selected. The distribution is good.\n",
    "* <b>Process temperature [K]</b>: Selected. The distribution is good.\n",
    "* <b>Rotational speed [rpm]</b> : Selected. Outliers seen beyond 2500, need to treat them.\n",
    "* <b>Torque [Nm]</b> : Selected. The distribution is good. Outliers seen beyond 70 and before 11, need to treat them\n",
    "* <b>Tool wear [min]</b> : Selected. The distribution is good."
   ]
  },
  {
   "cell_type": "markdown",
   "id": "bd4794cb",
   "metadata": {},
   "source": [
    "# Outlier treatment\n",
    "Outliers are extreme values in the data which are far away from most of the values. You can see them as the tails in the histogram.\n",
    "\n",
    "Outlier must be treated one column at a time. As the treatment will be slightly different for each column.\n",
    "\n",
    "<b>Why I should treat the outliers?</b>\n",
    "\n",
    "Outliers bias the training of machine learning models. As the algorithm tries to fit the extreme value, it goes away from majority of the data.\n",
    "\n",
    "There are below two options to treat outliers in the data. "
   ]
  },
  {
   "cell_type": "markdown",
   "id": "a6e94bc5",
   "metadata": {},
   "source": [
    "* Option-1: Delete the outlier Records. Only if there are just few rows lost.\n",
    "* Option-2: Impute the outlier values with a logical business value\n",
    "\n",
    "Below we are finding out the most logical value to be replaced in place of outliers by looking at the histogram."
   ]
  },
  {
   "cell_type": "markdown",
   "id": "c01240d6",
   "metadata": {},
   "source": [
    "### Replacing outliers for 'Rotational speed [rpm]'"
   ]
  },
  {
   "cell_type": "code",
   "execution_count": 27,
   "id": "06b892d4",
   "metadata": {},
   "outputs": [
    {
     "data": {
      "text/plain": [
       "1784    2886\n",
       "463     2874\n",
       "50      2861\n",
       "847     2833\n",
       "4296    2825\n",
       "3369    2760\n",
       "1391    2737\n",
       "1095    2721\n",
       "7997    2710\n",
       "3867    2709\n",
       "5334    2706\n",
       "4302    2695\n",
       "4048    2691\n",
       "194     2678\n",
       "4419    2676\n",
       "3579    2672\n",
       "4762    2663\n",
       "4997    2659\n",
       "5152    2643\n",
       "3457    2639\n",
       "6799    2636\n",
       "9939    2636\n",
       "7011    2633\n",
       "8398    2617\n",
       "6502    2595\n",
       "7536    2579\n",
       "1808    2567\n",
       "380     2564\n",
       "3140    2563\n",
       "2233    2549\n",
       "1209    2540\n",
       "7086    2514\n",
       "Name: Rotational speed [rpm], dtype: int64"
      ]
     },
     "execution_count": 27,
     "metadata": {},
     "output_type": "execute_result"
    }
   ],
   "source": [
    "# Finding nearest values to 2250 mark\n",
    "PredictiveMaintenance['Rotational speed [rpm]'][PredictiveMaintenance['Rotational speed [rpm]']>2500].sort_values(ascending=False)"
   ]
  },
  {
   "cell_type": "markdown",
   "id": "7f2f1597",
   "metadata": {},
   "source": [
    "Above result shows the nearest logical value is 2700, hence, replacing any value above 2500 with it."
   ]
  },
  {
   "cell_type": "code",
   "execution_count": 28,
   "id": "4beb351c",
   "metadata": {},
   "outputs": [],
   "source": [
    "# Replacing outliers with the nearest possible value\n",
    "PredictiveMaintenance['Rotational speed [rpm]'][PredictiveMaintenance['Rotational speed [rpm]']>2500] = 2700"
   ]
  },
  {
   "cell_type": "markdown",
   "id": "72238e7d",
   "metadata": {},
   "source": [
    "### Replacing outliers for 'Torque [Nm]"
   ]
  },
  {
   "cell_type": "code",
   "execution_count": 29,
   "id": "ef1d2382",
   "metadata": {},
   "outputs": [
    {
     "data": {
      "text/plain": [
       "4419    10.8\n",
       "194     10.7\n",
       "5334     9.8\n",
       "3867     9.7\n",
       "7997     9.7\n",
       "1095     9.3\n",
       "1391     8.8\n",
       "3369     8.0\n",
       "4296     5.8\n",
       "847      5.6\n",
       "50       4.6\n",
       "463      4.2\n",
       "1784     3.8\n",
       "Name: Torque [Nm], dtype: float64"
      ]
     },
     "execution_count": 29,
     "metadata": {},
     "output_type": "execute_result"
    }
   ],
   "source": [
    "PredictiveMaintenance['Torque [Nm]'][PredictiveMaintenance['Torque [Nm]']<11].sort_values(ascending=False)"
   ]
  },
  {
   "cell_type": "code",
   "execution_count": 30,
   "id": "455b84d3",
   "metadata": {},
   "outputs": [],
   "source": [
    "PredictiveMaintenance['Torque [Nm]'][PredictiveMaintenance['Torque [Nm]']<11] = 7"
   ]
  },
  {
   "cell_type": "code",
   "execution_count": 31,
   "id": "9d1841ab",
   "metadata": {},
   "outputs": [
    {
     "data": {
      "text/plain": [
       "7763    76.6\n",
       "880     76.2\n",
       "9084    75.4\n",
       "1324    74.5\n",
       "6525    73.6\n",
       "3000    72.8\n",
       "8582    72.0\n",
       "7569    71.8\n",
       "603     71.6\n",
       "5615    71.3\n",
       "4936    70.6\n",
       "5394    70.5\n",
       "5706    70.0\n",
       "6612    70.0\n",
       "8307    69.7\n",
       "7280    69.6\n",
       "4920    69.4\n",
       "2125    69.4\n",
       "1496    69.4\n",
       "1144    69.1\n",
       "Name: Torque [Nm], dtype: float64"
      ]
     },
     "execution_count": 31,
     "metadata": {},
     "output_type": "execute_result"
    }
   ],
   "source": [
    "PredictiveMaintenance['Torque [Nm]'][PredictiveMaintenance['Torque [Nm]']>69].sort_values(ascending=False)"
   ]
  },
  {
   "cell_type": "code",
   "execution_count": 32,
   "id": "3d8bedf3",
   "metadata": {},
   "outputs": [],
   "source": [
    "PredictiveMaintenance['Torque [Nm]'][PredictiveMaintenance['Torque [Nm]']>69] = 72"
   ]
  },
  {
   "cell_type": "markdown",
   "id": "ea9e6efa",
   "metadata": {},
   "source": [
    "# Visualizing distribution after outlier treatment\n",
    "The distribution has improved after the outlier treatment. There is still a tail but it is thick, that means there are many values in that range, hence, it is acceptable."
   ]
  },
  {
   "cell_type": "code",
   "execution_count": 33,
   "id": "c4ad7c07",
   "metadata": {},
   "outputs": [
    {
     "data": {
      "text/plain": [
       "array([[<Axes: title={'center': 'Rotational speed [rpm]'}>,\n",
       "        <Axes: title={'center': 'Torque [Nm]'}>]], dtype=object)"
      ]
     },
     "execution_count": 33,
     "metadata": {},
     "output_type": "execute_result"
    },
    {
     "data": {
      "image/png": "[encoded data removed]",
      "text/plain": [
       "<Figure size 1800x500 with 2 Axes>"
      ]
     },
     "metadata": {},
     "output_type": "display_data"
    }
   ],
   "source": [
    "PredictiveMaintenance.hist(['Rotational speed [rpm]', 'Torque [Nm]'], figsize=(18,5))"
   ]
  },
  {
   "cell_type": "markdown",
   "id": "8b752934",
   "metadata": {},
   "source": [
    "# Missing values treatment\n",
    "Missing values are treated for each column separately.\n",
    "\n",
    "If a column has more than 30% data missing, then missing value treatment cannot be done. That column must be rejected because too much information is missing.\n",
    "\n",
    "There are below options for treating missing values in data.\n",
    "\n",
    "* Delete the missing value rows if there are only few records\n",
    "* Impute the missing values with MEDIAN value for continuous variables\n",
    "* Impute the missing values with MODE value for categorical variables\n",
    "* Interpolate the values based on nearby values\n",
    "* Interpolate the values based on business logic"
   ]
  },
  {
   "cell_type": "code",
   "execution_count": 34,
   "id": "33e69112",
   "metadata": {},
   "outputs": [
    {
     "data": {
      "text/plain": [
       "Type                       0\n",
       "Air temperature [K]        0\n",
       "Process temperature [K]    0\n",
       "Rotational speed [rpm]     0\n",
       "Torque [Nm]                0\n",
       "Tool wear [min]            0\n",
       "Target                     0\n",
       "Failure Type               0\n",
       "dtype: int64"
      ]
     },
     "execution_count": 34,
     "metadata": {},
     "output_type": "execute_result"
    }
   ],
   "source": [
    "# Finding how many missing valus are there for each column\n",
    "PredictiveMaintenance.isnull().sum()"
   ]
  },
  {
   "cell_type": "code",
   "execution_count": 35,
   "id": "7c8c96d8",
   "metadata": {},
   "outputs": [],
   "source": [
    "# Create additional features here\n",
    "# Feature engineering step like taking log/sqrt of variables"
   ]
  },
  {
   "cell_type": "markdown",
   "id": "2db769d3",
   "metadata": {},
   "source": [
    "### Feature Selection"
   ]
  },
  {
   "cell_type": "markdown",
   "id": "53eda7db",
   "metadata": {},
   "source": [
    "Now its time to finally choose the best columns (Features) which are correlated to the Target variable. This can be done directly measuring the correlation values or ANOVA/Chi-Square tests.\n",
    "However, it is always helpful to visualize the relation between the Target variable and each of the predictors to get a better sense of data.\n",
    "\n",
    "I have listed below the techniques used for visualizing relationship between two variables as well as measuring the strength statistically"
   ]
  },
  {
   "cell_type": "markdown",
   "id": "e1968dfc",
   "metadata": {},
   "source": [
    "### Visual exploration of relationship between variables\n",
    "* Continuous Vs Continuous ---- Scatter Plot\n",
    "* Categorical Vs Continuous---- Box Plot\n",
    "* Categorical Vs Categorical---- Grouped Bar Plots\n",
    "\n",
    "## Statistical measurement of relationship strength between variables\n",
    "* Continuous Vs Continuous ---- Correlation matrix\n",
    "* Categorical Vs Continuous---- ANOVA test\n",
    "* Categorical Vs Categorical--- Chi-Square test\n"
   ]
  },
  {
   "cell_type": "markdown",
   "id": "00b65129",
   "metadata": {},
   "source": [
    "In this case study the Target variable is categorical, hence below two scenarios will be present\n",
    "* Categorical Target Variable Vs Continuous Predictor\n",
    "* Categorical Target Variable Vs Categorical Predictor"
   ]
  },
  {
   "cell_type": "markdown",
   "id": "7e9ac720",
   "metadata": {},
   "source": [
    "# Relationship exploration: Categorical Vs Continuous -- Box Plots\n",
    "When the target variable is Categorical and the predictor variable is Continuous we analyze the relation using bar plots/Boxplots and measure the strength of relation using Anova test"
   ]
  },
  {
   "cell_type": "code",
   "execution_count": 36,
   "id": "4cd2a587",
   "metadata": {},
   "outputs": [
    {
     "data": {
      "image/png": "[encoded data removed]",
      "text/plain": [
       "<Figure size 1800x500 with 5 Axes>"
      ]
     },
     "metadata": {},
     "output_type": "display_data"
    }
   ],
   "source": [
    "# Box plots for Categorical Target Variable \"Failure Type\" and continuous predictors\n",
    "ContinuousColsList=['Air temperature [K]', 'Process temperature [K]', 'Rotational speed [rpm]', 'Torque [Nm]', 'Tool wear [min]']\n",
    "\n",
    "import matplotlib.pyplot as plt\n",
    "fig, PlotCanvas=plt.subplots(nrows=1, ncols=len(ContinuousColsList), figsize=(18,5))\n",
    "\n",
    "# Creating box plots for each continuous predictor against the Target variable \"Failure Type\"\n",
    "for PredictorCol, i in zip(ContinuousColsList, range(len(ContinuousColsList))):\n",
    "    PredictiveMaintenance.boxplot(column=PredictorCol, by='Failure Type', figsize=(5,5), vert=True, ax=PlotCanvas[i])"
   ]
  },
  {
   "cell_type": "markdown",
   "id": "20ce53ac",
   "metadata": {},
   "source": [
    "# Box-Plots interpretation\n",
    "<b>What should you look for in these box plots? </b>\n",
    "\n",
    "These plots gives an idea about the data distribution of continuous predictor in the Y-axis for each of the category in the X-Axis.\n",
    "\n",
    "If the distribution looks similar for each category(Boxes are in the same line), that means the continuous variable has No effect on the target variable. Hence, the variables are not correlated to each other.\n",
    "\n",
    "For example, look at the first chart \"Air temperature [K]\" Vs \"Failure Type\". The boxes are not in the same line!\n",
    "\n",
    "The other charts also exhibit opposite characteristics. Means the data distribution is different(the boxes are not in same line!) for each category of survival. It hints that these variables might be correlated with Survived.\n",
    "\n",
    "We confirm this by looking at the results of ANOVA test below"
   ]
  },
  {
   "cell_type": "code",
   "execution_count": null,
   "id": "54d7ee6f",
   "metadata": {},
   "outputs": [],
   "source": []
  },
  {
   "cell_type": "markdown",
   "id": "27201fad",
   "metadata": {},
   "source": [
    "# Statistical Feature Selection (Categorical Vs Continuous) using ANOVA test\n",
    "Analysis of variance(ANOVA) is performed to check if there is any relationship between the given continuous and categorical variable\n",
    "* Assumption(H0): There is NO relation between the given variables (i.e. The average(mean) values of the numeric Predictor variable is same for all the groups in the categorical Target variable)\n",
    "* ANOVA Test result: Probability of H0 being true"
   ]
  },
  {
   "cell_type": "code",
   "execution_count": 37,
   "id": "6ccf0d67",
   "metadata": {},
   "outputs": [],
   "source": [
    "# Defining a function to find the statistical relationship with all the categorical variables\n",
    "def FunctionAnova(inpData, TargetVariable, ContinuousPredictorList):\n",
    "    from scipy.stats import f_oneway\n",
    "    \n",
    "    # Creating an empty list of final selected predictors\n",
    "    SelectedPredictors=[]\n",
    "    \n",
    "    print('###### ANOVA Results ##### \\n')\n",
    "    for predictor in ContinuousPredictorList:\n",
    "        CategoryGroupLists=inpData.groupby(TargetVariable)[predictor].apply(list)\n",
    "        AnovaResults = f_oneway(*CategoryGroupLists)\n",
    "        \n",
    "        # If the ANOVA P-value is <0.05, that means we reject H0\n",
    "        if (AnovaResults[1] < 0.05):\n",
    "            print(predictor, 'is correlated with', TargetVariable, '| P-Value:', AnovaResults[1])\n",
    "            SelectedPredictors.append(predictor)\n",
    "        else:\n",
    "            print(predictor, 'is NOT correlated with', TargetVariable, '| P-Value', AnovaResults[1])\n",
    "            \n",
    "    return(SelectedPredictors)"
   ]
  },
  {
   "cell_type": "code",
   "execution_count": 38,
   "id": "250b18cd",
   "metadata": {},
   "outputs": [
    {
     "name": "stdout",
     "output_type": "stream",
     "text": [
      "###### ANOVA Results ##### \n",
      "\n",
      "Air temperature [K] is correlated with Failure Type | P-Value: 1.3724531006331406e-39\n",
      "Process temperature [K] is correlated with Failure Type | P-Value: 3.8651520600774773e-07\n",
      "Rotational speed [rpm] is correlated with Failure Type | P-Value: 5.727984238794866e-81\n",
      "Torque [Nm] is correlated with Failure Type | P-Value: 1.9334490951226976e-107\n",
      "Tool wear [min] is correlated with Failure Type | P-Value: 2.508386406398055e-70\n"
     ]
    },
    {
     "data": {
      "text/plain": [
       "['Air temperature [K]',\n",
       " 'Process temperature [K]',\n",
       " 'Rotational speed [rpm]',\n",
       " 'Torque [Nm]',\n",
       " 'Tool wear [min]']"
      ]
     },
     "execution_count": 38,
     "metadata": {},
     "output_type": "execute_result"
    }
   ],
   "source": [
    "# Calling the function to check which categorical variables are correlated with target\n",
    "ContinuousVariables=['Air temperature [K]', 'Process temperature [K]', 'Rotational speed [rpm]', 'Torque [Nm]', 'Tool wear [min]']\n",
    "FunctionAnova(inpData=PredictiveMaintenance, TargetVariable='Failure Type', ContinuousPredictorList=ContinuousVariables)"
   ]
  },
  {
   "cell_type": "markdown",
   "id": "0cce10ec",
   "metadata": {},
   "source": [
    "The results of ANOVA confirm our visual analysis using box plots above.\n",
    "\n",
    "Look at the P-Value of all the variables, these helps to increase the accuracy.\n",
    "\n",
    "<b>Final selected Continuous columns:</b>\n",
    "\n",
    "'Air temperature [K]', 'Process temperature [K]', 'Rotational speed [rpm]', 'Torque [Nm]', 'Tool wear [min]'"
   ]
  },
  {
   "cell_type": "code",
   "execution_count": null,
   "id": "034dfcbf",
   "metadata": {},
   "outputs": [],
   "source": []
  },
  {
   "cell_type": "markdown",
   "id": "740144b1",
   "metadata": {},
   "source": [
    "# Relationship exploration: Categorical Vs Categorical -- Grouped Bar Charts\n",
    "When the target variable is Categorical and the predictor is also Categorical then we explore the correlation between them  visually using barplots and statistically using Chi-square test"
   ]
  },
  {
   "cell_type": "code",
   "execution_count": 40,
   "id": "caa2d0e9",
   "metadata": {},
   "outputs": [
    {
     "data": {
      "text/html": [
       "<div>\n",
       "<style scoped>\n",
       "    .dataframe tbody tr th:only-of-type {\n",
       "        vertical-align: middle;\n",
       "    }\n",
       "\n",
       "    .dataframe tbody tr th {\n",
       "        vertical-align: top;\n",
       "    }\n",
       "\n",
       "    .dataframe thead th {\n",
       "        text-align: right;\n",
       "    }\n",
       "</style>\n",
       "<table border=\"1\" class=\"dataframe\">\n",
       "  <thead>\n",
       "    <tr style=\"text-align: right;\">\n",
       "      <th>Failure Type</th>\n",
       "      <th>0</th>\n",
       "      <th>1</th>\n",
       "      <th>2</th>\n",
       "      <th>3</th>\n",
       "      <th>4</th>\n",
       "      <th>5</th>\n",
       "    </tr>\n",
       "    <tr>\n",
       "      <th>Type</th>\n",
       "      <th></th>\n",
       "      <th></th>\n",
       "      <th></th>\n",
       "      <th></th>\n",
       "      <th></th>\n",
       "      <th></th>\n",
       "    </tr>\n",
       "  </thead>\n",
       "  <tbody>\n",
       "    <tr>\n",
       "      <th>H</th>\n",
       "      <td>979</td>\n",
       "      <td>8</td>\n",
       "      <td>1</td>\n",
       "      <td>5</td>\n",
       "      <td>4</td>\n",
       "      <td>6</td>\n",
       "    </tr>\n",
       "    <tr>\n",
       "      <th>L</th>\n",
       "      <td>5757</td>\n",
       "      <td>74</td>\n",
       "      <td>73</td>\n",
       "      <td>59</td>\n",
       "      <td>12</td>\n",
       "      <td>25</td>\n",
       "    </tr>\n",
       "    <tr>\n",
       "      <th>M</th>\n",
       "      <td>2916</td>\n",
       "      <td>30</td>\n",
       "      <td>4</td>\n",
       "      <td>31</td>\n",
       "      <td>2</td>\n",
       "      <td>14</td>\n",
       "    </tr>\n",
       "  </tbody>\n",
       "</table>\n",
       "</div>"
      ],
      "text/plain": [
       "Failure Type     0   1   2   3   4   5\n",
       "Type                                  \n",
       "H              979   8   1   5   4   6\n",
       "L             5757  74  73  59  12  25\n",
       "M             2916  30   4  31   2  14"
      ]
     },
     "execution_count": 40,
     "metadata": {},
     "output_type": "execute_result"
    }
   ],
   "source": [
    "# Cross tabulation between two categorical variables\n",
    "CrossTabResult=pd.crosstab(index=PredictiveMaintenance['Type'], columns=PredictiveMaintenance['Failure Type'])\n",
    "CrossTabResult"
   ]
  },
  {
   "cell_type": "code",
   "execution_count": 41,
   "id": "1c6d61a0",
   "metadata": {},
   "outputs": [
    {
     "data": {
      "image/png": "[encoded data removed]",
      "text/plain": [
       "<Figure size 1000x1000 with 2 Axes>"
      ]
     },
     "metadata": {},
     "output_type": "display_data"
    }
   ],
   "source": [
    "# Visual Inference using Grouped Bar charts\n",
    "CategoricalColsList=['Type', 'Target']\n",
    "\n",
    "import matplotlib.pyplot as plt\n",
    "fig, PlotCanvas=plt.subplots(nrows=len(CategoricalColsList), ncols=1, figsize=(10,10))\n",
    "\n",
    "# Creating Grouped bar plots for each categorical predictor against the Target Variable \"Failure Type\"\n",
    "for CategoricalCol , i in zip(CategoricalColsList, range(len(CategoricalColsList))):\n",
    "    CrossTabResult=pd.crosstab(index=PredictiveMaintenance[CategoricalCol], columns=PredictiveMaintenance['Failure Type'])\n",
    "    CrossTabResult.plot.bar(color=['red', 'green'], ax=PlotCanvas[i], title=CategoricalCol+'v/s'+'Failure Type')"
   ]
  },
  {
   "cell_type": "markdown",
   "id": "9c7eb58d",
   "metadata": {},
   "source": [
    "# Grouped Bar charts Interpretation\n",
    "<b>What to look for in these grouped bar charts?</b>\n",
    "\n",
    "These grouped bar charts show the frequency in the Y-Axis and the category in the X-Axis. \n",
    "Column 'Target' is not take into account.\n",
    "\n",
    "We confirm this analysis in below section by using Chi-Square Tests."
   ]
  },
  {
   "cell_type": "markdown",
   "id": "3918d975",
   "metadata": {},
   "source": [
    "### Statistical Feature Selection (Categorical Vs Categorical) using Chi-Square Test\n",
    "\n",
    "Chi-Square test is conducted to check the correlation between two categorical variables\n",
    "\n",
    "* Assumption(H0): The two columns are NOT related to each other\n",
    "* Result of Chi-Sq Test: The Probability of H0 being True"
   ]
  },
  {
   "cell_type": "code",
   "execution_count": 42,
   "id": "03bb7527",
   "metadata": {},
   "outputs": [],
   "source": [
    "# Writing a function to find the correlation of all categorical variables with the Target variable\n",
    "def FunctionChisq(inpData, TargetVariable, CategoricalVariablesList):\n",
    "    from scipy.stats import chi2_contingency\n",
    "    \n",
    "    # Creating an empty list of final selected predictors\n",
    "    SelectedPredictors=[]\n",
    "    \n",
    "    for predictor in CategoricalVariablesList:\n",
    "        CrossTabResult=pd.crosstab(index=inpData[TargetVariable], columns=inpData[predictor])\n",
    "        ChiSqResult = chi2_contingency(CrossTabResult)\n",
    "        \n",
    "        # If the ChiSq P-value is <0.05, that means we reject H0\n",
    "        if (ChiSqResult[1] < 0.05):\n",
    "            print(predictor, 'is correlated with', TargetVariable, '| P-Value:', ChiSqResult[1])\n",
    "            SelectedPredictors.append(predictor)\n",
    "        else:\n",
    "            print(predictor, 'is NOT correlated with', TargetVariable, '| P-Value:', ChiSqResult[1])\n",
    "            \n",
    "    return(SelectedPredictors)"
   ]
  },
  {
   "cell_type": "code",
   "execution_count": 43,
   "id": "b44a4b41",
   "metadata": {},
   "outputs": [
    {
     "name": "stdout",
     "output_type": "stream",
     "text": [
      "Type is correlated with Failure Type | P-Value: 8.570442384573702e-07\n",
      "Target is correlated with Failure Type | P-Value: 0.0\n"
     ]
    },
    {
     "data": {
      "text/plain": [
       "['Type', 'Target']"
      ]
     },
     "execution_count": 43,
     "metadata": {},
     "output_type": "execute_result"
    }
   ],
   "source": [
    "CategoricalVariables=['Type','Target']\n",
    "\n",
    "# Calling the function\n",
    "FunctionChisq(inpData=PredictiveMaintenance, \n",
    "              TargetVariable='Failure Type',\n",
    "              CategoricalVariablesList= CategoricalVariables)"
   ]
  },
  {
   "cell_type": "markdown",
   "id": "22ffd28d",
   "metadata": {},
   "source": [
    "# Selecting final predictors for Machine Learning\n",
    "Based on the above tests, selecting the final columns for machine learning"
   ]
  },
  {
   "cell_type": "code",
   "execution_count": 44,
   "id": "893dcbef",
   "metadata": {},
   "outputs": [
    {
     "data": {
      "text/html": [
       "<div>\n",
       "<style scoped>\n",
       "    .dataframe tbody tr th:only-of-type {\n",
       "        vertical-align: middle;\n",
       "    }\n",
       "\n",
       "    .dataframe tbody tr th {\n",
       "        vertical-align: top;\n",
       "    }\n",
       "\n",
       "    .dataframe thead th {\n",
       "        text-align: right;\n",
       "    }\n",
       "</style>\n",
       "<table border=\"1\" class=\"dataframe\">\n",
       "  <thead>\n",
       "    <tr style=\"text-align: right;\">\n",
       "      <th></th>\n",
       "      <th>Type</th>\n",
       "      <th>Air temperature [K]</th>\n",
       "      <th>Process temperature [K]</th>\n",
       "      <th>Rotational speed [rpm]</th>\n",
       "      <th>Torque [Nm]</th>\n",
       "      <th>Tool wear [min]</th>\n",
       "    </tr>\n",
       "  </thead>\n",
       "  <tbody>\n",
       "    <tr>\n",
       "      <th>0</th>\n",
       "      <td>M</td>\n",
       "      <td>298.1</td>\n",
       "      <td>308.6</td>\n",
       "      <td>1551</td>\n",
       "      <td>42.8</td>\n",
       "      <td>0</td>\n",
       "    </tr>\n",
       "    <tr>\n",
       "      <th>1</th>\n",
       "      <td>L</td>\n",
       "      <td>298.2</td>\n",
       "      <td>308.7</td>\n",
       "      <td>1408</td>\n",
       "      <td>46.3</td>\n",
       "      <td>3</td>\n",
       "    </tr>\n",
       "    <tr>\n",
       "      <th>2</th>\n",
       "      <td>L</td>\n",
       "      <td>298.1</td>\n",
       "      <td>308.5</td>\n",
       "      <td>1498</td>\n",
       "      <td>49.4</td>\n",
       "      <td>5</td>\n",
       "    </tr>\n",
       "    <tr>\n",
       "      <th>3</th>\n",
       "      <td>L</td>\n",
       "      <td>298.2</td>\n",
       "      <td>308.6</td>\n",
       "      <td>1433</td>\n",
       "      <td>39.5</td>\n",
       "      <td>7</td>\n",
       "    </tr>\n",
       "    <tr>\n",
       "      <th>4</th>\n",
       "      <td>L</td>\n",
       "      <td>298.2</td>\n",
       "      <td>308.7</td>\n",
       "      <td>1408</td>\n",
       "      <td>40.0</td>\n",
       "      <td>9</td>\n",
       "    </tr>\n",
       "  </tbody>\n",
       "</table>\n",
       "</div>"
      ],
      "text/plain": [
       "  Type  Air temperature [K]  Process temperature [K]  Rotational speed [rpm]  \\\n",
       "0    M                298.1                    308.6                    1551   \n",
       "1    L                298.2                    308.7                    1408   \n",
       "2    L                298.1                    308.5                    1498   \n",
       "3    L                298.2                    308.6                    1433   \n",
       "4    L                298.2                    308.7                    1408   \n",
       "\n",
       "   Torque [Nm]  Tool wear [min]  \n",
       "0         42.8                0  \n",
       "1         46.3                3  \n",
       "2         49.4                5  \n",
       "3         39.5                7  \n",
       "4         40.0                9  "
      ]
     },
     "execution_count": 44,
     "metadata": {},
     "output_type": "execute_result"
    }
   ],
   "source": [
    "SelectedColumns=['Type', 'Air temperature [K]', 'Process temperature [K]', 'Rotational speed [rpm]', 'Torque [Nm]', 'Tool wear [min]']\n",
    "\n",
    "# Selecting final columns\n",
    "DataForML=PredictiveMaintenance[SelectedColumns]\n",
    "DataForML.head()"
   ]
  },
  {
   "cell_type": "code",
   "execution_count": null,
   "id": "f5b79bf0",
   "metadata": {},
   "outputs": [],
   "source": []
  },
  {
   "cell_type": "code",
   "execution_count": 45,
   "id": "8d6124ef",
   "metadata": {},
   "outputs": [],
   "source": [
    "# Saving this final data for reference during deployment\n",
    "DataForML.to_pickle('DataForML.pkl')"
   ]
  },
  {
   "cell_type": "markdown",
   "id": "9a34030c",
   "metadata": {},
   "source": [
    "## Data Pre-processing for Machine Learning\n",
    "List of steps performed on predictor variables before data can be used for machine learning\n",
    "1. Converting each Ordinal Categorical columns to numeric\n",
    "2. Converting Binary nominal Categorical columns to numeric using 1/0 mapping\n",
    "3. Converting all other nominal categorical columns to numeric using pd.get_dummies()\n",
    "4. Data Transformation (Optional): Standardization/Normalization/log/sqrt. Important if you are using distance based algorithms like KNN, or Neural Networks"
   ]
  },
  {
   "cell_type": "markdown",
   "id": "9819beb7",
   "metadata": {},
   "source": [
    "## Converting the binary nominal variable to numeric using 1/0 mapping"
   ]
  },
  {
   "cell_type": "code",
   "execution_count": 46,
   "id": "3a3923f2",
   "metadata": {},
   "outputs": [],
   "source": [
    "# Converting the binary nominal variable Type to numeric\n",
    "DataForML['Type'].replace({'L':1, 'M':2, 'H':3}, inplace=True)"
   ]
  },
  {
   "cell_type": "markdown",
   "id": "00928900",
   "metadata": {},
   "source": [
    "## Converting the nominal variable to numeric using get_dummies()"
   ]
  },
  {
   "cell_type": "code",
   "execution_count": 47,
   "id": "65372372",
   "metadata": {},
   "outputs": [
    {
     "data": {
      "text/html": [
       "<div>\n",
       "<style scoped>\n",
       "    .dataframe tbody tr th:only-of-type {\n",
       "        vertical-align: middle;\n",
       "    }\n",
       "\n",
       "    .dataframe tbody tr th {\n",
       "        vertical-align: top;\n",
       "    }\n",
       "\n",
       "    .dataframe thead th {\n",
       "        text-align: right;\n",
       "    }\n",
       "</style>\n",
       "<table border=\"1\" class=\"dataframe\">\n",
       "  <thead>\n",
       "    <tr style=\"text-align: right;\">\n",
       "      <th></th>\n",
       "      <th>Type</th>\n",
       "      <th>Air temperature [K]</th>\n",
       "      <th>Process temperature [K]</th>\n",
       "      <th>Rotational speed [rpm]</th>\n",
       "      <th>Torque [Nm]</th>\n",
       "      <th>Tool wear [min]</th>\n",
       "      <th>Failure Type</th>\n",
       "    </tr>\n",
       "  </thead>\n",
       "  <tbody>\n",
       "    <tr>\n",
       "      <th>0</th>\n",
       "      <td>2</td>\n",
       "      <td>298.1</td>\n",
       "      <td>308.6</td>\n",
       "      <td>1551</td>\n",
       "      <td>42.8</td>\n",
       "      <td>0</td>\n",
       "      <td>0</td>\n",
       "    </tr>\n",
       "    <tr>\n",
       "      <th>1</th>\n",
       "      <td>1</td>\n",
       "      <td>298.2</td>\n",
       "      <td>308.7</td>\n",
       "      <td>1408</td>\n",
       "      <td>46.3</td>\n",
       "      <td>3</td>\n",
       "      <td>0</td>\n",
       "    </tr>\n",
       "    <tr>\n",
       "      <th>2</th>\n",
       "      <td>1</td>\n",
       "      <td>298.1</td>\n",
       "      <td>308.5</td>\n",
       "      <td>1498</td>\n",
       "      <td>49.4</td>\n",
       "      <td>5</td>\n",
       "      <td>0</td>\n",
       "    </tr>\n",
       "    <tr>\n",
       "      <th>3</th>\n",
       "      <td>1</td>\n",
       "      <td>298.2</td>\n",
       "      <td>308.6</td>\n",
       "      <td>1433</td>\n",
       "      <td>39.5</td>\n",
       "      <td>7</td>\n",
       "      <td>0</td>\n",
       "    </tr>\n",
       "    <tr>\n",
       "      <th>4</th>\n",
       "      <td>1</td>\n",
       "      <td>298.2</td>\n",
       "      <td>308.7</td>\n",
       "      <td>1408</td>\n",
       "      <td>40.0</td>\n",
       "      <td>9</td>\n",
       "      <td>0</td>\n",
       "    </tr>\n",
       "  </tbody>\n",
       "</table>\n",
       "</div>"
      ],
      "text/plain": [
       "   Type  Air temperature [K]  Process temperature [K]  Rotational speed [rpm]  \\\n",
       "0     2                298.1                    308.6                    1551   \n",
       "1     1                298.2                    308.7                    1408   \n",
       "2     1                298.1                    308.5                    1498   \n",
       "3     1                298.2                    308.6                    1433   \n",
       "4     1                298.2                    308.7                    1408   \n",
       "\n",
       "   Torque [Nm]  Tool wear [min]  Failure Type  \n",
       "0         42.8                0             0  \n",
       "1         46.3                3             0  \n",
       "2         49.4                5             0  \n",
       "3         39.5                7             0  \n",
       "4         40.0                9             0  "
      ]
     },
     "execution_count": 47,
     "metadata": {},
     "output_type": "execute_result"
    }
   ],
   "source": [
    "# Treating all the nominal variables at once using dummy variables\n",
    "DataForML_Numeric=pd.get_dummies(DataForML)\n",
    "\n",
    "# Adding Target Variable to the data\n",
    "DataForML_Numeric['Failure Type']=PredictiveMaintenance['Failure Type']\n",
    "\n",
    "# Printing sample rows\n",
    "DataForML_Numeric.head()"
   ]
  },
  {
   "cell_type": "markdown",
   "id": "8d37b53e",
   "metadata": {},
   "source": [
    "# Machine Learning: Splitting the data into Training and Testing sample\n",
    "We dont use the full data for creating the model. Some data is randomly selected and kept aside for checking how good the model is. This is known as Testing Data and the remaining data is called Training data on which the model is built. Typically 70% of data is used as Training data and the rest 30% is used as Tesing data."
   ]
  },
  {
   "cell_type": "code",
   "execution_count": 48,
   "id": "39073a04",
   "metadata": {},
   "outputs": [
    {
     "data": {
      "text/plain": [
       "Index(['Type', 'Air temperature [K]', 'Process temperature [K]',\n",
       "       'Rotational speed [rpm]', 'Torque [Nm]', 'Tool wear [min]',\n",
       "       'Failure Type'],\n",
       "      dtype='object')"
      ]
     },
     "execution_count": 48,
     "metadata": {},
     "output_type": "execute_result"
    }
   ],
   "source": [
    "# Printing all the column names forour reference\n",
    "DataForML_Numeric.columns"
   ]
  },
  {
   "cell_type": "code",
   "execution_count": 49,
   "id": "15f1b0a2",
   "metadata": {},
   "outputs": [],
   "source": [
    "# Separate Target Variable and Predictor variable\n",
    "TargetVariable='Failure Type'\n",
    "Predictors=['Type', 'Air temperature [K]', 'Process temperature [K]', 'Rotational speed [rpm]', 'Torque [Nm]', 'Tool wear [min]']\n",
    "\n",
    "X=DataForML_Numeric[Predictors].values\n",
    "y=DataForML_Numeric[TargetVariable].values\n",
    "\n",
    "# Split the data into training and testing set\n",
    "from sklearn.model_selection import train_test_split\n",
    "X_train, X_test, y_train, y_test = train_test_split(X, y, test_size=0.3, random_state=20)"
   ]
  },
  {
   "cell_type": "code",
   "execution_count": null,
   "id": "c9e3b2fe",
   "metadata": {},
   "outputs": [],
   "source": []
  },
  {
   "cell_type": "markdown",
   "id": "08c06209",
   "metadata": {},
   "source": [
    "# Logistic Regression"
   ]
  },
  {
   "cell_type": "code",
   "execution_count": 50,
   "id": "0c0a8df0",
   "metadata": {
    "scrolled": false
   },
   "outputs": [
    {
     "name": "stdout",
     "output_type": "stream",
     "text": [
      "LogisticRegression(C=10, solver='newton-cg')\n",
      "   Type  Air temperature [K]  Process temperature [K]  Rotational speed [rpm]  \\\n",
      "0   1.0                298.1                    307.8                  1606.0   \n",
      "1   1.0                297.9                    307.3                  1502.0   \n",
      "2   2.0                299.4                    309.0                  1381.0   \n",
      "3   1.0                298.3                    308.4                  1408.0   \n",
      "4   2.0                300.2                    309.6                  1556.0   \n",
      "\n",
      "   Torque [Nm]  Tool wear [min]  Failure Type  Predicted_Failure Type  \n",
      "0         33.0            130.0             0                       0  \n",
      "1         36.7             12.0             0                       0  \n",
      "2         44.9             88.0             0                       0  \n",
      "3         43.1            177.0             0                       0  \n",
      "4         35.8             36.0             0                       0  \n",
      "              precision    recall  f1-score   support\n",
      "\n",
      "           0       0.98      1.00      0.99      2901\n",
      "           1       0.64      0.56      0.60        25\n",
      "           2       0.75      0.68      0.71        22\n",
      "           3       0.80      0.59      0.68        27\n",
      "           4       0.00      0.00      0.00         7\n",
      "           5       0.00      0.00      0.00        18\n",
      "\n",
      "    accuracy                           0.98      3000\n",
      "   macro avg       0.53      0.47      0.50      3000\n",
      "weighted avg       0.97      0.98      0.97      3000\n",
      "\n",
      "[[2890   11    7    6    7   17]\n",
      " [   7   14    0    1    0    0]\n",
      " [   0    0   15    4    0    1]\n",
      " [   4    0    0   16    0    0]\n",
      " [   0    0    0    0    0    0]\n",
      " [   0    0    0    0    0    0]]\n",
      "Accuracy of the model on Testing Sample Data: 0.97\n",
      "\n",
      "Accuracy values for 10-fold Cross Validation:\n",
      " [0.95365025 0.97661417]\n",
      "\n",
      "Final Average Accuracy of the model: 0.97\n"
     ]
    }
   ],
   "source": [
    "# Logistic Regression\n",
    "from sklearn.linear_model import LogisticRegression\n",
    "# choose parameter Penalty='l1' or C=1\n",
    "# choose different values for solver 'newton-cg', 'lbfgs', 'liblinear', 'sag', 'saga'\n",
    "clf = LogisticRegression(C=10, penalty='l2', solver='newton-cg')\n",
    "\n",
    "# Printing all the parameters of logistic regression\n",
    "print(clf)\n",
    "\n",
    "# Creating the model on Training Data\n",
    "LOG=clf.fit(X_train, y_train)\n",
    "\n",
    "# Generating predictions on testing data\n",
    "prediction=LOG.predict(X_test)\n",
    "# Printing sample values of prediction in Testing data\n",
    "TestingData=pd.DataFrame(data=X_test, columns=Predictors)\n",
    "TestingData['Failure Type']=y_test\n",
    "TestingData['Predicted_Failure Type']=prediction\n",
    "print(TestingData.head())\n",
    "\n",
    "# Measuring accuracy on Testing Data\n",
    "from sklearn import metrics\n",
    "print(metrics.classification_report(y_test, prediction))\n",
    "print(metrics.confusion_matrix(prediction, y_test))\n",
    "\n",
    "# Printing the Overall Accuracy of the model\n",
    "F1_Score=metrics.f1_score(y_test, prediction, average='weighted')\n",
    "print('Accuracy of the model on Testing Sample Data:', round(F1_Score, 2))\n",
    "\n",
    "# Importing cross validation function from sklearn\n",
    "from sklearn.model_selection import cross_val_score\n",
    "\n",
    "# Running 10-Fold Cross validation on a given algorithm\n",
    "# Passing full data X and y because the K-fold will split the data and automatically choose train/test\n",
    "Accuracy_Values=cross_val_score(LOG, X, y, cv=2, scoring='f1_weighted')\n",
    "print('\\nAccuracy values for 10-fold Cross Validation:\\n', Accuracy_Values)\n",
    "\n",
    "# Precision Score\n",
    "print('\\nFinal Average Accuracy of the model:', round(Accuracy_Values.mean(),2))"
   ]
  },
  {
   "cell_type": "code",
   "execution_count": null,
   "id": "a2c97371",
   "metadata": {},
   "outputs": [],
   "source": []
  },
  {
   "cell_type": "markdown",
   "id": "40b443ee",
   "metadata": {},
   "source": [
    "# Decision Trees"
   ]
  },
  {
   "cell_type": "code",
   "execution_count": 51,
   "id": "c9e420cd",
   "metadata": {},
   "outputs": [
    {
     "name": "stdout",
     "output_type": "stream",
     "text": [
      "DecisionTreeClassifier(criterion='entropy', max_depth=20)\n",
      "              precision    recall  f1-score   support\n",
      "\n",
      "           0       0.99      0.99      0.99      2901\n",
      "           1       0.83      0.96      0.89        25\n",
      "           2       0.65      0.59      0.62        22\n",
      "           3       0.95      0.74      0.83        27\n",
      "           4       0.00      0.00      0.00         7\n",
      "           5       0.00      0.00      0.00        18\n",
      "\n",
      "    accuracy                           0.98      3000\n",
      "   macro avg       0.57      0.55      0.56      3000\n",
      "weighted avg       0.97      0.98      0.98      3000\n",
      "\n",
      "[[2874    3    6    1    6   11]\n",
      " [   0   24    0    0    1    0]\n",
      " [   9    0   13    0    0    0]\n",
      " [   5    2    0   20    0    0]\n",
      " [   7    0    0    0    0    0]\n",
      " [  17    0    1    0    0    0]]\n",
      "Accuracy of the model on Testing Sample Data: 0.98\n",
      "\n",
      "Accuracy values for 10-fold Cross Validation:\n",
      " [0.97771683 0.97629336 0.97984553 0.96948779 0.96201432 0.9590937\n",
      " 0.98020702 0.96644342 0.98067618 0.97461833]\n",
      "\n",
      "Final Average Accuracy of the model: 0.97\n"
     ]
    },
    {
     "data": {
      "image/png": "[encoded data removed]",
      "text/plain": [
       "<Figure size 640x480 with 1 Axes>"
      ]
     },
     "metadata": {},
     "output_type": "display_data"
    }
   ],
   "source": [
    "# Decision Tress\n",
    "from sklearn import tree\n",
    "# choose from different tunable hyper parameters\n",
    "clf = tree.DecisionTreeClassifier(max_depth=20, criterion='entropy')\n",
    "\n",
    "# Printing all the parameters of Decision Trees\n",
    "print(clf)\n",
    "\n",
    "# Creating the model on Training Data\n",
    "DTree=clf.fit(X_train, y_train)\n",
    "prediction=DTree.predict(X_test)\n",
    "\n",
    "# Measuring accuracy on Testing Data\n",
    "from sklearn import metrics\n",
    "print(metrics.classification_report(y_test, prediction))\n",
    "print(metrics.confusion_matrix(y_test, prediction))\n",
    "\n",
    "# Printing the Overall Accuracy of the model\n",
    "F1_Score=metrics.f1_score(y_test, prediction, average='weighted')\n",
    "print('Accuracy of the model on Testing Sample Data:', round(F1_Score,2))\n",
    "\n",
    "# Plotting the feature importance for Top 10 most important columns\n",
    "%matplotlib inline\n",
    "feature_importances = pd.Series(DTree.feature_importances_, index=Predictors)\n",
    "feature_importances.nlargest(10).plot(kind='barh')\n",
    "\n",
    "# Importing cross validation function from slearn\n",
    "from sklearn.model_selection import cross_val_score\n",
    "\n",
    "# Running 10-Fold Cross validation on a given algorithm\n",
    "# Passing full data X and y because the K-fold will split the data and automatically choose train/test\n",
    "Accuracy_Values=cross_val_score(DTree, X, y, cv=10, scoring='f1_weighted')\n",
    "print('\\nAccuracy values for 10-fold Cross Validation:\\n', Accuracy_Values)\n",
    "print('\\nFinal Average Accuracy of the model:', round(Accuracy_Values.mean(),2))"
   ]
  },
  {
   "cell_type": "code",
   "execution_count": null,
   "id": "7ae1f057",
   "metadata": {},
   "outputs": [],
   "source": []
  },
  {
   "cell_type": "markdown",
   "id": "78f600a1",
   "metadata": {},
   "source": [
    "### Random Forest"
   ]
  },
  {
   "cell_type": "code",
   "execution_count": 57,
   "id": "64d96610",
   "metadata": {},
   "outputs": [
    {
     "name": "stdout",
     "output_type": "stream",
     "text": [
      "RandomForestClassifier(max_depth=20, n_estimators=200)\n",
      "              precision    recall  f1-score   support\n",
      "\n",
      "           0       0.98      1.00      0.99      2901\n",
      "           1       0.93      0.56      0.70        25\n",
      "           2       0.77      0.45      0.57        22\n",
      "           3       0.95      0.67      0.78        27\n",
      "           4       0.00      0.00      0.00         7\n",
      "           5       0.00      0.00      0.00        18\n",
      "\n",
      "    accuracy                           0.98      3000\n",
      "   macro avg       0.61      0.45      0.51      3000\n",
      "weighted avg       0.97      0.98      0.98      3000\n",
      "\n",
      "[[2900    0    0    1    0    0]\n",
      " [  11   14    0    0    0    0]\n",
      " [  11    1   10    0    0    0]\n",
      " [   7    0    2   18    0    0]\n",
      " [   7    0    0    0    0    0]\n",
      " [  17    0    1    0    0    0]]\n",
      "Accuracy of the model on Testing Sample Data: 0.98\n",
      "\n",
      "Accuracy values for 10-fold Cross Validation:\n",
      " [0.92339685 0.97339678 0.97148909 0.97109866 0.9693624  0.96963051\n",
      " 0.97904418 0.96393333 0.9773246  0.96496939]\n",
      "\n",
      "Final Average Accuracy of the model: 0.97\n"
     ]
    },
    {
     "data": {
      "text/plain": [
       "<Axes: >"
      ]
     },
     "execution_count": 57,
     "metadata": {},
     "output_type": "execute_result"
    },
    {
     "data": {
      "image/png": "[encoded data removed]",
      "text/plain": [
       "<Figure size 640x480 with 1 Axes>"
      ]
     },
     "metadata": {},
     "output_type": "display_data"
    }
   ],
   "source": [
    "# Random Forest (Bagging of multiple Decision Trees)\n",
    "from sklearn.ensemble import RandomForestClassifier\n",
    "# Choose different hyperparameter values of max_depth, n_estimators and criterion to tune the model\n",
    "clf = RandomForestClassifier(max_depth=20, n_estimators=200, criterion='gini')\n",
    "\n",
    "# Printing all the parameters of Random Forest\n",
    "print(clf)\n",
    "\n",
    "# Creating the model on Training Data\n",
    "RF=clf.fit(X_train, y_train)\n",
    "prediction=RF.predict(X_test)\n",
    "\n",
    "# Measuring accuracy on Testing Data\n",
    "from sklearn import metrics\n",
    "print(metrics.classification_report(y_test, prediction))\n",
    "print(metrics.confusion_matrix(y_test, prediction))\n",
    "\n",
    "# Printing the Overall Accuracy of the model\n",
    "F1_Score=metrics.f1_score(y_test, prediction, average='weighted')\n",
    "print('Accuracy of the model on Testing Sample Data:', round(F1_Score,2))\n",
    "\n",
    "# Importing cross validation function from sklearn\n",
    "from sklearn.model_selection import cross_val_score\n",
    "\n",
    "# Running 10-Fold Cross validation on a given algorithm\n",
    "# Passing full data X and y because the K-fold will split the data and automatically choose train/test\n",
    "Accuracy_Values=cross_val_score(RF, X, y, cv=10, scoring='f1_weighted')\n",
    "print('\\nAccuracy values for 10-fold Cross Validation:\\n', Accuracy_Values)\n",
    "print('\\nFinal Average Accuracy of the model:', round(Accuracy_Values.mean(),2))\n",
    "\n",
    "# Plotting the feature importance for Top 10 most important columns\n",
    "%matplotlib inline\n",
    "feature_importances = pd.Series(RF.feature_importances_, index=Predictors)\n",
    "feature_importances.nlargest(10).plot(kind='barh')"
   ]
  },
  {
   "cell_type": "code",
   "execution_count": null,
   "id": "7a99550d",
   "metadata": {},
   "outputs": [],
   "source": []
  },
  {
   "cell_type": "markdown",
   "id": "09b2b8a2",
   "metadata": {},
   "source": [
    "### AdaBoost"
   ]
  },
  {
   "cell_type": "code",
   "execution_count": 58,
   "id": "59c32991",
   "metadata": {
    "scrolled": false
   },
   "outputs": [
    {
     "name": "stdout",
     "output_type": "stream",
     "text": [
      "AdaBoostClassifier(base_estimator=DecisionTreeClassifier(max_depth=3),\n",
      "                   learning_rate=0.01, n_estimators=100)\n",
      "              precision    recall  f1-score   support\n",
      "\n",
      "           0       0.97      1.00      0.99      2901\n",
      "           1       0.00      0.00      0.00        25\n",
      "           2       0.67      0.36      0.47        22\n",
      "           3       1.00      0.15      0.26        27\n",
      "           4       0.00      0.00      0.00         7\n",
      "           5       0.00      0.00      0.00        18\n",
      "\n",
      "    accuracy                           0.97      3000\n",
      "   macro avg       0.44      0.25      0.29      3000\n",
      "weighted avg       0.95      0.97      0.96      3000\n",
      "\n",
      "[[2899    0    2    0    0    0]\n",
      " [  25    0    0    0    0    0]\n",
      " [  12    2    8    0    0    0]\n",
      " [  21    0    2    4    0    0]\n",
      " [   7    0    0    0    0    0]\n",
      " [  18    0    0    0    0    0]]\n",
      "Accuracy of the model on Testing Sample Data: 0.96\n",
      "\n",
      "Accuracy values for 10-fold Cross Validation\n",
      " [0.95860534 0.95256057 0.95241169 0.95361554 0.94972945 0.95037738\n",
      " 0.95528608 0.95362459 0.95602959 0.95890518]\n",
      "\n",
      "Final Average Accuracy of the model:\n",
      " 0.95\n"
     ]
    },
    {
     "data": {
      "text/plain": [
       "<Axes: >"
      ]
     },
     "execution_count": 58,
     "metadata": {},
     "output_type": "execute_result"
    },
    {
     "data": {
      "image/png": "[encoded data removed]",
      "text/plain": [
       "<Figure size 640x480 with 1 Axes>"
      ]
     },
     "metadata": {},
     "output_type": "display_data"
    }
   ],
   "source": [
    "# AdaBoost\n",
    "from sklearn.ensemble import AdaBoostClassifier\n",
    "from sklearn.tree import DecisionTreeClassifier\n",
    "\n",
    "# Choosing Decision Tree with 1 level as the weak learner\n",
    "DTC=DecisionTreeClassifier(max_depth=3)\n",
    "clf = AdaBoostClassifier(n_estimators=100, base_estimator=DTC, learning_rate=0.01)\n",
    "\n",
    "# Printing all the parameters of AdaBoost\n",
    "print(clf)\n",
    "\n",
    "# Creating the model on Training Data\n",
    "AB=clf.fit(X_train, y_train)\n",
    "prediction=AB.predict(X_test)\n",
    "\n",
    "# Measuring accuracy on Testing Data\n",
    "from sklearn import metrics\n",
    "print(metrics.classification_report(y_test, prediction))\n",
    "print(metrics.confusion_matrix(y_test, prediction))\n",
    "\n",
    "# Printing the Overall Accuracy of the model\n",
    "F1_Score=metrics.f1_score(y_test, prediction, average='weighted')\n",
    "print('Accuracy of the model on Testing Sample Data:', round(F1_Score,2))\n",
    "\n",
    "# Importing cross validation function from sklearn\n",
    "from sklearn.model_selection import cross_val_score\n",
    "\n",
    "# Running 10-fold cross validation on a given algorithm\n",
    "# Passing full data X and y because the k-fold will split the data and automatically choose train/test\n",
    "Accuracy_Values=cross_val_score(AB, X, y, cv=10, scoring='f1_weighted')\n",
    "print('\\nAccuracy values for 10-fold Cross Validation\\n', Accuracy_Values)\n",
    "print('\\nFinal Average Accuracy of the model:\\n', round(Accuracy_Values.mean(),2))\n",
    "\n",
    "# Plotting the feature importance for Top 10 most important columns\n",
    "%matplotlib inline\n",
    "feature_importances = pd.Series(AB.feature_importances_, index=Predictors)\n",
    "feature_importances.nlargest(10).plot(kind='barh')"
   ]
  },
  {
   "cell_type": "code",
   "execution_count": null,
   "id": "303fdbc4",
   "metadata": {},
   "outputs": [],
   "source": []
  },
  {
   "cell_type": "markdown",
   "id": "21d29687",
   "metadata": {},
   "source": [
    "### XGBoost"
   ]
  },
  {
   "cell_type": "code",
   "execution_count": 59,
   "id": "4b28bfdf",
   "metadata": {
    "scrolled": false
   },
   "outputs": [
    {
     "name": "stdout",
     "output_type": "stream",
     "text": [
      "Requirement already satisfied: xgboost in c:\\users\\lenovo\\anaconda3\\lib\\site-packages (2.0.2)\n",
      "Requirement already satisfied: numpy in c:\\users\\lenovo\\anaconda3\\lib\\site-packages (from xgboost) (1.24.3)\n",
      "Requirement already satisfied: scipy in c:\\users\\lenovo\\anaconda3\\lib\\site-packages (from xgboost) (1.11.1)\n",
      "XGBClassifier(base_score=None, booster='gbtree', callbacks=None,\n",
      "              colsample_bylevel=None, colsample_bynode=None,\n",
      "              colsample_bytree=None, device=None, early_stopping_rounds=None,\n",
      "              enable_categorical=False, eval_metric=None, feature_types=None,\n",
      "              gamma=None, grow_policy=None, importance_type=None,\n",
      "              interaction_constraints=None, learning_rate=0.1, max_bin=None,\n",
      "              max_cat_threshold=None, max_cat_to_onehot=None,\n",
      "              max_delta_step=None, max_depth=4, max_leaves=None,\n",
      "              min_child_weight=None, missing=nan, monotone_constraints=None,\n",
      "              multi_strategy=None, n_estimators=200, n_jobs=None,\n",
      "              num_parallel_tree=None, random_state=None, ...)\n",
      "              precision    recall  f1-score   support\n",
      "\n",
      "           0       0.99      1.00      0.99      2901\n",
      "           1       0.88      0.92      0.90        25\n",
      "           2       0.79      0.86      0.83        22\n",
      "           3       0.83      0.70      0.76        27\n",
      "           4       0.00      0.00      0.00         7\n",
      "           5       0.00      0.00      0.00        18\n",
      "\n",
      "    accuracy                           0.98      3000\n",
      "   macro avg       0.58      0.58      0.58      3000\n",
      "weighted avg       0.98      0.98      0.98      3000\n",
      "\n",
      "[[2894    1    2    4    0    0]\n",
      " [   2   23    0    0    0    0]\n",
      " [   3    0   19    0    0    0]\n",
      " [   4    2    2   19    0    0]\n",
      " [   7    0    0    0    0    0]\n",
      " [  17    0    1    0    0    0]]\n",
      "Accuracy of the model on Testing Sample Data: 0.98\n",
      "\\Accuarcy values for 10-fold Cross Validation:\n",
      " [0.97297726 0.9706738  0.97355338 0.97464948 0.97121921 0.96687041\n",
      " 0.98190444 0.97794853 0.98366839 0.97541098]\n",
      "\n",
      "Final Average Accuracy of the model: 0.97\n"
     ]
    },
    {
     "data": {
      "text/plain": [
       "<Axes: >"
      ]
     },
     "execution_count": 59,
     "metadata": {},
     "output_type": "execute_result"
    },
    {
     "data": {
      "image/png": "[encoded data removed]",
      "text/plain": [
       "<Figure size 640x480 with 1 Axes>"
      ]
     },
     "metadata": {},
     "output_type": "display_data"
    }
   ],
   "source": [
    "# Xtreme Gradient Boosting (XGBoost)\n",
    "!pip install xgboost\n",
    "\n",
    "from xgboost import XGBClassifier\n",
    "clf=XGBClassifier(max_depth=4, learning_rate=0.1, n_estimators=200, objective='binary:logistic', booster='gbtree')\n",
    "\n",
    "# Printing all the parameters of XgBoost\n",
    "print(clf)\n",
    "\n",
    "# Creating the modelon Training Data\n",
    "XGB=clf.fit(X_train, y_train)\n",
    "prediction=XGB.predict(X_test)\n",
    "\n",
    "# Measuring accuracy on Testing Data\n",
    "from sklearn import metrics\n",
    "print(metrics.classification_report(y_test, prediction))\n",
    "print(metrics.confusion_matrix(y_test, prediction))\n",
    "\n",
    "# Printing the Overall Accuracy of the model\n",
    "F1_Score=metrics.f1_score(y_test, prediction, average='weighted')\n",
    "print('Accuracy of the model on Testing Sample Data:', round(F1_Score,2))\n",
    "\n",
    "# Importing cross validation function from sklearn\n",
    "from sklearn.model_selection import cross_val_score\n",
    "\n",
    "# Running 10-Fold Cross validation on a given algorithm\n",
    "# Passing full data X and y because the K-fold will split the data and automatically choose train/test\n",
    "Accuracy_Values=cross_val_score(XGB, X, y, cv=10, scoring='f1_weighted')\n",
    "print('\\Accuarcy values for 10-fold Cross Validation:\\n', Accuracy_Values)\n",
    "print('\\nFinal Average Accuracy of the model:', round(Accuracy_Values.mean(),2))\n",
    "\n",
    "# Plotting the feature importance for Top 10 most important columns\n",
    "%matplotlib inline\n",
    "feature_importances = pd.Series(XGB.feature_importances_, index=Predictors)\n",
    "feature_importances.nlargest(10).plot(kind='barh')"
   ]
  },
  {
   "cell_type": "code",
   "execution_count": null,
   "id": "3d2a9622",
   "metadata": {},
   "outputs": [],
   "source": []
  },
  {
   "cell_type": "markdown",
   "id": "36c62b40",
   "metadata": {},
   "source": [
    "### KNN"
   ]
  },
  {
   "cell_type": "code",
   "execution_count": 60,
   "id": "9cedf70b",
   "metadata": {},
   "outputs": [
    {
     "name": "stdout",
     "output_type": "stream",
     "text": [
      "KNeighborsClassifier(n_neighbors=4)\n",
      "              precision    recall  f1-score   support\n",
      "\n",
      "           0       0.97      1.00      0.99      2901\n",
      "           1       0.00      0.00      0.00        25\n",
      "           2       0.38      0.23      0.29        22\n",
      "           3       0.78      0.26      0.39        27\n",
      "           4       0.00      0.00      0.00         7\n",
      "           5       0.00      0.00      0.00        18\n",
      "\n",
      "    accuracy                           0.97      3000\n",
      "   macro avg       0.36      0.25      0.28      3000\n",
      "weighted avg       0.95      0.97      0.96      3000\n",
      "\n",
      "[[2895    1    3    2    0    0]\n",
      " [  23    0    2    0    0    0]\n",
      " [  17    0    5    0    0    0]\n",
      " [  17    0    3    7    0    0]\n",
      " [   7    0    0    0    0    0]\n",
      " [  18    0    0    0    0    0]]\n",
      "Accuracy of the model on Testing Sample Data: 0.96\n",
      "\n",
      "Accuracy values for 10-fold cross validation:\n",
      " [0.95474465 0.95245186 0.95848226 0.95304808 0.96071205 0.95348858\n",
      " 0.95407935 0.95486517 0.95468365 0.95072876]\n",
      "\n",
      "Final Average Accuracy of the model: 0.95\n"
     ]
    }
   ],
   "source": [
    "# K-Nearest Neighbor(KNN)\n",
    "from sklearn.neighbors import KNeighborsClassifier\n",
    "clf = KNeighborsClassifier(n_neighbors=4)\n",
    "\n",
    "# Printing all the parameters of KNN\n",
    "print(clf)\n",
    "\n",
    "# Creating the model on Training Data\n",
    "KNN=clf.fit(X_train, y_train)\n",
    "prediction=KNN.predict(X_test)\n",
    "\n",
    "# Measuring accuracy on Testing Data\n",
    "from sklearn import metrics\n",
    "print(metrics.classification_report(y_test, prediction))\n",
    "print(metrics.confusion_matrix(y_test, prediction))\n",
    "\n",
    "# Printing the Overall Accuracy of the model\n",
    "F1_Score=metrics.f1_score(y_test, prediction, average='weighted')\n",
    "print('Accuracy of the model on Testing Sample Data:', round(F1_Score,2))\n",
    "\n",
    "# Importing 10-Fold Cross validation on a given algorithm\n",
    "# Passing full data X and y because the K-fold will split the data and automatically choose train/test\n",
    "Accuracy_Values=cross_val_score(KNN, X, y,cv=10, scoring='f1_weighted')\n",
    "print('\\nAccuracy values for 10-fold cross validation:\\n', Accuracy_Values)\n",
    "print('\\nFinal Average Accuracy of the model:', round(Accuracy_Values.mean(),2))\n",
    "\n",
    "# Plotting the feature importance for Top 10 most important columns\n",
    "# There is no built-in method to get feature importance in KNN"
   ]
  },
  {
   "cell_type": "code",
   "execution_count": null,
   "id": "3d61d8a8",
   "metadata": {},
   "outputs": [],
   "source": []
  },
  {
   "cell_type": "markdown",
   "id": "f401ed77",
   "metadata": {},
   "source": [
    "### Support Vector Machines"
   ]
  },
  {
   "cell_type": "code",
   "execution_count": 61,
   "id": "8d404160",
   "metadata": {},
   "outputs": [
    {
     "name": "stdout",
     "output_type": "stream",
     "text": [
      "Requirement already satisfied: svm in c:\\users\\lenovo\\anaconda3\\lib\\site-packages (0.1.0)\n",
      "Requirement already satisfied: requests in c:\\users\\lenovo\\anaconda3\\lib\\site-packages (from svm) (2.31.0)\n",
      "Requirement already satisfied: colorama in c:\\users\\lenovo\\anaconda3\\lib\\site-packages (from svm) (0.4.6)\n",
      "Requirement already satisfied: xmltodict in c:\\users\\lenovo\\anaconda3\\lib\\site-packages (from svm) (0.13.0)\n",
      "Requirement already satisfied: charset-normalizer<4,>=2 in c:\\users\\lenovo\\anaconda3\\lib\\site-packages (from requests->svm) (2.0.4)\n",
      "Requirement already satisfied: idna<4,>=2.5 in c:\\users\\lenovo\\anaconda3\\lib\\site-packages (from requests->svm) (3.4)\n",
      "Requirement already satisfied: urllib3<3,>=1.21.1 in c:\\users\\lenovo\\anaconda3\\lib\\site-packages (from requests->svm) (1.26.16)\n",
      "Requirement already satisfied: certifi>=2017.4.17 in c:\\users\\lenovo\\anaconda3\\lib\\site-packages (from requests->svm) (2023.11.17)\n",
      "SVC(C=20, gamma=0.01)\n",
      "              precision    recall  f1-score   support\n",
      "\n",
      "           0       0.97      0.98      0.98      2901\n",
      "           1       0.11      0.12      0.12        25\n",
      "           2       0.47      0.36      0.41        22\n",
      "           3       0.67      0.30      0.41        27\n",
      "           4       0.00      0.00      0.00         7\n",
      "           5       0.00      0.00      0.00        18\n",
      "\n",
      "    accuracy                           0.96      3000\n",
      "   macro avg       0.37      0.29      0.32      3000\n",
      "weighted avg       0.95      0.96      0.95      3000\n",
      "\n",
      "[[2855   24    7    4    6    5]\n",
      " [  21    3    1    0    0    0]\n",
      " [  14    0    8    0    0    0]\n",
      " [  18    0    1    8    0    0]\n",
      " [   7    0    0    0    0    0]\n",
      " [  18    0    0    0    0    0]]\n",
      "Accuracy of the model on Testing Sample Data: 0.95\n",
      "\n",
      "Accuracy values for 10-fold Cross Validation:\n",
      " [0.95950684 0.95186929 0.9557554  0.94527848 0.95507001 0.94595072\n",
      " 0.95696895 0.94743315 0.95697113 0.9564633 ]\n",
      "\\Final Average Accuracy of the model: 0.95\n"
     ]
    }
   ],
   "source": [
    "# Support Vector Machines(SVM)\n",
    "!pip install svm\n",
    "\n",
    "from sklearn import svm\n",
    "clf = svm.SVC(C=20, kernel='rbf', gamma=0.01)\n",
    "\n",
    "# Printing all the parameters of SVM\n",
    "print(clf)\n",
    "\n",
    "# Creating the model on Training Data\n",
    "SVM=clf.fit(X_train, y_train)\n",
    "prediction=SVM.predict(X_test)\n",
    "\n",
    "# Measuring accuracy on Testing Data\n",
    "from sklearn import metrics\n",
    "print(metrics.classification_report(y_test, prediction))\n",
    "print(metrics.confusion_matrix(y_test, prediction))\n",
    "\n",
    "# Printing the Overall Accuracy of the model\n",
    "F1_Score=metrics.f1_score(y_test, prediction, average='weighted')\n",
    "print('Accuracy of the model on Testing Sample Data:', round(F1_Score,2))\n",
    "\n",
    "# Importing cross validation on a given algorithm\n",
    "# Passing full data X and y because the k-fold will split the data and automatically choose train/test\n",
    "Accuracy_Values=cross_val_score(SVM, X, y, cv=10, scoring='f1_weighted')\n",
    "print('\\nAccuracy values for 10-fold Cross Validation:\\n', Accuracy_Values)\n",
    "print('\\Final Average Accuracy of the model:', round(Accuracy_Values.mean(),2))\n",
    "\n",
    "# Plotting the feature importance for Top 10 most important columns\n",
    "# The built in attribute SVM.coef_works only for linear kernel\n",
    "\n",
    "%matplotlib inline\n",
    "#feature_importances = pd.Series(SVM.coef_[0], index=Predcitors)\n",
    "#feature_importances.nlargest(10).plot(kind='barh')"
   ]
  },
  {
   "cell_type": "code",
   "execution_count": null,
   "id": "49cb43c5",
   "metadata": {},
   "outputs": [],
   "source": []
  },
  {
   "cell_type": "code",
   "execution_count": 62,
   "id": "99291040",
   "metadata": {},
   "outputs": [
    {
     "name": "stdout",
     "output_type": "stream",
     "text": [
      "hello\n",
      "bye\n"
     ]
    },
    {
     "data": {
      "text/plain": [
       "0.0010004043579101562"
      ]
     },
     "execution_count": 62,
     "metadata": {},
     "output_type": "execute_result"
    }
   ],
   "source": [
    "# Measure the time taken by each cell\n",
    "import time\n",
    "T1=time.time()\n",
    "\n",
    "print('hello')\n",
    "print('bye')\n",
    "\n",
    "T2=time.time()\n",
    "T2-T1"
   ]
  },
  {
   "cell_type": "markdown",
   "id": "92624ce3",
   "metadata": {},
   "source": [
    "### Deployment of the Model\n",
    "\n",
    "Based on the above trials you select that algorithm which produces the best average accuracy. In this case, multiple algorithms have produced similar kind of average accuracy. Hence, we can choose any one of them. \n",
    "\n",
    "I am choosing <b>XGBoost</b> as the final model since it is very fast for this data!\n",
    "\n",
    "In order to deploy the model we follow below steps\n",
    "1. Train the model using 100% data available\n",
    "2. Save the model as a serialized file which can be stored anywhere\n",
    "3. Create a python function which gets integrated with front-end(Tableau/Java Website etc.) to take all the inputs and returns the prediction"
   ]
  },
  {
   "cell_type": "markdown",
   "id": "e6fefbd7",
   "metadata": {},
   "source": [
    "### Choosing the most importnat variables\n",
    "\n",
    "Its beneficial to keep lesser number of predictors for the model while deploying itin production. The lesser predictors you keep,\n",
    "the better because, the model will be less dependent hence, more stable.\n",
    "\n",
    "This is important specially when the data is high dimensional(too many predictor columns).\n",
    "\n",
    "'Type', 'Air temperature [K]', 'Process temperature [K]', 'Rotational speed [rpm]', 'Torque [Nm]', 'Tool wear [min]'. As these are consistently\n",
    "on top of the variable importance chart for every algorithm. Hence choosig these as final set of predcitor variables."
   ]
  },
  {
   "cell_type": "code",
   "execution_count": 64,
   "id": "757bab86",
   "metadata": {},
   "outputs": [
    {
     "name": "stdout",
     "output_type": "stream",
     "text": [
      "(10000, 6)\n",
      "(10000,)\n"
     ]
    }
   ],
   "source": [
    "# Separate Target Variable and Predictor variables\n",
    "TargetVariable='Failure Type'\n",
    "\n",
    "# Selecting the final set of predictors for the deployment\n",
    "# Based on the variable importance charts of multiple algorithms above\n",
    "Predictors=['Type', 'Air temperature [K]', 'Process temperature [K]', 'Rotational speed [rpm]', 'Torque [Nm]', 'Tool wear [min]']\n",
    "\n",
    "X=DataForML_Numeric[Predictors].values\n",
    "y=DataForML_Numeric[TargetVariable].values\n",
    "\n",
    "### Standardization of data ###\n",
    "from sklearn.preprocessing import StandardScaler, MinMaxScaler\n",
    "# Choose either standardization or Normalization\n",
    "# On this data MinMax Normalization produced better results\n",
    "\n",
    "# Choose between standardization and MinMax normalization\n",
    "# PredictorScalar=StandardScalar()\n",
    "PredictorScaler=MinMaxScaler()\n",
    "\n",
    "# Storing the fit object for later reference\n",
    "PredictorScalerFit=PredictorScaler.fit(X)\n",
    "\n",
    "# Generating the standardized values of X\n",
    "X=PredictorScalerFit.transform(X)\n",
    "\n",
    "print(X.shape)\n",
    "print(y.shape)"
   ]
  },
  {
   "cell_type": "markdown",
   "id": "f6b7e2a2",
   "metadata": {},
   "source": [
    "\n",
    "### Step 1. Retraining the model using 100% data"
   ]
  },
  {
   "cell_type": "code",
   "execution_count": 65,
   "id": "5b4d8291",
   "metadata": {},
   "outputs": [],
   "source": [
    "# XGBoost\n",
    "from xgboost import XGBClassifier\n",
    "#choose from different tunable hyper parameter\n",
    "clf=XGBClassifier(max_depth=4, learning_rate=0.1, n_estimators=200, objective='binary:logistic', booster='gbtree')\n",
    "\n",
    "# Training the model on 100% Data available\n",
    "FinalXGBoostModel=clf.fit(X,y)"
   ]
  },
  {
   "cell_type": "markdown",
   "id": "03f670f4",
   "metadata": {},
   "source": [
    "### Cross validating the final model accuracy with less predictors"
   ]
  },
  {
   "cell_type": "code",
   "execution_count": 66,
   "id": "68238d0e",
   "metadata": {},
   "outputs": [
    {
     "name": "stdout",
     "output_type": "stream",
     "text": [
      "\n",
      "Accuracy values for 10-fold Cross Validation:\n",
      " [0.95950684 0.95186929 0.9557554  0.94527848 0.95507001 0.94595072\n",
      " 0.95696895 0.94743315 0.95697113 0.9564633 ]\n",
      "\n",
      "Final Average Accuracy of the model: 0.95\n"
     ]
    }
   ],
   "source": [
    "# Importing cross validation function from sklearn\n",
    "from sklearn.model_selection import cross_val_score\n",
    "# Running 10-Fold Cross validation on a given algorithm\n",
    "# Passing full data X and y because the K-fold will split the data and automatically choose train/test\n",
    "Accuarcy_Values=cross_val_score(FinalXGBoostModel, X, y, cv=10, scoring='f1_weighted')\n",
    "print('\\nAccuracy values for 10-fold Cross Validation:\\n', Accuracy_Values)\n",
    "print('\\nFinal Average Accuracy of the model:', round(Accuracy_Values.mean(),2))"
   ]
  },
  {
   "cell_type": "markdown",
   "id": "08948f10",
   "metadata": {},
   "source": [
    "### Step 2. Save the model as a serialized file which can be stored anywhere"
   ]
  },
  {
   "cell_type": "code",
   "execution_count": 67,
   "id": "3e2e72c3",
   "metadata": {},
   "outputs": [
    {
     "name": "stdout",
     "output_type": "stream",
     "text": [
      "pickle file of Predictive Model is saved at Location: C:\\Users\\Lenovo\\ALL Python ML notebooks\\Machine Predictive Maintenance Classification\n"
     ]
    }
   ],
   "source": [
    "import pickle\n",
    "import os\n",
    "\n",
    "# Saving the python objects as serialized files can be done using pickle library\n",
    "# Here let is save the Final model\n",
    "with open ('FinalXGBoostModel.pkl', 'wb') as fileWriteStream:\n",
    "    pickle.dump(FinalXGBoostModel, fileWriteStream)\n",
    "    # Don't forget to close the filestream!\n",
    "    fileWriteStream.close()\n",
    "    \n",
    "print('pickle file of Predictive Model is saved at Location:', os.getcwd())"
   ]
  },
  {
   "cell_type": "markdown",
   "id": "d582955e",
   "metadata": {},
   "source": [
    "### Step 3. Create a python function"
   ]
  },
  {
   "cell_type": "code",
   "execution_count": 68,
   "id": "ba64a3b5",
   "metadata": {},
   "outputs": [],
   "source": [
    "# This Function can be called from any from any front end tool/website\n",
    "def FunctionPredictResult(InputData):\n",
    "    import pandas as pd\n",
    "    Num_Inputs=InputData.shape[0]\n",
    "    \n",
    "    # Making sure the input data has same columns as itwas used for training the model\n",
    "    # Also, if standardization/normalization was done, then same must be done for new input\n",
    "    \n",
    "    # Appending the new data with the Training data\n",
    "    DataForML=pd.read_pickle('DataForML.pkl')\n",
    "    InputData=pd.concat([DataForML, InputData])\n",
    "    \n",
    "    # PredictorScalerFit.fit(DataForML[Predictors])\n",
    "    \n",
    "    # Converting the binary nominal variable to numeric if any:\n",
    "    InputData['Type'].replace({'L':1, 'M':2, 'H':3}, inplace=True)\n",
    "    \n",
    "    # Generating dummy variables for rest of the nominal variables\n",
    "    InputData=pd.get_dummies(InputData)\n",
    "    \n",
    "    # Maintaining the same order of the columns as it was during the model training\n",
    "    Predictors=['Type', 'Air temperature [K]', 'Process temperature [K]', 'Rotational speed [rpm]', 'Torque [Nm]', 'Tool wear [min]']\n",
    "    \n",
    "    # Generating the input values to the model\n",
    "    X=InputData[Predictors].values[0:Num_Inputs]\n",
    "    \n",
    "    # Generating the standardized values of X since it was done while model training also\n",
    "    X=PredictorScalerFit.transform(X)\n",
    "    \n",
    "    # Loading the function from pickle file\n",
    "    import pickle\n",
    "    with open('FinalXGBoostModel.pkl', 'rb') as fileReadStream:\n",
    "        PredictionModel=pickle.load(fileReadStream)\n",
    "        # Don't forget to close the filestream!\n",
    "        # fileReadStream.close()\n",
    "        \n",
    "    # Generating Predictions\n",
    "    Prediction=PredictionModel.predict(X)\n",
    "    PredictionResult=pd.DataFrame(Prediction, columns=['Predicted Status'])\n",
    "    return(PredictionResult)"
   ]
  },
  {
   "cell_type": "code",
   "execution_count": 91,
   "id": "1695f179",
   "metadata": {},
   "outputs": [
    {
     "name": "stdout",
     "output_type": "stream",
     "text": [
      "   Type  Air temperature [K]  Process temperature [K]  Rotational speed [rpm]  \\\n",
      "0     2                300.8                    309.4                    1342   \n",
      "1     3                298.3                    308.1                    1412   \n",
      "\n",
      "   Torque [Nm]  Tool wear [min]  \n",
      "0         62.4              113  \n",
      "1         52.3              218  \n"
     ]
    },
    {
     "data": {
      "text/html": [
       "<div>\n",
       "<style scoped>\n",
       "    .dataframe tbody tr th:only-of-type {\n",
       "        vertical-align: middle;\n",
       "    }\n",
       "\n",
       "    .dataframe tbody tr th {\n",
       "        vertical-align: top;\n",
       "    }\n",
       "\n",
       "    .dataframe thead th {\n",
       "        text-align: right;\n",
       "    }\n",
       "</style>\n",
       "<table border=\"1\" class=\"dataframe\">\n",
       "  <thead>\n",
       "    <tr style=\"text-align: right;\">\n",
       "      <th></th>\n",
       "      <th>Predicted Status</th>\n",
       "    </tr>\n",
       "  </thead>\n",
       "  <tbody>\n",
       "    <tr>\n",
       "      <th>0</th>\n",
       "      <td>0</td>\n",
       "    </tr>\n",
       "    <tr>\n",
       "      <th>1</th>\n",
       "      <td>0</td>\n",
       "    </tr>\n",
       "  </tbody>\n",
       "</table>\n",
       "</div>"
      ],
      "text/plain": [
       "   Predicted Status\n",
       "0                 0\n",
       "1                 0"
      ]
     },
     "execution_count": 91,
     "metadata": {},
     "output_type": "execute_result"
    }
   ],
   "source": [
    "# Calling the function for some new cases\n",
    "\n",
    "import pandas as pd\n",
    "\n",
    "NewSampleData = pd.DataFrame(\n",
    "    data=[[2, 300.8, 309.4, 1342, 62.4, 113],\n",
    "          [3, 298.3, 308.1, 1412, 52.3, 218]],\n",
    "    columns=['Type', 'Air temperature [K]', 'Process temperature [K]', 'Rotational speed [rpm]',\n",
    "             'Torque [Nm]', 'Tool wear [min]'])\n",
    "\n",
    "print(NewSampleData)\n",
    "\n",
    "# Calling the function for prediction\n",
    "FunctionPredictResult(InputData=NewSampleData)"
   ]
  },
  {
   "cell_type": "markdown",
   "id": "13999535",
   "metadata": {},
   "source": [
    "The Function FunctionPredictResult can be used to produce the predictions for one or more cases at a time. Hence, it can be scheduled using a batch job or cron job to run every night and generate predictions for all the available cases."
   ]
  },
  {
   "cell_type": "code",
   "execution_count": null,
   "id": "2ea875ae",
   "metadata": {},
   "outputs": [],
   "source": []
  },
  {
   "cell_type": "markdown",
   "id": "72da22de",
   "metadata": {},
   "source": [
    "### Deploying a predictive model as an API\n",
    "- Django and flask are two popular ways to deploy predictive models as a web service\n",
    "- You can call your predictive models using a URL from any front end like tableau, java or angular js"
   ]
  },
  {
   "cell_type": "markdown",
   "id": "7afa3377",
   "metadata": {},
   "source": [
    "### Creating the model with few parameters"
   ]
  },
  {
   "cell_type": "markdown",
   "id": "418e09b6",
   "metadata": {},
   "source": [
    "### Function for predictions API"
   ]
  },
  {
   "cell_type": "code",
   "execution_count": 92,
   "id": "6d58a23a",
   "metadata": {
    "scrolled": false
   },
   "outputs": [
    {
     "data": {
      "text/plain": [
       "'{\"Predicted Status\":{\"0\":0}}'"
      ]
     },
     "execution_count": 92,
     "metadata": {},
     "output_type": "execute_result"
    }
   ],
   "source": [
    "# Creating the function which can take inputs and return predictions\n",
    "def FunctionGeneratePrediction(inp_Type, inp_Airtemperature, inp_Processtemperature, inp_Rotationalspeed, inp_Torque, inp_Toolwear):\n",
    "\n",
    "    # Creating a data frame forthe model input\n",
    "    SampleInputData=pd.DataFrame(\n",
    "    data=[[inp_Type, inp_Airtemperature, inp_Processtemperature, inp_Rotationalspeed, inp_Torque, inp_Toolwear]],\n",
    "    columns=['Type', 'Air temperature [K]', 'Processtemperature [K]', 'Rotational speed [rpm]', 'Torque [Nm]', 'Tool wear [min]'])\n",
    "    \n",
    "    # Calling the function defined above using the input parameters\n",
    "    Predictions=FunctionPredictResult(InputData=SampleInputData)\n",
    "    \n",
    "    # Returning the predictions\n",
    "    return(Predictions.to_json())\n",
    "\n",
    "# Function call\n",
    "FunctionGeneratePrediction(inp_Type='M',\n",
    "                             inp_Airtemperature=500,\n",
    "                             inp_Processtemperature=500,\n",
    "                             inp_Rotationalspeed=2000,\n",
    "                             inp_Torque=100,\n",
    "                             inp_Toolwear=150\n",
    "                          )"
   ]
  },
  {
   "cell_type": "code",
   "execution_count": null,
   "id": "ab398ff0",
   "metadata": {},
   "outputs": [],
   "source": []
  },
  {
   "cell_type": "code",
   "execution_count": null,
   "id": "91364c2a",
   "metadata": {},
   "outputs": [],
   "source": []
  },
  {
   "cell_type": "code",
   "execution_count": null,
   "id": "2b0e02c5",
   "metadata": {},
   "outputs": [],
   "source": []
  }
 ],
 "metadata": {
  "kernelspec": {
   "display_name": "Python 3 (ipykernel)",
   "language": "python",
   "name": "python3"
  },
  "language_info": {
   "codemirror_mode": {
    "name": "ipython",
    "version": 3
   },
   "file_extension": ".py",
   "mimetype": "text/x-python",
   "name": "python",
   "nbconvert_exporter": "python",
   "pygments_lexer": "ipython3",
   "version": "3.11.5"
  }
 },
 "nbformat": 4,
 "nbformat_minor": 5
}
