{
 "cells": [
  {
   "cell_type": "code",
   "execution_count": 2,
   "id": "68656fc2",
   "metadata": {},
   "outputs": [],
   "source": [
    "from sklearn.decomposition import PCA\n",
    "import matplotlib.pyplot as plt\n",
    "%matplotlib inline\n",
    "import pandas as pd\n",
    "import numpy as np"
   ]
  },
  {
   "cell_type": "code",
   "execution_count": 3,
   "id": "df9d31a8",
   "metadata": {},
   "outputs": [
    {
     "data": {
      "text/html": [
       "<div>\n",
       "<style scoped>\n",
       "    .dataframe tbody tr th:only-of-type {\n",
       "        vertical-align: middle;\n",
       "    }\n",
       "\n",
       "    .dataframe tbody tr th {\n",
       "        vertical-align: top;\n",
       "    }\n",
       "\n",
       "    .dataframe thead th {\n",
       "        text-align: right;\n",
       "    }\n",
       "</style>\n",
       "<table border=\"1\" class=\"dataframe\">\n",
       "  <thead>\n",
       "    <tr style=\"text-align: right;\">\n",
       "      <th></th>\n",
       "      <th>Sepal.Length</th>\n",
       "      <th>Sepal.Width</th>\n",
       "      <th>Petal.Length</th>\n",
       "      <th>Petal.Width</th>\n",
       "      <th>Species</th>\n",
       "    </tr>\n",
       "  </thead>\n",
       "  <tbody>\n",
       "    <tr>\n",
       "      <th>0</th>\n",
       "      <td>5.1</td>\n",
       "      <td>3.5</td>\n",
       "      <td>1.4</td>\n",
       "      <td>0.2</td>\n",
       "      <td>setosa</td>\n",
       "    </tr>\n",
       "    <tr>\n",
       "      <th>1</th>\n",
       "      <td>4.9</td>\n",
       "      <td>3.0</td>\n",
       "      <td>1.4</td>\n",
       "      <td>0.2</td>\n",
       "      <td>setosa</td>\n",
       "    </tr>\n",
       "    <tr>\n",
       "      <th>2</th>\n",
       "      <td>4.7</td>\n",
       "      <td>3.2</td>\n",
       "      <td>1.3</td>\n",
       "      <td>0.2</td>\n",
       "      <td>setosa</td>\n",
       "    </tr>\n",
       "    <tr>\n",
       "      <th>3</th>\n",
       "      <td>4.6</td>\n",
       "      <td>3.1</td>\n",
       "      <td>1.5</td>\n",
       "      <td>0.2</td>\n",
       "      <td>setosa</td>\n",
       "    </tr>\n",
       "    <tr>\n",
       "      <th>4</th>\n",
       "      <td>5.0</td>\n",
       "      <td>3.6</td>\n",
       "      <td>1.4</td>\n",
       "      <td>0.2</td>\n",
       "      <td>setosa</td>\n",
       "    </tr>\n",
       "  </tbody>\n",
       "</table>\n",
       "</div>"
      ],
      "text/plain": [
       "   Sepal.Length  Sepal.Width  Petal.Length  Petal.Width Species\n",
       "0           5.1          3.5           1.4          0.2  setosa\n",
       "1           4.9          3.0           1.4          0.2  setosa\n",
       "2           4.7          3.2           1.3          0.2  setosa\n",
       "3           4.6          3.1           1.5          0.2  setosa\n",
       "4           5.0          3.6           1.4          0.2  setosa"
      ]
     },
     "execution_count": 3,
     "metadata": {},
     "output_type": "execute_result"
    }
   ],
   "source": [
    "# Load IRIS dataset\n",
    "DataIris = pd.read_csv('C:/Users/Chinmaya/IVY Python ML-Oct 2022/Python Datasets/Classification Datasets/IRIS.csv')\n",
    "DataIris.head()"
   ]
  },
  {
   "cell_type": "code",
   "execution_count": 4,
   "id": "4c441572",
   "metadata": {},
   "outputs": [
    {
     "data": {
      "text/html": [
       "<div>\n",
       "<style scoped>\n",
       "    .dataframe tbody tr th:only-of-type {\n",
       "        vertical-align: middle;\n",
       "    }\n",
       "\n",
       "    .dataframe tbody tr th {\n",
       "        vertical-align: top;\n",
       "    }\n",
       "\n",
       "    .dataframe thead th {\n",
       "        text-align: right;\n",
       "    }\n",
       "</style>\n",
       "<table border=\"1\" class=\"dataframe\">\n",
       "  <thead>\n",
       "    <tr style=\"text-align: right;\">\n",
       "      <th></th>\n",
       "      <th>Sepal.Length</th>\n",
       "      <th>Sepal.Width</th>\n",
       "      <th>Petal.Length</th>\n",
       "      <th>Petal.Width</th>\n",
       "    </tr>\n",
       "  </thead>\n",
       "  <tbody>\n",
       "    <tr>\n",
       "      <th>0</th>\n",
       "      <td>5.1</td>\n",
       "      <td>3.5</td>\n",
       "      <td>1.4</td>\n",
       "      <td>0.2</td>\n",
       "    </tr>\n",
       "    <tr>\n",
       "      <th>1</th>\n",
       "      <td>4.9</td>\n",
       "      <td>3.0</td>\n",
       "      <td>1.4</td>\n",
       "      <td>0.2</td>\n",
       "    </tr>\n",
       "    <tr>\n",
       "      <th>2</th>\n",
       "      <td>4.7</td>\n",
       "      <td>3.2</td>\n",
       "      <td>1.3</td>\n",
       "      <td>0.2</td>\n",
       "    </tr>\n",
       "    <tr>\n",
       "      <th>3</th>\n",
       "      <td>4.6</td>\n",
       "      <td>3.1</td>\n",
       "      <td>1.5</td>\n",
       "      <td>0.2</td>\n",
       "    </tr>\n",
       "    <tr>\n",
       "      <th>4</th>\n",
       "      <td>5.0</td>\n",
       "      <td>3.6</td>\n",
       "      <td>1.4</td>\n",
       "      <td>0.2</td>\n",
       "    </tr>\n",
       "  </tbody>\n",
       "</table>\n",
       "</div>"
      ],
      "text/plain": [
       "   Sepal.Length  Sepal.Width  Petal.Length  Petal.Width\n",
       "0           5.1          3.5           1.4          0.2\n",
       "1           4.9          3.0           1.4          0.2\n",
       "2           4.7          3.2           1.3          0.2\n",
       "3           4.6          3.1           1.5          0.2\n",
       "4           5.0          3.6           1.4          0.2"
      ]
     },
     "execution_count": 4,
     "metadata": {},
     "output_type": "execute_result"
    }
   ],
   "source": [
    "# Keeping the target variable for future references\n",
    "TargetVariable=DataIris['Species']\n",
    "\n",
    "# Dropping the target variable to get only predictors\n",
    "# We will apply PCA only on the predictors\n",
    "OnlyPredictors=DataIris.drop('Species',axis=1)\n",
    "OnlyPredictors.head()"
   ]
  },
  {
   "cell_type": "code",
   "execution_count": 5,
   "id": "ebe6945a",
   "metadata": {},
   "outputs": [
    {
     "name": "stdout",
     "output_type": "stream",
     "text": [
      "[[5.1 3.5 1.4 0.2]\n",
      " [4.9 3.  1.4 0.2]\n",
      " [4.7 3.2 1.3 0.2]\n",
      " [4.6 3.1 1.5 0.2]\n",
      " [5.  3.6 1.4 0.2]\n",
      " [5.4 3.9 1.7 0.4]\n",
      " [4.6 3.4 1.4 0.3]\n",
      " [5.  3.4 1.5 0.2]\n",
      " [4.4 2.9 1.4 0.2]\n",
      " [4.9 3.1 1.5 0.1]]\n",
      "['setosa' 'setosa' 'setosa' 'setosa' 'setosa' 'setosa' 'setosa' 'setosa'\n",
      " 'setosa' 'setosa']\n"
     ]
    }
   ],
   "source": [
    "# Extracting the target variable array y and Predictor variables array X\n",
    "y = TargetVariable.values\n",
    "X = OnlyPredictors.values\n",
    "\n",
    "# Printing top 10 sample values\n",
    "print(X[0:10])\n",
    "print(y[0:10])"
   ]
  },
  {
   "cell_type": "code",
   "execution_count": 6,
   "id": "df7970a3",
   "metadata": {},
   "outputs": [
    {
     "data": {
      "text/plain": [
       "(150, 4)"
      ]
     },
     "execution_count": 6,
     "metadata": {},
     "output_type": "execute_result"
    }
   ],
   "source": [
    "X.shape"
   ]
  },
  {
   "cell_type": "code",
   "execution_count": 7,
   "id": "1c4bc40e",
   "metadata": {},
   "outputs": [
    {
     "name": "stdout",
     "output_type": "stream",
     "text": [
      "[[-2.68  0.32 -0.03 -0.  ]\n",
      " [-2.71 -0.18 -0.21 -0.1 ]\n",
      " [-2.89 -0.14  0.02 -0.02]\n",
      " [-2.75 -0.32  0.03  0.08]\n",
      " [-2.73  0.33  0.09  0.06]\n",
      " [-2.28  0.74  0.17  0.02]\n",
      " [-2.82 -0.09  0.26  0.05]\n",
      " [-2.63  0.16 -0.02  0.05]\n",
      " [-2.89 -0.58  0.02  0.03]\n",
      " [-2.67 -0.11 -0.2   0.06]]\n"
     ]
    }
   ],
   "source": [
    "# Applying PCA\n",
    "# Creating maximum components equal to the total number of columns to analyze all of them\n",
    "pca = PCA(n_components=X.shape[1])\n",
    "\n",
    "# Fitting the data\n",
    "pca_fit=pca.fit(X)\n",
    "\n",
    "# Calculating the principal components\n",
    "reduced_X = pca_fit.transform(X)\n",
    "\n",
    "#4 Columns present in X are now represented by 4 Principal components present in reduced_X\n",
    "print(np.round(reduced_X[0:10],2))"
   ]
  },
  {
   "cell_type": "code",
   "execution_count": 8,
   "id": "9f66242e",
   "metadata": {},
   "outputs": [
    {
     "data": {
      "text/plain": [
       "(150, 4)"
      ]
     },
     "execution_count": 8,
     "metadata": {},
     "output_type": "execute_result"
    }
   ],
   "source": [
    "reduced_X.shape"
   ]
  },
  {
   "cell_type": "code",
   "execution_count": 9,
   "id": "a14de77c",
   "metadata": {},
   "outputs": [
    {
     "name": "stdout",
     "output_type": "stream",
     "text": [
      "[0.92 0.05 0.02 0.01]\n"
     ]
    }
   ],
   "source": [
    "# The amount of variance explained by each principal component\n",
    "var_explained= pca.explained_variance_ratio_\n",
    "print(np.round(var_explained,2))\n",
    "\n",
    "# The first component and second component explain 92% and 5% variance of data respectively"
   ]
  },
  {
   "cell_type": "code",
   "execution_count": 10,
   "id": "1864dd1c",
   "metadata": {},
   "outputs": [
    {
     "name": "stdout",
     "output_type": "stream",
     "text": [
      "[ 92.46  97.77  99.48 100.  ]\n"
     ]
    }
   ],
   "source": [
    "# Cumulative variance explained by each component\n",
    "var_explained_cumulative=np.cumsum(np.round(pca.explained_variance_ratio_, decimals=4)*100)\n",
    "print(var_explained_cumulative)"
   ]
  },
  {
   "cell_type": "code",
   "execution_count": 11,
   "id": "5e5cbe30",
   "metadata": {},
   "outputs": [
    {
     "data": {
      "text/plain": [
       "Text(0, 0.5, '% Variance explained')"
      ]
     },
     "execution_count": 11,
     "metadata": {},
     "output_type": "execute_result"
    },
    {
     "data": {
      "image/png": "[encoded data removed]",
      "text/plain": [
       "<Figure size 640x480 with 1 Axes>"
      ]
     },
     "metadata": {},
     "output_type": "display_data"
    }
   ],
   "source": [
    "# Finding optimal number of Principal components\n",
    "# By looking at the below graph we can see that 3 components are explaining maximum variance in the dataset\n",
    "# The elbow occurs at 3rd principal component\n",
    "plt.plot(range(1,5), var_explained_cumulative )\n",
    "plt.xlabel('Number of components')\n",
    "plt.ylabel('% Variance explained')"
   ]
  },
  {
   "cell_type": "code",
   "execution_count": 12,
   "id": "8938a1bf",
   "metadata": {},
   "outputs": [
    {
     "name": "stdout",
     "output_type": "stream",
     "text": [
      "[[-2.68  0.32 -0.03]\n",
      " [-2.71 -0.18 -0.21]\n",
      " [-2.89 -0.14  0.02]\n",
      " [-2.75 -0.32  0.03]\n",
      " [-2.73  0.33  0.09]\n",
      " [-2.28  0.74  0.17]\n",
      " [-2.82 -0.09  0.26]\n",
      " [-2.63  0.16 -0.02]\n",
      " [-2.89 -0.58  0.02]\n",
      " [-2.67 -0.11 -0.2 ]]\n"
     ]
    }
   ],
   "source": [
    "# Creating final number of Principal components\n",
    "# Choosing 3-Principal components based on above graph\n",
    "pca = PCA(n_components=3)\n",
    "\n",
    "# Fitting the data\n",
    "pca_fit=pca.fit(X)\n",
    "\n",
    "# Calculating the principal components\n",
    "reduced_X = pca_fit.transform(X)\n",
    "\n",
    "# 4 columns present in X are now represented by 3-Principal components present in reduced_X\n",
    "print(np.round(reduced_X[0:10],2))"
   ]
  },
  {
   "cell_type": "code",
   "execution_count": 13,
   "id": "fb35ea8f",
   "metadata": {},
   "outputs": [
    {
     "name": "stdout",
     "output_type": "stream",
     "text": [
      "[[ 0.36138659 -0.08452251  0.85667061  0.3582892 ]\n",
      " [ 0.65658877  0.73016143 -0.17337266 -0.07548102]\n",
      " [-0.58202985  0.59791083  0.07623608  0.54583143]]\n"
     ]
    }
   ],
   "source": [
    "# Printing the factor loadings\n",
    "# The co-efficient which is multiplied with each column to get 3 Principal components\n",
    "# For example PC1 = 0.36*(Sepal.Length) - 0.08*(Sepal.Width) + 0.85*(Petal.Length) + 0.35*(Petal.Width)\n",
    "loadings = pca.components_\n",
    "print(loadings)"
   ]
  },
  {
   "cell_type": "code",
   "execution_count": 15,
   "id": "a61a9c58",
   "metadata": {},
   "outputs": [
    {
     "data": {
      "text/plain": [
       "0      2.818240\n",
       "1      2.788223\n",
       "2      2.613375\n",
       "3      2.757022\n",
       "4      2.773649\n",
       "         ...   \n",
       "145    7.446475\n",
       "146    7.029532\n",
       "147    7.266711\n",
       "148    7.403307\n",
       "149    6.892554\n",
       "Length: 150, dtype: float64"
      ]
     },
     "execution_count": 15,
     "metadata": {},
     "output_type": "execute_result"
    }
   ],
   "source": [
    "#  Example\n",
    "0.36138659*DataIris['Sepal.Length'] - 0.08452251*DataIris['Sepal.Width'] + 0.85667061*DataIris['Petal.Length'] + 0.3582892*DataIris['Petal.Width']"
   ]
  },
  {
   "cell_type": "code",
   "execution_count": 14,
   "id": "b9d37a16",
   "metadata": {},
   "outputs": [
    {
     "data": {
      "text/html": [
       "<div>\n",
       "<style scoped>\n",
       "    .dataframe tbody tr th:only-of-type {\n",
       "        vertical-align: middle;\n",
       "    }\n",
       "\n",
       "    .dataframe tbody tr th {\n",
       "        vertical-align: top;\n",
       "    }\n",
       "\n",
       "    .dataframe thead th {\n",
       "        text-align: right;\n",
       "    }\n",
       "</style>\n",
       "<table border=\"1\" class=\"dataframe\">\n",
       "  <thead>\n",
       "    <tr style=\"text-align: right;\">\n",
       "      <th></th>\n",
       "      <th>PC1</th>\n",
       "      <th>PC2</th>\n",
       "      <th>PC3</th>\n",
       "      <th>Species</th>\n",
       "    </tr>\n",
       "  </thead>\n",
       "  <tbody>\n",
       "    <tr>\n",
       "      <th>0</th>\n",
       "      <td>-2.684126</td>\n",
       "      <td>0.319397</td>\n",
       "      <td>-0.027915</td>\n",
       "      <td>setosa</td>\n",
       "    </tr>\n",
       "    <tr>\n",
       "      <th>1</th>\n",
       "      <td>-2.714142</td>\n",
       "      <td>-0.177001</td>\n",
       "      <td>-0.210464</td>\n",
       "      <td>setosa</td>\n",
       "    </tr>\n",
       "    <tr>\n",
       "      <th>2</th>\n",
       "      <td>-2.888991</td>\n",
       "      <td>-0.144949</td>\n",
       "      <td>0.017900</td>\n",
       "      <td>setosa</td>\n",
       "    </tr>\n",
       "    <tr>\n",
       "      <th>3</th>\n",
       "      <td>-2.745343</td>\n",
       "      <td>-0.318299</td>\n",
       "      <td>0.031559</td>\n",
       "      <td>setosa</td>\n",
       "    </tr>\n",
       "    <tr>\n",
       "      <th>4</th>\n",
       "      <td>-2.728717</td>\n",
       "      <td>0.326755</td>\n",
       "      <td>0.090079</td>\n",
       "      <td>setosa</td>\n",
       "    </tr>\n",
       "  </tbody>\n",
       "</table>\n",
       "</div>"
      ],
      "text/plain": [
       "        PC1       PC2       PC3 Species\n",
       "0 -2.684126  0.319397 -0.027915  setosa\n",
       "1 -2.714142 -0.177001 -0.210464  setosa\n",
       "2 -2.888991 -0.144949  0.017900  setosa\n",
       "3 -2.745343 -0.318299  0.031559  setosa\n",
       "4 -2.728717  0.326755  0.090079  setosa"
      ]
     },
     "execution_count": 14,
     "metadata": {},
     "output_type": "execute_result"
    }
   ],
   "source": [
    "ReducedIris=pd.DataFrame(reduced_X, columns=['PC1','PC2','PC3'])\n",
    "ReducedIris['Species']=y\n",
    "ReducedIris.head()"
   ]
  },
  {
   "cell_type": "code",
   "execution_count": 16,
   "id": "cfce010e",
   "metadata": {},
   "outputs": [
    {
     "data": {
      "text/html": [
       "<div>\n",
       "<style scoped>\n",
       "    .dataframe tbody tr th:only-of-type {\n",
       "        vertical-align: middle;\n",
       "    }\n",
       "\n",
       "    .dataframe tbody tr th {\n",
       "        vertical-align: top;\n",
       "    }\n",
       "\n",
       "    .dataframe thead th {\n",
       "        text-align: right;\n",
       "    }\n",
       "</style>\n",
       "<table border=\"1\" class=\"dataframe\">\n",
       "  <thead>\n",
       "    <tr style=\"text-align: right;\">\n",
       "      <th></th>\n",
       "      <th>PC1</th>\n",
       "      <th>PC2</th>\n",
       "      <th>PC3</th>\n",
       "    </tr>\n",
       "  </thead>\n",
       "  <tbody>\n",
       "    <tr>\n",
       "      <th>PC1</th>\n",
       "      <td>1.000000e+00</td>\n",
       "      <td>1.228066e-15</td>\n",
       "      <td>1.271111e-15</td>\n",
       "    </tr>\n",
       "    <tr>\n",
       "      <th>PC2</th>\n",
       "      <td>1.228066e-15</td>\n",
       "      <td>1.000000e+00</td>\n",
       "      <td>8.112912e-18</td>\n",
       "    </tr>\n",
       "    <tr>\n",
       "      <th>PC3</th>\n",
       "      <td>1.271111e-15</td>\n",
       "      <td>8.112912e-18</td>\n",
       "      <td>1.000000e+00</td>\n",
       "    </tr>\n",
       "  </tbody>\n",
       "</table>\n",
       "</div>"
      ],
      "text/plain": [
       "              PC1           PC2           PC3\n",
       "PC1  1.000000e+00  1.228066e-15  1.271111e-15\n",
       "PC2  1.228066e-15  1.000000e+00  8.112912e-18\n",
       "PC3  1.271111e-15  8.112912e-18  1.000000e+00"
      ]
     },
     "execution_count": 16,
     "metadata": {},
     "output_type": "execute_result"
    }
   ],
   "source": [
    "# Now any machine learning classification algorithm can be used on above data\n",
    "# Corelation between any two PC will be zero\n",
    "ReducedIris.corr()"
   ]
  },
  {
   "cell_type": "code",
   "execution_count": null,
   "id": "d3922b58",
   "metadata": {},
   "outputs": [],
   "source": []
  },
  {
   "cell_type": "code",
   "execution_count": 19,
   "id": "40532274",
   "metadata": {},
   "outputs": [],
   "source": [
    "# Inverse transform\n",
    "# We can get the original data from the principal components using inverse transform\n",
    "OriginalData=pca_fit.inverse_transform(reduced_X)"
   ]
  },
  {
   "cell_type": "code",
   "execution_count": 20,
   "id": "935e69f8",
   "metadata": {},
   "outputs": [
    {
     "data": {
      "text/plain": [
       "array([[5.09928623, 3.50072335, 1.40108561, 0.1982949 ],\n",
       "       [4.86875839, 3.03166108, 1.4475168 , 0.12536791],\n",
       "       [4.69370023, 3.20638436, 1.30958161, 0.18495067],\n",
       "       [4.6238432 , 3.07583667, 1.46373578, 0.25695828],\n",
       "       [5.0193263 , 3.58041421, 1.37060574, 0.24616799],\n",
       "       [5.40763506, 3.89226243, 1.68838749, 0.41823916],\n",
       "       [4.61518853, 3.38460754, 1.37689906, 0.33628341],\n",
       "       [5.0142909 , 3.38551722, 1.47826432, 0.23413908],\n",
       "       [4.40843762, 2.89144909, 1.38716683, 0.22015637],\n",
       "       [4.91776048, 3.08200106, 1.47298727, 0.14242745]])"
      ]
     },
     "execution_count": 20,
     "metadata": {},
     "output_type": "execute_result"
    }
   ],
   "source": [
    "# Printing sample rows\n",
    "OriginalData[0:10]"
   ]
  },
  {
   "cell_type": "code",
   "execution_count": 21,
   "id": "64998c65",
   "metadata": {},
   "outputs": [
    {
     "data": {
      "text/html": [
       "<div>\n",
       "<style scoped>\n",
       "    .dataframe tbody tr th:only-of-type {\n",
       "        vertical-align: middle;\n",
       "    }\n",
       "\n",
       "    .dataframe tbody tr th {\n",
       "        vertical-align: top;\n",
       "    }\n",
       "\n",
       "    .dataframe thead th {\n",
       "        text-align: right;\n",
       "    }\n",
       "</style>\n",
       "<table border=\"1\" class=\"dataframe\">\n",
       "  <thead>\n",
       "    <tr style=\"text-align: right;\">\n",
       "      <th></th>\n",
       "      <th>Sepal.Length</th>\n",
       "      <th>Sepal.Width</th>\n",
       "      <th>Petal.Length</th>\n",
       "      <th>Petal.Width</th>\n",
       "    </tr>\n",
       "  </thead>\n",
       "  <tbody>\n",
       "    <tr>\n",
       "      <th>0</th>\n",
       "      <td>5.1</td>\n",
       "      <td>3.5</td>\n",
       "      <td>1.4</td>\n",
       "      <td>0.2</td>\n",
       "    </tr>\n",
       "    <tr>\n",
       "      <th>1</th>\n",
       "      <td>4.9</td>\n",
       "      <td>3.0</td>\n",
       "      <td>1.4</td>\n",
       "      <td>0.2</td>\n",
       "    </tr>\n",
       "    <tr>\n",
       "      <th>2</th>\n",
       "      <td>4.7</td>\n",
       "      <td>3.2</td>\n",
       "      <td>1.3</td>\n",
       "      <td>0.2</td>\n",
       "    </tr>\n",
       "    <tr>\n",
       "      <th>3</th>\n",
       "      <td>4.6</td>\n",
       "      <td>3.1</td>\n",
       "      <td>1.5</td>\n",
       "      <td>0.2</td>\n",
       "    </tr>\n",
       "    <tr>\n",
       "      <th>4</th>\n",
       "      <td>5.0</td>\n",
       "      <td>3.6</td>\n",
       "      <td>1.4</td>\n",
       "      <td>0.2</td>\n",
       "    </tr>\n",
       "  </tbody>\n",
       "</table>\n",
       "</div>"
      ],
      "text/plain": [
       "   Sepal.Length  Sepal.Width  Petal.Length  Petal.Width\n",
       "0           5.1          3.5           1.4          0.2\n",
       "1           4.9          3.0           1.4          0.2\n",
       "2           4.7          3.2           1.3          0.2\n",
       "3           4.6          3.1           1.5          0.2\n",
       "4           5.0          3.6           1.4          0.2"
      ]
     },
     "execution_count": 21,
     "metadata": {},
     "output_type": "execute_result"
    }
   ],
   "source": [
    "# Comparing the above array with the original data\n",
    "OnlyPredictors.head()"
   ]
  },
  {
   "cell_type": "code",
   "execution_count": null,
   "id": "5ba594ac",
   "metadata": {},
   "outputs": [],
   "source": []
  }
 ],
 "metadata": {
  "kernelspec": {
   "display_name": "Python 3 (ipykernel)",
   "language": "python",
   "name": "python3"
  },
  "language_info": {
   "codemirror_mode": {
    "name": "ipython",
    "version": 3
   },
   "file_extension": ".py",
   "mimetype": "text/x-python",
   "name": "python",
   "nbconvert_exporter": "python",
   "pygments_lexer": "ipython3",
   "version": "3.9.13"
  }
 },
 "nbformat": 4,
 "nbformat_minor": 5
}
